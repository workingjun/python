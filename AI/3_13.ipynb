{
 "cells": [
  {
   "cell_type": "markdown",
   "metadata": {},
   "source": [
    "### 인공지능 기초 설계 \n",
    "#### 1교시 "
   ]
  },
  {
   "cell_type": "code",
   "execution_count": 1,
   "metadata": {},
   "outputs": [
    {
     "name": "stdout",
     "output_type": "stream",
     "text": [
      "[0] inference: benign\n",
      "[1] inference: benign\n",
      "[2] inference: benign\n",
      "[3] inference: benign\n",
      "[4] inference: benign\n",
      "[5] inference: benign\n",
      "[6] inference: benign\n",
      "[7] inference: benign\n",
      "[8] inference: malignant\n",
      "[9] inference: malignant\n",
      "[10] inference: malignant\n",
      "[11] inference: malignant\n",
      "[12] inference: malignant\n",
      "[13] inference: malignant\n"
     ]
    }
   ],
   "source": [
    "import numpy as np\n",
    "if __name__ == '__main__':\n",
    "    data_1D = np.array([0.5, 0.6, 1, 1.5, 2.1, 3.1, 3.7, 4.2, 4.5, 4.8, 5.3, 5.6, 6.1, 6.3], dtype=np.float32)\n",
    "    w1 = np.array([0.16])\n",
    "    theta = 0.7\n",
    "\n",
    "    for i, x1 in enumerate(data_1D):\n",
    "        y = w1*x1\n",
    "        if y < theta:\n",
    "            result = \"benign\"\n",
    "        else:\n",
    "            result = \"malignant\"\n",
    "             \n",
    "        print(f\"[{i}] inference: {result}\")"
   ]
  },
  {
   "cell_type": "code",
   "execution_count": null,
   "metadata": {},
   "outputs": [],
   "source": []
  },
  {
   "cell_type": "code",
   "execution_count": 2,
   "metadata": {},
   "outputs": [
    {
     "name": "stdout",
     "output_type": "stream",
     "text": [
      "[0] inference: benign\n",
      "[1] inference: benign\n",
      "[2] inference: benign\n",
      "[3] inference: benign\n",
      "[4] inference: benign\n",
      "[5] inference: benign\n",
      "[6] inference: benign\n",
      "[7] inference: benign\n",
      "[8] inference: malignant\n",
      "[9] inference: malignant\n",
      "[10] inference: malignant\n",
      "[11] inference: malignant\n",
      "[12] inference: malignant\n",
      "[13] inference: malignant\n",
      "   data_label:  [0 0 0 0 0 0 0 1 0 1 1 1 1 1]\n",
      "model_results:  [0 0 0 0 0 0 0 0 1 1 1 1 1 1]\n",
      "[ True  True  True  True  True  True  True False False  True  True  True\n",
      "  True  True]\n",
      "The number of true positive:  12\n",
      "Accuracy:  0.857\n"
     ]
    }
   ],
   "source": [
    "import numpy as np\n",
    "\n",
    "if __name__ == '__main__':\n",
    "    # Input Data\n",
    "    data_1D = np.array([0.5, 0.6, 1, 1.5, 2.1, 3.1, 3.7, 4.2, 4.5, 4.8, 5.3, 5.6, 6.1, 6.3], dtype=np.float32)\n",
    "\n",
    "    # Ground-Truth\n",
    "    data_label = np.array([0, 0, 0, 0, 0, 0, 0, 1, 0, 1, 1, 1, 1, 1], dtype=np.int16)\n",
    "\n",
    "    # Initialization of model_results\n",
    "    model_results = np.zeros((14,), dtype=np.int16)\n",
    "\n",
    "    w1 = np.array([0.16])\n",
    "    theta = 0.7\n",
    "\n",
    "    for i, x1 in enumerate(data_1D):\n",
    "        y = w1*x1\n",
    "\n",
    "        if y < theta:\n",
    "            result = \"benign\"\n",
    "            model_results[i] = 0\n",
    "        else:\n",
    "            result = \"malignant\"\n",
    "            model_results[i] = 1\n",
    "\n",
    "        print(f\"[{i}] inference: {result}\")\n",
    "\n",
    "    print(\"   data_label: \", data_label)\n",
    "    print(\"model_results: \", model_results)\n",
    "    comparison_gt = (data_label == model_results)\n",
    "    correct_cnt = np.sum(comparison_gt)\n",
    "    accuracy = correct_cnt/len(data_1D)\n",
    "    print(comparison_gt)\n",
    "    print(\"The number of true positive: \", correct_cnt)\n",
    "    print(\"Accuracy: \", round(accuracy, 3))"
   ]
  },
  {
   "cell_type": "code",
   "execution_count": null,
   "metadata": {},
   "outputs": [],
   "source": []
  },
  {
   "cell_type": "code",
   "execution_count": 9,
   "metadata": {},
   "outputs": [
    {
     "name": "stdout",
     "output_type": "stream",
     "text": [
      "[0 0] -> 0\n",
      "[1 0] -> 1\n",
      "[0 1] -> 1\n",
      "[1 1] -> 1\n"
     ]
    }
   ],
   "source": [
    "import numpy as np\n",
    "\n",
    "def AND(x1, x2):\n",
    "    x = np.array([x1, x2])\n",
    "    w = np.array([0.5, 0.5])\n",
    "    b = -0.7\n",
    "    tmp = np.sum(w*x) + b\n",
    "    if tmp <= 0:\n",
    "        return 0\n",
    "    else:\n",
    "        return 1\n",
    "\n",
    "def NAND(x1, x2):\n",
    "    x = np.array([x1, x2])\n",
    "    w = np.array([-0.5, -0.5])\n",
    "    b = 0.7\n",
    "    tmp = np.sum(w*x) + b\n",
    "    if tmp <= 0:\n",
    "        return 0\n",
    "    else:\n",
    "        return 1\n",
    "\n",
    "def OR(x1, x2):\n",
    "    x = np.array([x1, x2])\n",
    "    w = np.array([0.5, 0.5])\n",
    "    b = -0.2\n",
    "    tmp = np.sum(w*x) + b\n",
    "    if tmp <= 0:\n",
    "        return 0\n",
    "    else:\n",
    "        return 1\n",
    "\n",
    "\n",
    "if __name__ == '__main__':\n",
    "    data_2D = np.array([[0, 0], [1, 0], [0, 1], [1, 1]], dtype=np.int16)\n",
    "    # data_2D = np.array([[0, 0], [1, 0], [0, 1], [1, 1], [-1, 0], [-1, 1]], dtype=np.int16)\n",
    "\n",
    "    for xs in data_2D:\n",
    "        # y = AND(xs[0], xs[1])\n",
    "        # y = NAND(xs[0], xs[1])\n",
    "        y = OR(xs[0], xs[1])\n",
    "       \n",
    "        print(str(xs) + \" -> \" + str(y))"
   ]
  },
  {
   "cell_type": "code",
   "execution_count": 58,
   "metadata": {},
   "outputs": [
    {
     "name": "stdout",
     "output_type": "stream",
     "text": [
      "[0 0] -> 0\n",
      "[1 0] -> 0\n",
      "[0 1] -> 1\n",
      "[1 1] -> 0\n",
      "[-1  0] -> 0\n",
      "[-1  1] -> 1\n"
     ]
    }
   ],
   "source": [
    "import numpy as np\n",
    "\n",
    "def Model(x1, x2):\n",
    "    x = np.array([x1, x2])\n",
    "    w = np.array([0.5, -1.5])\n",
    "    b = 1.2\n",
    "    tmp = np.sum(w*x) + b\n",
    "    if tmp <= 0:\n",
    "        return 1\n",
    "    else:\n",
    "        return 0\n",
    "\n",
    "\n",
    "\n",
    "\n",
    "if __name__ == '__main__':\n",
    "    data_2D = np.array([[0, 0], [1, 0], [0, 1], [1, 1], [-1, 0], [-1, 1]], dtype=np.int16)\n",
    "\n",
    "    for xs in data_2D:\n",
    "        y = Model(xs[0], xs[1])\n",
    "       \n",
    "        print(str(xs) + \" -> \" + str(y))"
   ]
  }
 ],
 "metadata": {
  "kernelspec": {
   "display_name": "AI-py37",
   "language": "python",
   "name": "python3"
  },
  "language_info": {
   "codemirror_mode": {
    "name": "ipython",
    "version": 3
   },
   "file_extension": ".py",
   "mimetype": "text/x-python",
   "name": "python",
   "nbconvert_exporter": "python",
   "pygments_lexer": "ipython3",
   "version": "3.7.12"
  }
 },
 "nbformat": 4,
 "nbformat_minor": 2
}
