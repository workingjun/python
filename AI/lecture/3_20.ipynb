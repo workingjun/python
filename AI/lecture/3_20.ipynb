{
 "cells": [
  {
   "cell_type": "code",
   "execution_count": 1,
   "metadata": {},
   "outputs": [
    {
     "name": "stdout",
     "output_type": "stream",
     "text": [
      "[0 0] -> 0\n",
      "[1 0] -> 1\n",
      "[0 1] -> 1\n",
      "[1 1] -> 0\n"
     ]
    }
   ],
   "source": [
    "import numpy as np\n",
    "\n",
    "def xor_model(x1, x2):\n",
    "    x = np.array([x1, x2])\n",
    "    ws1 = np.array([-0.5, -0.5])\n",
    "    ws2 = np.array([0.5, 0.5])\n",
    "    b1 = 0.7\n",
    "    b2 = -0.2\n",
    "    s1 = np.sum(ws1 * x) + b1\n",
    "    s2 = np.sum(ws2 * x) + b2\n",
    "\n",
    "    s1 = 0 if s1 <= 0 else 1\n",
    "    s2 = 0 if s2 <= 0 else 1\n",
    "\n",
    "    wy = np.array([0.5, 0.5])\n",
    "    b3 = -0.7\n",
    "\n",
    "    tmp = np.sum(wy * [s1, s2]) + b3\n",
    "    if tmp <= 0:\n",
    "        return 0\n",
    "    else:\n",
    "        return 1\n",
    "\n",
    "if __name__ == '__main__':\n",
    "    # data_2D = np.array([[0, 0], [1, 0], [0, 1], [1, 1]], dtype=np.int16)\n",
    "    data_2D = np.array([[0, 0], [1, 0], [0, 1], [1, 1], [1.5, 1.5]], dtype=np.float32)\n",
    "\n",
    "    for xs in data_2D:\n",
    "        y = xor_model(xs[0], xs[1])\n",
    "        print(str(xs) + \" -> \" + str(y))"
   ]
  },
  {
   "cell_type": "code",
   "execution_count": 16,
   "metadata": {},
   "outputs": [
    {
     "name": "stdout",
     "output_type": "stream",
     "text": [
      "[0. 0.] -> 0\n",
      "[1. 0.] -> 1\n",
      "[0. 1.] -> 1\n",
      "[1. 1.] -> 0\n",
      "[1.5 1.5] -> 1\n"
     ]
    }
   ],
   "source": [
    "import numpy as np\n",
    "\n",
    "def xor_model(x1, x2):\n",
    "    x = np.array([x1, x2])\n",
    "    ws1 = np.array([-0.5, -0.5])\n",
    "    ws2 = np.array([0.5, 0.5])\n",
    "    ws3 = np.array([0.5, 0.5])\n",
    "\n",
    "    b1 = 0.7\n",
    "    b2 = -0.2\n",
    "    b3 = -1.2\n",
    "\n",
    "    s1 = np.sum(ws1 * x) + b1\n",
    "    s2 = np.sum(ws2 * x) + b2\n",
    "    s3 = np.sum(ws3 * x) + b3\n",
    "\n",
    "    s1 = 0 if s1 <= 0 else 1\n",
    "    s2 = 0 if s2 <= 0 else 1\n",
    "    s3 = 0 if s3 <= 0 else 1\n",
    "\n",
    "\n",
    "    wy = np.array([1, 1, 1])\n",
    "    b4 = -1.2\n",
    "\n",
    "    tmp = np.sum(wy * np.array([s1, s2, s3])) + b4\n",
    "    if tmp <= 0:\n",
    "        return 0\n",
    "    else:\n",
    "        return 1\n",
    "\n",
    "if __name__ == '__main__':\n",
    "    # data_2D = np.array([[0, 0], [1, 0], [0, 1], [1, 1]], dtype=np.int16)\n",
    "    data_2D = np.array([[0, 0], [1, 0], [0, 1], [1, 1], [1.5, 1.5]])\n",
    "\n",
    "    for xs in data_2D:\n",
    "        y = xor_model(xs[0], xs[1])\n",
    "        print(str(xs) + \" -> \" + str(y))"
   ]
  },
  {
   "cell_type": "code",
   "execution_count": 15,
   "metadata": {},
   "outputs": [
    {
     "name": "stdout",
     "output_type": "stream",
     "text": [
      "y:  [[0.38597128 0.53912688]]\n",
      "exp_y [[1.47104242 1.71450924]]\n",
      "sum_exp_y:  [3.18555167]\n",
      "output (final probability):  [[0.46178577 0.53821423]]\n",
      "output (predicted lable):  [1]\n",
      "Accuracy:  1.0\n"
     ]
    }
   ],
   "source": [
    "import numpy as np\n",
    "\n",
    "class Network:\n",
    "    def __init__(self):\n",
    "        self.W1 = np.array([[0.5, 0.6, 0.7], [0.2, 0.3, 0.4]])\n",
    "        self.W2 = np.array([[0.1, 0.3, 0.5], [0.7, -0.9, 0.11], [0.13, 0.15, 0.17]])\n",
    "        self.W3 = np.array([[-0.1, 0.4], [0.3, -0.4], [0.5, 0.6]])\n",
    "\n",
    "    def forward(self, x):\n",
    "        h = np.dot(x, self.W1)\n",
    "        h = self.sigmoid(h)\n",
    "\n",
    "        k = np.dot(h, self.W2)\n",
    "        k = self.sigmoid(k)\n",
    "\n",
    "        y = np.dot(k, self.W3)\n",
    "        print(\"y: \", y)\n",
    "        output = self.softmax(y)\n",
    "\n",
    "        return output\n",
    "\n",
    "    def sigmoid(self, x):\n",
    "        return 1 / (1 + np.exp(-x))\n",
    "\n",
    "    def softmax(self, y):\n",
    "        exp_y = np.exp(y)\n",
    "        print(\"exp_y\", exp_y)\n",
    "        sum_exp_y = np.sum(exp_y, axis=1)\n",
    "        print(\"sum_exp_y: \", sum_exp_y)\n",
    "\n",
    "        output = np.transpose(exp_y) / sum_exp_y\n",
    "        return np.transpose(output)\n",
    "\n",
    "if __name__ == '__main__':\n",
    "    input = np.array([[3, 9]])\n",
    "    label = np.array([1])\n",
    "\n",
    "    #input = np.array([[3, 9], [1, 0], [-100, -400], [4, 2]])\n",
    "    #label = np.array([1, 1, 0, 0])\n",
    "\n",
    "    NN = Network()\n",
    "\n",
    "    output = NN.forward(input)\n",
    "    predicted_index = np.argmax(output, axis=1)\n",
    "\n",
    "    comparison_gt = (label == predicted_index)\n",
    "    correct_cnt = np.sum(comparison_gt)\n",
    "    accuracy = correct_cnt/len(label)\n",
    "\n",
    "    print(\"output (final probability): \", output)\n",
    "    print(\"output (predicted lable): \", predicted_index)\n",
    "    print(\"Accuracy: \", round(accuracy, 3))\n"
   ]
  }
 ],
 "metadata": {
  "kernelspec": {
   "display_name": "AI-py37",
   "language": "python",
   "name": "python3"
  },
  "language_info": {
   "codemirror_mode": {
    "name": "ipython",
    "version": 3
   },
   "file_extension": ".py",
   "mimetype": "text/x-python",
   "name": "python",
   "nbconvert_exporter": "python",
   "pygments_lexer": "ipython3",
   "version": "3.7.12"
  }
 },
 "nbformat": 4,
 "nbformat_minor": 2
}
