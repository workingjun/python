{
 "cells": [
  {
   "cell_type": "code",
   "execution_count": 1,
   "metadata": {},
   "outputs": [
    {
     "name": "stderr",
     "output_type": "stream",
     "text": [
      "c:\\Users\\kimju\\anaconda3\\envs\\AI-py37\\lib\\site-packages\\tqdm\\auto.py:21: TqdmWarning: IProgress not found. Please update jupyter and ipywidgets. See https://ipywidgets.readthedocs.io/en/stable/user_install.html\n",
      "  from .autonotebook import tqdm as notebook_tqdm\n"
     ]
    }
   ],
   "source": [
    "import torch.optim as optim\n",
    "import torchvision.transforms as transforms\n",
    "from tqdm import tqdm\n",
    "import torch\n",
    "import torch.nn as nn\n",
    "from torch.utils.data import Dataset, DataLoader\n",
    "from PIL import Image\n",
    "import os\n",
    "\n",
    "class DroneDataset(Dataset):\n",
    "\n",
    "    def __init__(self, img_path, mask_path, transform=None):\n",
    "        self.img_path = img_path\n",
    "        self.mask_path = mask_path\n",
    "\n",
    "        self.transform = transform\n",
    "\n",
    "        self.all_img_paths = []\n",
    "        self.all_mask_paths = []\n",
    "\n",
    "        img_files = os.walk(self.img_path).__next__()[2]\n",
    "        for img_file in img_files:\n",
    "            img_file = os.path.join(self.img_path, img_file)\n",
    "            self.all_img_paths.append(img_file)\n",
    " \n",
    "        mask_files = os.walk(self.mask_path).__next__()[2]\n",
    "        for mask_file in mask_files:\n",
    "            mask_file = os.path.join(self.mask_path, mask_file)\n",
    "            self.all_mask_paths.append(mask_file)\n",
    "\n",
    "\n",
    "    def __len__(self):\n",
    "        return len(self.all_img_paths)\n",
    "\n",
    "    def __getitem__(self, idx):\n",
    "\n",
    "        img = Image.open(self.all_img_paths[idx])\n",
    "        mask = Image.open(self.all_mask_paths[idx])\n",
    "\n",
    "        img = img.convert(\"RGB\")\n",
    "        mask = mask.convert(\"L\")\n",
    "\n",
    "        if self.transform is None:\n",
    "            img = Image.fromarray(img)\n",
    "            mask = Image.fromarray(mask)\n",
    "        else:\n",
    "            img = self.transform(img)\n",
    "            mask = self.transform(mask)\n",
    "\n",
    "        return img, mask\n",
    "\n",
    "\n",
    "# Define the U-Net architecture for segmentation\n",
    "class UNet(nn.Module):\n",
    "    def __init__(self, in_channels, out_channels):\n",
    "        super(UNet, self).__init__()\n",
    "        self.encoder = nn.Sequential(\n",
    "            nn.Conv2d(in_channels, 64, kernel_size=3, padding=1),\n",
    "            nn.ReLU(inplace=True),\n",
    "            nn.Conv2d(64, 64, kernel_size=3, padding=1),\n",
    "            nn.ReLU(inplace=True),\n",
    "            nn.MaxPool2d(kernel_size=2, stride=2)\n",
    "        )\n",
    "        self.decoder = nn.Sequential(\n",
    "            nn.Conv2d(64, 128, kernel_size=3, padding=1),\n",
    "            nn.ReLU(inplace=True),\n",
    "            nn.Conv2d(128, 128, kernel_size=3, padding=1),\n",
    "            nn.ReLU(inplace=True),\n",
    "            nn.ConvTranspose2d(128, out_channels, kernel_size=2, stride=2)\n",
    "        )\n",
    "\n",
    "    def forward(self, x):\n",
    "        x1 = self.encoder(x)\n",
    "        x2 = self.decoder(x1)\n",
    "        return x2\n",
    "\n",
    "\n",
    "# Set device (GPU or CPU)\n",
    "device = torch.device('cuda' if torch.cuda.is_available() else 'cpu')\n",
    "\n",
    "# Define transformations and create dataset loader\n",
    "transform = transforms.Compose([\n",
    "    transforms.Resize((256, 256)),\n",
    "    transforms.ToTensor()\n",
    "])\n",
    "\n",
    "IMAGE_PATH = 'semantic_drone_dataset/original_images'\n",
    "MASK_PATH = 'semantic_drone_dataset/label_images_semantic'\n",
    "\n",
    "dataset = DroneDataset(IMAGE_PATH, MASK_PATH, transform)\n",
    "\n",
    "# dataset = ImageFolder(root='./semantic_drone_dataset', transform=transform)\n",
    "dataloader = DataLoader(dataset, batch_size=4, shuffle=True)\n",
    "\n",
    "# Define the model, loss function, and optimizer\n",
    "model = UNet(in_channels=3, out_channels=1).to(device)\n",
    "criterion = nn.BCEWithLogitsLoss()\n",
    "optimizer = optim.Adam(model.parameters(), lr=0.001)\n",
    "\n",
    "# Training loop\n",
    "num_epochs = 10\n",
    "for epoch in range(num_epochs):\n",
    "    model.train()\n",
    "    running_loss = 0.0\n",
    "    for inputs, labels in tqdm(dataloader):\n",
    "        inputs, labels = inputs.to(device), labels.to(device)\n",
    "\n",
    "        optimizer.zero_grad()\n",
    "        outputs = model(inputs)\n",
    "        loss = criterion(outputs, labels)\n",
    "        loss.backward()\n",
    "        optimizer.step()\n",
    "\n",
    "        running_loss += loss.item() * inputs.size(0)\n",
    "\n",
    "    epoch_loss = running_loss / len(dataset)\n",
    "    print(f'Epoch [{epoch + 1}/{num_epochs}], Loss: {epoch_loss:.4f}')\n",
    "\n",
    "# Save the trained model\n",
    "torch.save(model.state_dict(), 'segmentation_model.pth')"
   ]
  },
  {
   "cell_type": "code",
   "execution_count": 6,
   "metadata": {},
   "outputs": [
    {
     "data": {
      "text/plain": [
       "['000.jpg',\n",
       " '001.jpg',\n",
       " '002.jpg',\n",
       " '003.jpg',\n",
       " '004.jpg',\n",
       " '005.jpg',\n",
       " '006.jpg',\n",
       " '008.jpg',\n",
       " '011.jpg',\n",
       " '013.jpg',\n",
       " '014.jpg',\n",
       " '015.jpg',\n",
       " '016.jpg',\n",
       " '018.jpg',\n",
       " '019.jpg',\n",
       " '021.jpg',\n",
       " '022.jpg',\n",
       " '023.jpg',\n",
       " '026.jpg',\n",
       " '028.jpg',\n",
       " '031.jpg',\n",
       " '035.jpg',\n",
       " '038.jpg',\n",
       " '040.jpg',\n",
       " '041.jpg',\n",
       " '042.jpg',\n",
       " '043.jpg',\n",
       " '044.jpg',\n",
       " '045.jpg',\n",
       " '047.jpg',\n",
       " '049.jpg',\n",
       " '051.jpg',\n",
       " '052.jpg',\n",
       " '053.jpg',\n",
       " '055.jpg',\n",
       " '056.jpg',\n",
       " '057.jpg',\n",
       " '058.jpg',\n",
       " '059.jpg',\n",
       " '060.jpg',\n",
       " '062.jpg',\n",
       " '063.jpg',\n",
       " '065.jpg',\n",
       " '068.jpg',\n",
       " '070.jpg',\n",
       " '071.jpg',\n",
       " '073.jpg',\n",
       " '074.jpg',\n",
       " '075.jpg',\n",
       " '077.jpg',\n",
       " '078.jpg',\n",
       " '079.jpg',\n",
       " '080.jpg']"
      ]
     },
     "execution_count": 6,
     "metadata": {},
     "output_type": "execute_result"
    }
   ],
   "source": [
    "IMAGE_PATH = 'semantic_drone_dataset/original_images'\n",
    "all_img_paths=[]\n",
    "\n",
    "\n",
    "img_files = os.walk(IMAGE_PATH).__next__()[2]\n",
    "img_files\n",
    "\n",
    "for img_file in img_files:\n",
    "    img_file = os.path.join(IMAGE_PATH, img_file)\n",
    "    all_img_paths.append(img_file)\n",
    "\n",
    "all_img_paths"
   ]
  },
  {
   "cell_type": "code",
   "execution_count": null,
   "metadata": {},
   "outputs": [],
   "source": [
    "import torchvision.transforms as transforms\n",
    "from tqdm import tqdm\n",
    "import matplotlib.pyplot as plt\n",
    "import torch\n",
    "import torch.nn as nn\n",
    "from torch.utils.data import Dataset, DataLoader\n",
    "from PIL import Image\n",
    "import os\n",
    "\n",
    "\n",
    "class DroneDataset(Dataset):\n",
    "\n",
    "    def __init__(self, img_path, mask_path, transform=None):\n",
    "        self.img_path = img_path\n",
    "        self.mask_path = mask_path\n",
    "\n",
    "        self.transform = transform\n",
    "\n",
    "\n",
    "        self.all_img_paths = []\n",
    "        self.all_mask_paths = []\n",
    "\n",
    "        img_files = os.walk(self.img_path).__next__()[2]\n",
    "\n",
    "        for img_file in img_files:\n",
    "            img_file = os.path.join(self.img_path, img_file)\n",
    "            self.all_img_paths.append(img_file)\n",
    "\n",
    "        mask_files = os.walk(self.mask_path).__next__()[2]\n",
    "        for mask_file in mask_files:\n",
    "            mask_file = os.path.join(self.mask_path, mask_file)\n",
    "            self.all_mask_paths.append(mask_file)\n",
    "\n",
    "\n",
    "    def __len__(self):\n",
    "        return len(self.all_img_paths)\n",
    "\n",
    "    def __getitem__(self, idx):\n",
    "\n",
    "        img = Image.open(self.all_img_paths[idx])\n",
    "        mask = Image.open(self.all_mask_paths[idx])\n",
    "\n",
    "        img = img.convert(\"RGB\")\n",
    "        mask = mask.convert(\"L\")\n",
    "\n",
    "        if self.transform is None:\n",
    "            img = Image.fromarray(img)\n",
    "            mask = Image.fromarray(mask)\n",
    "        else:\n",
    "            img = self.transform(img)\n",
    "            mask = self.transform(mask)\n",
    "\n",
    "\n",
    "\n",
    "        return img, mask\n",
    "\n",
    "\n",
    "\n",
    "# Define the U-Net architecture for segmentation\n",
    "class UNet(nn.Module):\n",
    "    def __init__(self, in_channels, out_channels):\n",
    "        super(UNet, self).__init__()\n",
    "        self.encoder = nn.Sequential(\n",
    "            nn.Conv2d(in_channels, 64, kernel_size=3, padding=1),\n",
    "            nn.ReLU(inplace=True),\n",
    "            nn.Conv2d(64, 64, kernel_size=3, padding=1),\n",
    "            nn.ReLU(inplace=True),\n",
    "            nn.MaxPool2d(kernel_size=2, stride=2)\n",
    "        )\n",
    "        self.decoder = nn.Sequential(\n",
    "            nn.Conv2d(64, 128, kernel_size=3, padding=1),\n",
    "            nn.ReLU(inplace=True),\n",
    "            nn.Conv2d(128, 128, kernel_size=3, padding=1),\n",
    "            nn.ReLU(inplace=True),\n",
    "            nn.ConvTranspose2d(128, out_channels, kernel_size=2, stride=2)\n",
    "        )\n",
    "\n",
    "    def forward(self, x):\n",
    "        x1 = self.encoder(x)\n",
    "        x2 = self.decoder(x1)\n",
    "        return x2\n",
    "\n",
    "\n",
    "# Set device (GPU or CPU)\n",
    "device = torch.device('cuda' if torch.cuda.is_available() else 'cpu')\n",
    "\n",
    "# Define transformations and create dataset loader\n",
    "transform = transforms.Compose([\n",
    "    transforms.Resize((256, 256)),\n",
    "    transforms.ToTensor()\n",
    "])\n",
    "\n",
    "IMAGE_PATH = './semantic_drone_dataset/original_images'\n",
    "MASK_PATH = './semantic_drone_dataset/label_images_semantic'\n",
    "\n",
    "dataset = DroneDataset(IMAGE_PATH, MASK_PATH, transform)\n",
    "\n",
    "# dataset = ImageFolder(root='./semantic_drone_dataset', transform=transform)\n",
    "dataloader = DataLoader(dataset, batch_size=1, shuffle=True)\n",
    "\n",
    "# Define the model, loss function, and optimizer\n",
    "model = UNet(in_channels=3, out_channels=1).to(device)\n",
    "model.load_state_dict(torch.load(\"segmentation_model.pth\"))\n",
    "\n",
    "model.eval()\n",
    "running_loss = 0.0\n",
    "with torch.no_grad():\n",
    "    for inputs, labels in tqdm(dataloader):\n",
    "        inputs, labels = inputs.to(device), labels.to(device)\n",
    "\n",
    "        outputs = model(inputs)\n",
    "\n",
    "\n",
    "        fig, (ax1, ax2, ax3) = plt.subplots(1, 3, figsize=(15, 5))\n",
    "        ax1.imshow(inputs[0].permute(1,2,0).detach().numpy())\n",
    "        ax1.set_title('Picture')\n",
    "\n",
    "        ax2.imshow(labels[0].permute(1,2,0).detach().numpy())\n",
    "        ax2.set_title('Ground truth')\n",
    "        ax2.set_axis_off()\n",
    "\n",
    "        ax3.imshow(outputs[0].permute(1,2,0).detach().numpy())\n",
    "        ax3.set_title('Simple-segmentation')\n",
    "        ax3.set_axis_off()\n",
    "\n",
    "        plt.show()\n",
    "        plt.close()"
   ]
  },
  {
   "cell_type": "code",
   "execution_count": 15,
   "metadata": {},
   "outputs": [
    {
     "data": {
      "image/png": "[encoded data removed]",
      "text/plain": [
       "<Figure size 640x480 with 1 Axes>"
      ]
     },
     "metadata": {},
     "output_type": "display_data"
    },
    {
     "name": "stdout",
     "output_type": "stream",
     "text": [
      "          x1        x2\n",
      "0   0.276181 -2.217047\n",
      "1   7.927368 -9.761527\n",
      "2   8.491428 -2.549749\n",
      "3 -11.537102  2.434883\n",
      "4   4.292259 -8.992204\n",
      "5   0.911433 -2.638517\n",
      "6   7.298851 -9.905640\n",
      "7   0.516622 -0.751186\n",
      "8  -7.731942  1.506037\n",
      "9   1.208242 -1.893695\n"
     ]
    },
    {
     "data": {
      "image/png": "[encoded data removed]",
      "text/plain": [
       "<Figure size 640x480 with 1 Axes>"
      ]
     },
     "metadata": {},
     "output_type": "display_data"
    },
    {
     "data": {
      "image/png": "[encoded data removed]",
      "text/plain": [
       "<Figure size 640x480 with 1 Axes>"
      ]
     },
     "metadata": {},
     "output_type": "display_data"
    },
    {
     "name": "stdout",
     "output_type": "stream",
     "text": [
      "target  kmeans_label\n",
      "0       0               25\n",
      "1       0               25\n",
      "2       1               25\n",
      "3       0               18\n",
      "        1                7\n",
      "Name: kmeans_label, dtype: int64\n"
     ]
    }
   ],
   "source": [
    "import os\n",
    "os.environ[\"OMP_NUM_THREADS\"] = '1'\n",
    "\n",
    "from sklearn.datasets import make_blobs\n",
    "import pandas as pd\n",
    "import numpy as np\n",
    "import math\n",
    "import scipy as sp\n",
    "\n",
    "import matplotlib.pyplot as plt\n",
    "\n",
    "from sklearn.cluster import KMeans\n",
    "\n",
    "x, y = make_blobs(n_samples=100, centers=4, n_features=2, random_state=6)\n",
    "plt.scatter(x[:,0], x[:, 1], marker='.')\n",
    "plt.show()\n",
    "\n",
    "points = pd.DataFrame(x, y).reset_index(drop=True)\n",
    "points.columns = [\"x1\", \"x2\"]\n",
    "points.head()\n",
    "print(points.head(n=10))\n",
    "\n",
    "points['target'] = y\n",
    "\n",
    "target_list = np.unique(y)\n",
    "# 각 target별 scatter plot 의 marker 값들.\n",
    "markers=['o', 's', '^', 'P','D','H','x']\n",
    "# 3개의 cluster 영역으로 구분한 데이터 셋을 생성했으므로 target_list는 [0,1,2]\n",
    "# target==0, target==1, target==2 로 scatter plot을 marker별로 생성.\n",
    "for target in target_list:\n",
    "    target_cluster = points[points['target']==target]\n",
    "    plt.scatter(x=target_cluster['x1'], y=target_cluster['x2'], edgecolor='k', marker=markers[target] )\n",
    "\n",
    "plt.show()\n",
    "\n",
    "# KMeans 객체를 이용하여 X 데이터를 K-Means 클러스터링 수행\n",
    "kmeans = KMeans(n_clusters=2, init='k-means++', max_iter=200, random_state=2, n_init=1)\n",
    "cluster_labels = kmeans.fit_predict(x)\n",
    "points['kmeans_label'] = cluster_labels\n",
    "\n",
    "# cluster_centers_ 는 개별 클러스터의 중심 위치 좌표 시각화를 위해 추출\n",
    "centers = kmeans.cluster_centers_\n",
    "unique_labels = np.unique(cluster_labels)\n",
    "markers = ['o', 's', '^', 'P', 'D', 'H', 'x']\n",
    "\n",
    "# 군집된 label 유형별로 iteration 하면서 marker 별로 scatter plot 수행.\n",
    "for label in unique_labels:\n",
    "    label_cluster = points[points['kmeans_label'] == label]\n",
    "    center_x_y = centers[label]\n",
    "    plt.scatter(x=label_cluster['x1'], y=label_cluster['x2'], edgecolor='k',\n",
    "                marker=markers[label])\n",
    "\n",
    "    # 군집별 중심 위치 좌표 시각화\n",
    "    plt.scatter(x=center_x_y[0], y=center_x_y[1], s=200, color='white',\n",
    "                alpha=0.9, edgecolor='k', marker=markers[label])\n",
    "    plt.scatter(x=center_x_y[0], y=center_x_y[1], s=70, color='k', edgecolor='k',\n",
    "                marker='$%d$' % label)\n",
    "\n",
    "plt.show()\n",
    "\n",
    "print(points.groupby('target')['kmeans_label'].value_counts())"
   ]
  },
  {
   "cell_type": "code",
   "execution_count": 9,
   "metadata": {},
   "outputs": [
    {
     "data": {
      "image/png": "[encoded data removed]",
      "text/plain": [
       "<Figure size 640x480 with 1 Axes>"
      ]
     },
     "metadata": {},
     "output_type": "display_data"
    },
    {
     "data": {
      "image/png": "[encoded data removed]",
      "text/plain": [
       "<Figure size 640x480 with 1 Axes>"
      ]
     },
     "metadata": {},
     "output_type": "display_data"
    }
   ],
   "source": [
    "##################################################\n",
    "plt.plot([1, 2, 3], [1, 4 ,9])\n",
    "plt.plot([1, 2 ,3], [1 ,2 ,3])\n",
    "plt.show()\n",
    "plt.plot([1, 2, 3], [1, 2, 3])\n",
    "plt.show()\n",
    "##################################################"
   ]
  },
  {
   "cell_type": "code",
   "execution_count": 14,
   "metadata": {},
   "outputs": [
    {
     "data": {
      "text/plain": [
       "array([ -2.21704726,  -9.7615272 ,  -2.54974889,   2.43488287,\n",
       "        -8.99220442,  -2.63851693,  -9.90563956,  -0.75118594,\n",
       "         1.50603664,  -1.89369549,  -4.72901672,   1.10479304,\n",
       "         0.05307861,   1.37286811,  -1.02379608,   0.82821393,\n",
       "        -1.54781358, -10.18071547,  -2.28672255,   3.00069462,\n",
       "        -2.41730491,  -9.25691447,  -2.07241713,  -4.84225716,\n",
       "        -2.96403632,   1.59157872,  -8.99900075,  -8.07144707,\n",
       "        -0.04974727,  -3.11024352,  -4.87449712,   1.42866565,\n",
       "        -2.428817  ,  -8.37284513,  -4.19481136,   1.52713041,\n",
       "       -10.20150177,  -8.43925752,  -1.99722822,  -4.33078222,\n",
       "        -3.51553205,  -0.35774806,   2.28574933,   3.26397914,\n",
       "         1.68145403,  -7.50322463,  -1.48513774,  -2.75858164,\n",
       "         1.45314624,   0.26842069,  -9.05353781,  -7.41655113,\n",
       "        -8.7241701 ,  -9.92422452,  -8.47191434,  -3.38236058,\n",
       "        -2.12266605,   2.17130787,  -2.19233972,  -4.39392379,\n",
       "        -4.21790533,  -0.82974817,  -2.6476988 ,  -2.11726997,\n",
       "         1.4673048 , -10.02289012,  -0.80103883,  -9.75794397,\n",
       "         1.58771842,  -2.82620437,   2.79269402,   0.40690892,\n",
       "        -4.53683537,   1.75606571,  -3.1266933 ,  -3.7902975 ,\n",
       "        -9.84832481,   1.75908206,  -3.82403586,  -0.5713415 ,\n",
       "         1.78691412,   1.69041431,  -2.4047943 ,  -8.22624269,\n",
       "        -9.3059698 ,  -0.53256496,   2.09520962,  -0.69499407,\n",
       "         0.2021217 ,  -9.46356669,  -3.88003098, -10.61510727,\n",
       "        -9.80940478,  -8.41461865,   1.95290098,  -2.05139156,\n",
       "        -0.5535417 ,  -3.23125265,  -0.6625181 ,  -3.00194581])"
      ]
     },
     "execution_count": 14,
     "metadata": {},
     "output_type": "execute_result"
    }
   ],
   "source": [
    "x[:,1]"
   ]
  },
  {
   "cell_type": "code",
   "execution_count": null,
   "metadata": {},
   "outputs": [],
   "source": []
  },
  {
   "cell_type": "code",
   "execution_count": 10,
   "metadata": {},
   "outputs": [],
   "source": [
    "\n"
   ]
  },
  {
   "cell_type": "code",
   "execution_count": 12,
   "metadata": {},
   "outputs": [
    {
     "name": "stdout",
     "output_type": "stream",
     "text": [
      "<class 'tuple'>\n",
      "<class 'complex'>\n"
     ]
    }
   ],
   "source": [
    "a=(1, 2)\n",
    "print(type(a))\n",
    "\n",
    "a=complex(1, 1)\n",
    "print(type(a))\n",
    "\n",
    "## 출력: <class 'tuple'> <class 'complex'>\n",
    "##위와 같은 방법으로 객체 타입인지 확인 가능"
   ]
  },
  {
   "cell_type": "code",
   "execution_count": 13,
   "metadata": {},
   "outputs": [
    {
     "data": {
      "text/plain": [
       "(1+1j)"
      ]
     },
     "execution_count": 13,
     "metadata": {},
     "output_type": "execute_result"
    }
   ],
   "source": [
    "a"
   ]
  },
  {
   "cell_type": "code",
   "execution_count": null,
   "metadata": {},
   "outputs": [],
   "source": []
  },
  {
   "cell_type": "code",
   "execution_count": null,
   "metadata": {},
   "outputs": [],
   "source": []
  },
  {
   "cell_type": "code",
   "execution_count": null,
   "metadata": {},
   "outputs": [],
   "source": []
  },
  {
   "cell_type": "code",
   "execution_count": null,
   "metadata": {},
   "outputs": [],
   "source": []
  },
  {
   "cell_type": "code",
   "execution_count": null,
   "metadata": {},
   "outputs": [],
   "source": []
  },
  {
   "cell_type": "code",
   "execution_count": 3,
   "metadata": {},
   "outputs": [
    {
     "name": "stdout",
     "output_type": "stream",
     "text": [
      "1\n",
      "2\n",
      "3\n",
      "4\n",
      "5\n",
      "6\n",
      "7\n",
      "8\n",
      "9\n"
     ]
    }
   ],
   "source": [
    "i=0.1\n",
    "\n",
    "for i in range(1, 10):\n",
    "    print(i)"
   ]
  }
 ],
 "metadata": {
  "kernelspec": {
   "display_name": "AI-py37",
   "language": "python",
   "name": "python3"
  },
  "language_info": {
   "codemirror_mode": {
    "name": "ipython",
    "version": 3
   },
   "file_extension": ".py",
   "mimetype": "text/x-python",
   "name": "python",
   "nbconvert_exporter": "python",
   "pygments_lexer": "ipython3",
   "version": "3.7.12"
  }
 },
 "nbformat": 4,
 "nbformat_minor": 2
}
