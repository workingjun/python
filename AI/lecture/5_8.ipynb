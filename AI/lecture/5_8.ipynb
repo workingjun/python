{
 "cells": [
  {
   "cell_type": "code",
   "execution_count": null,
   "metadata": {},
   "outputs": [],
   "source": [
    "import os\n",
    "os.environ[\"OMP_NUM_THREADS\"] = '1'\n",
    "\n",
    "from sklearn.cluster import AffinityPropagation\n",
    "\n",
    "from sklearn.datasets import make_blobs\n",
    "import pandas as pd\n",
    "import numpy as np\n",
    "\n",
    "import matplotlib.pyplot as plt\n",
    "\n",
    "\n",
    "x, y = make_blobs(n_samples=100, centers=2, n_features=2, random_state=6)\n",
    "\n",
    "fig, (ax1, ax2, ax3) = plt.subplots(1, 3, figsize=(15, 5))\n",
    "ax1.scatter(x[:,0], x[:, 1], marker='.')\n",
    "ax1.set_title('make blob')\n",
    "\n",
    "points = pd.DataFrame(x, y).reset_index(drop=True)\n",
    "points.columns = [\"x1\", \"x2\"]\n",
    "points.head()\n",
    "print(points.head(n=10))\n",
    "\n",
    "points['target'] = y\n",
    "\n",
    "target_list = np.unique(y)\n",
    "# 각 target별 scatter plot 의 marker 값들.\n",
    "markers=['o', 's', '^', 'P','D','H','x']\n",
    "\n",
    "for target in target_list:\n",
    "    target_cluster = points[points['target']==target]\n",
    "    ax2.scatter(x=target_cluster['x1'], y=target_cluster['x2'], edgecolor='k', marker=markers[target] )\n",
    "ax2.set_title('Ground truth')\n",
    "ax2.set_axis_off()\n",
    "\n",
    "afprop = AffinityPropagation(preference=-40, max_iter=250)\n",
    "afprop.fit(x)\n",
    "cluster_labels = afprop.predict(x)\n",
    "points['Affinity_label'] = cluster_labels\n",
    "\n",
    "# cluster_centers_ 는 개별 클러스터의 중심 위치 좌표 시각화를 위해 추출\n",
    "centers = afprop.cluster_centers_\n",
    "\n",
    "unique_labels = np.unique(cluster_labels)\n",
    "markers = ['o', 's', '^', 'P', 'D', 'H', 'x']\n",
    "\n",
    "# 군집된 label 유형별로 iteration 하면서 marker 별로 scatter plot 수행.\n",
    "for label in unique_labels:\n",
    "    label_cluster = points[points['Affinity_label'] == label]\n",
    "    center_x_y = centers[label]\n",
    "    plt.scatter(x=label_cluster['x1'], y=label_cluster['x2'], edgecolor='k',\n",
    "                marker=markers[label])\n",
    "\n",
    "    # 군집별 중심 위치 좌표 시각화\n",
    "    ax3.scatter(x=center_x_y[0], y=center_x_y[1], s=200, color='white',\n",
    "                alpha=0.9, edgecolor='k', marker=markers[label])\n",
    "    ax3.scatter(x=center_x_y[0], y=center_x_y[1], s=70, color='k', edgecolor='k',\n",
    "                marker='$%d$' % label)\n",
    "\n",
    "ax3.set_title('Affinity')\n",
    "ax3.set_axis_off()\n",
    "\n",
    "plt.show()\n",
    "plt.close()\n",
    "\n",
    "print(points.groupby('target')['Affinity_label'].value_counts())"
   ]
  },
  {
   "cell_type": "code",
   "execution_count": 2,
   "metadata": {},
   "outputs": [
    {
     "data": {
      "text/plain": [
       "'c:\\\\Users\\\\kimju\\\\python-project\\\\Onebook_python\\\\AI_py37\\\\AI_code'"
      ]
     },
     "execution_count": 2,
     "metadata": {},
     "output_type": "execute_result"
    }
   ],
   "source": [
    "import os\n",
    "\n",
    "os.getcwd()"
   ]
  }
 ],
 "metadata": {
  "kernelspec": {
   "display_name": "AI-py37",
   "language": "python",
   "name": "python3"
  },
  "language_info": {
   "codemirror_mode": {
    "name": "ipython",
    "version": 3
   },
   "file_extension": ".py",
   "mimetype": "text/x-python",
   "name": "python",
   "nbconvert_exporter": "python",
   "pygments_lexer": "ipython3",
   "version": "3.7.16"
  }
 },
 "nbformat": 4,
 "nbformat_minor": 2
}
