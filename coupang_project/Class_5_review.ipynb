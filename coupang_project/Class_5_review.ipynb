{
 "cells": [
  {
   "cell_type": "code",
   "execution_count": 1,
   "metadata": {},
   "outputs": [],
   "source": [
    "from bs4 import BeautifulSoup\n",
    "from selenium.webdriver.common.by import By\n",
    "import time\n",
    "\n",
    "class ReviewManager():\n",
    "    def __init__(self, driver):\n",
    "        self.driver = driver\n",
    "        self.location = \"arguments[0].scrollIntoView({ behavior: 'auto', block: 'center', inline: 'center' });\"\n",
    "    \n",
    "    def Loading_reviews(self, url, stars_num):\n",
    "        self.driver.get(url)\n",
    "        time.sleep(2)\n",
    "\n",
    "        elem = self.driver.find_element(By.NAME, 'review')\n",
    "        self.driver.execute_script(self.location, elem)\n",
    "        elem.click()\n",
    "        time.sleep(2)\n",
    "\n",
    "        xpath = \"//div[@class='sdp-review__article__order__star__all']\"\n",
    "        elem = self.driver.find_element(By.XPATH, xpath)\n",
    "        elem.click()\n",
    "\n",
    "        xpath = \"//ul[@class='sdp-review__article__order__star__list']\"\n",
    "        elem = self.driver.find_element(By.XPATH, xpath)\n",
    "        elems = elem.find_elements(By.TAG_NAME, 'li')\n",
    "        elems[5-stars_num].click()\n",
    "        \n",
    "\n",
    "        raw = self.driver.page_source\n",
    "        search = BeautifulSoup(raw, 'html.parser')\n",
    "\n",
    "        box = search.find(\"section\", {\"class\": \"js_reviewArticleListContainer\"})\n",
    "        reviews = box.find_all(\"article\")\n",
    "\n",
    "        re_list = []\n",
    "\n",
    "        for review in reviews:\n",
    "            re = review.text\n",
    "            re_list.append(re)\n",
    "\n",
    "        return re_list\n",
    "    \n",
    "from selenium import webdriver\n",
    "import subprocess\n",
    "import chromedriver_autoinstaller\n",
    "\n",
    "chrome_path = (\n",
    "    r'C:\\Program Files\\Google\\Chrome\\Application\\chrome.exe '\n",
    "    r'--remote-debugging-port=9221 --user-data-dir=\"C:\\chrometemp\" '\n",
    "    r'--window-size=1200,800 --window-position=0,0'\n",
    ")\n",
    "chrome_process = subprocess.Popen(f'{chrome_path}')\n",
    "\n",
    "options = webdriver.ChromeOptions()\n",
    "options.add_experimental_option(\"debuggerAddress\", \"127.0.0.1:9221\")\n",
    "\n",
    "chromedriver_autoinstaller.install()\n",
    "driver = webdriver.Chrome(options=options)\n",
    "\n",
    "url='https://www.coupang.com/vp/products/5109092804?itemId=18191809250&vendorItemId=85498665541&pickType=COU_PICK&q=s24+++%ED%95%84%EB%A6%84&itemsCount=36&searchId=f90a211f540d484c9dc424aa48093b4f&rank=1&isAddedCart='\n",
    "\n",
    "coupang = ReviewManager(driver)\n",
    "\n",
    "re = coupang.Loading_reviews(url, 5)\n",
    "\n",
    "chrome_process.terminate()"
   ]
  },
  {
   "cell_type": "code",
   "execution_count": 3,
   "metadata": {},
   "outputs": [
    {
     "data": {
      "text/plain": [
       "'\\n\\n\\n\\n\\n\\n김*홍\\xa0\\n\\n\\n\\n\\n\\n2024.06.05\\n\\n\\n                    판매자: 쿠팡(주)\\n                \\n신지모루 하이브리드 쉴드 자가복원 TPU EPU 코팅 휴대폰 액정보호필름, 갤럭시 Z플립5, 3매\\n\\n\\n\\n\\n\\n\\n\\n\\n\\n\\n\\n\\n\\n\\n\\n\\n\\n\\n\\n\\n\\n\\n\\n\\n\\n\\n\\n\\n\\n\\n\\n\\n\\n\\n                \\n                    ♡내돈내산 후기입니다.도움이 되셨음 좋겠어요♡\\n                \\n            \\n\\n\\n                    \\n                        편리하고 가성비있는 보호필름 추천합니다^^\\n\\n♠️ 구매일자 : 2024.06.02. 일요일\\n\\n♠️ 배송일자 : 2024.06.03. 월요일\\n\\n♠️ 제품명 :  신지모루 하이브리드 쉴드 자가복원 TPU EPU 코팅 액정보호필름\\n\\n♠️구매 이유\\n\\n갤럭시 Z플립5를 1년넘게 사용하고  있습니다.\\n기존의 갤럭시 핸드폰보다 접었다 폈다\\n사용하는 폰이라 필름을 자주 갈게되더라구요.\\n서비스센터에서 교체해주는게 좋다고 하지만.\\n너무 비싸서 필름을 구매해서\\n셀프로 자주 교체하고 있습니다.\\n전 쿠팡에서 구매하기전에 네##에서\\n검색해서 비교해보는데.\\n가격차이가 크게 나는 제품이 없어요^^\\n그래서 무료 배송되고 다음날 바로\\n배송되는 쿠팡에서 주문하는게 최고입니다.\\n\\n\\n♠️장점\\n\\n로켓 배송으로 다음 바로 받을 수 있는 빠른 배송은\\n말할 필요가  없죠.^^\\n하나에 3세트가 들어가 있어서 알찬 구성이 있어서 가성비 최고입니다.\\n가격도 저렴해서 실패해도 아깝지 않더라구요^^\\n힌지부분이 걱정되었는데\\n부착해도 걸리는 부분없이\\n잘 접었다 펴져서 너무 만족합니다.\\n기존에 지문 방지와 같은 필름보다\\n훨씬 얇은 두께로 터치감이 좋아서\\n깜짝 놀랬을 정도에요!!^^\\n\\n\\n♠️ 단점\\n\\n아쉬운점은 제가 잘못 붙였는지 옆면에 얇게 뜨는 부분과\\n힌지부분이 어색함이 있더라고요ㅜㅜ\\n\\n♠️후기 요약\\n\\n처음에만 헤매고 바로 착착착 필름 부착했어요.\\n부착하니 선명하게 화면이 잘보여 너무 만족합니다.\\n자주 자주 교체해줘야 되는 필름이라\\n가성비 만족합니다.\\n신지모루 하이브리드 쉴드 자가복원 TPU EPU 코팅 액정보호필름\\n추천 100000%입니다^^\\n                    \\n                \\n\\n\\n0명에게 도움 됨\\n이 상품평이 도움 되었나요?\\n도움이 돼요\\n도움 안 돼요\\n신고하기\\n\\n\\n'"
      ]
     },
     "execution_count": 3,
     "metadata": {},
     "output_type": "execute_result"
    }
   ],
   "source": [
    "re[0]"
   ]
  }
 ],
 "metadata": {
  "kernelspec": {
   "display_name": "cupang",
   "language": "python",
   "name": "python3"
  },
  "language_info": {
   "codemirror_mode": {
    "name": "ipython",
    "version": 3
   },
   "file_extension": ".py",
   "mimetype": "text/x-python",
   "name": "python",
   "nbconvert_exporter": "python",
   "pygments_lexer": "ipython3",
   "version": "3.7.16"
  }
 },
 "nbformat": 4,
 "nbformat_minor": 2
}
