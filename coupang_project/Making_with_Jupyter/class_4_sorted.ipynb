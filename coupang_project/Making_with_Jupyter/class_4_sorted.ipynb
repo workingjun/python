{
 "cells": [
  {
   "cell_type": "markdown",
   "metadata": {},
   "source": [
    "#### 정렬하기 "
   ]
  },
  {
   "cell_type": "code",
   "execution_count": 1,
   "metadata": {},
   "outputs": [
    {
     "data": {
      "text/plain": [
       "[['이미지 링크1', '노트북1', '1,500,000원', '2100', '구매링크1'],\n",
       " ['이미지 링크2', '노트북2', '2,000,000원', '3000', '구매링크2'],\n",
       " ['이미지 링크3', '노트북3', '1,200,000원', '10000', '구매링크3']]"
      ]
     },
     "execution_count": 1,
     "metadata": {},
     "output_type": "execute_result"
    }
   ],
   "source": [
    "myList=[]\n",
    "\n",
    "for i in range(3):\n",
    "    price = [\"1,500,000원\", \"2,000,000원\", \"1,200,000원\"]\n",
    "    point = [\"2100\", \"3000\", \"10000\"]\n",
    "    produnct = [f\"이미지 링크{i+1}\", f\"노트북{i+1}\", price[i], point[i], f\"구매링크{i+1}\"]\n",
    "\n",
    "    myList.append(produnct)\n",
    "\n",
    "myList"
   ]
  },
  {
   "cell_type": "code",
   "execution_count": 2,
   "metadata": {},
   "outputs": [
    {
     "data": {
      "text/plain": [
       "[['이미지 링크3', '노트북3', '1,200,000원', '10000', '구매링크3'],\n",
       " ['이미지 링크2', '노트북2', '2,000,000원', '3000', '구매링크2'],\n",
       " ['이미지 링크1', '노트북1', '1,500,000원', '2100', '구매링크1']]"
      ]
     },
     "execution_count": 2,
     "metadata": {},
     "output_type": "execute_result"
    }
   ],
   "source": [
    "myList_point = sorted(myList, key=lambda x: int(x[3]), reverse = True)\n",
    "myList_point"
   ]
  },
  {
   "cell_type": "code",
   "execution_count": 3,
   "metadata": {},
   "outputs": [
    {
     "data": {
      "text/plain": [
       "[['이미지 링크3', '노트북3', '1,200,000원', '10000', '구매링크3'],\n",
       " ['이미지 링크1', '노트북1', '1,500,000원', '2100', '구매링크1'],\n",
       " ['이미지 링크2', '노트북2', '2,000,000원', '3000', '구매링크2']]"
      ]
     },
     "execution_count": 3,
     "metadata": {},
     "output_type": "execute_result"
    }
   ],
   "source": [
    "myList_price = sorted(myList, key=lambda x: int(x[2].replace('원', '').replace(',', '')))\n",
    "myList_price"
   ]
  },
  {
   "cell_type": "code",
   "execution_count": null,
   "metadata": {},
   "outputs": [],
   "source": []
  },
  {
   "cell_type": "code",
   "execution_count": null,
   "metadata": {},
   "outputs": [],
   "source": [
    "from selenium import webdriver\n",
    "import subprocess\n",
    "import chromedriver_autoinstaller\n",
    "\n",
    "chrome_path='C:\\Program Files\\Google\\Chrome\\Application\\chrome.exe --remote-debugging-port=9221 --user-data-dir=\"C:\\chrometemp\"'\n",
    "chrome_process = subprocess.Popen(rf'{chrome_path}')\n",
    "\n",
    "options = webdriver.ChromeOptions()\n",
    "options.add_experimental_option(\"debuggerAddress\", \"127.0.0.1:9221\")\n",
    "\n",
    "\n",
    "chromedriver_autoinstaller.install()\n",
    "\n",
    "driver = webdriver.Chrome(options=options)\n",
    "driver.implicitly_wait(3)\n"
   ]
  },
  {
   "cell_type": "code",
   "execution_count": null,
   "metadata": {},
   "outputs": [],
   "source": [
    "from Class_2_Searching_coupang import Setting_Options\n",
    "\n",
    "keyword = '노트북'\n",
    "coupang = Setting_Options(driver)\n",
    "coupang.getting_keyword(keyword)\n",
    "list1 = coupang.Save_Options()"
   ]
  },
  {
   "cell_type": "code",
   "execution_count": null,
   "metadata": {},
   "outputs": [],
   "source": [
    "from Class_3_Shopping_coupang import ShopManager\n",
    "\n",
    "coupang1 = ShopManager(driver)\n",
    "link_list, imageLink_list, title_list, price_list, point_list = coupang1.find_html()"
   ]
  },
  {
   "cell_type": "code",
   "execution_count": null,
   "metadata": {},
   "outputs": [],
   "source": [
    "coupang_list=[]\n",
    "for i in range(len(price_list)):\n",
    "    coupang_list.append([link_list[i], imageLink_list[i], title_list[i], price_list[i], point_list[i]])"
   ]
  },
  {
   "cell_type": "code",
   "execution_count": null,
   "metadata": {},
   "outputs": [],
   "source": [
    "coupang_list"
   ]
  }
 ],
 "metadata": {
  "kernelspec": {
   "display_name": "cupang",
   "language": "python",
   "name": "python3"
  },
  "language_info": {
   "codemirror_mode": {
    "name": "ipython",
    "version": 3
   },
   "file_extension": ".py",
   "mimetype": "text/x-python",
   "name": "python",
   "nbconvert_exporter": "python",
   "pygments_lexer": "ipython3",
   "version": "3.7.16"
  }
 },
 "nbformat": 4,
 "nbformat_minor": 2
}
