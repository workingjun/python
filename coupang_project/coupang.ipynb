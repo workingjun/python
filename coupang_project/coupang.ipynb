{
 "cells": [
  {
   "cell_type": "code",
   "execution_count": 1,
   "metadata": {},
   "outputs": [],
   "source": [
    "from selenium import webdriver\n",
    "from selenium.webdriver.common.by import By\n",
    "import subprocess\n",
    "import chromedriver_autoinstaller\n",
    "\n",
    "chrome_path = (\n",
    "    r'C:\\Program Files\\Google\\Chrome\\Application\\chrome.exe '\n",
    "    r'--remote-debugging-port=9221 --user-data-dir=\"C:\\chrometemp\" '\n",
    "    r'--window-size=400,300 --window-position=0,0'\n",
    ")\n",
    "chrome_process = subprocess.Popen(f'{chrome_path}')\n",
    "\n",
    "options = webdriver.ChromeOptions()\n",
    "options.add_experimental_option(\"debuggerAddress\", \"127.0.0.1:9221\")\n",
    "\n",
    "chromedriver_autoinstaller.install()\n",
    "driver = webdriver.Chrome(options=options)\n",
    "\n",
    "driver.implicitly_wait(3)\n",
    "\n",
    "driver.get(\"http://coupang.com/\")"
   ]
  },
  {
   "cell_type": "code",
   "execution_count": 33,
   "metadata": {},
   "outputs": [],
   "source": [
    "chrome_process.terminate()"
   ]
  },
  {
   "cell_type": "code",
   "execution_count": 6,
   "metadata": {},
   "outputs": [],
   "source": [
    "from Class_1_Searching_blogs import BlogManager\n",
    "\n",
    "query = '대학생 노트북 추천'\n",
    "blog = BlogManager(driver)\n",
    "blog.Search_and_Scroll(query)\n",
    "\n",
    "username_list, blog_title_list, content_list = blog.find_html()"
   ]
  },
  {
   "cell_type": "code",
   "execution_count": null,
   "metadata": {},
   "outputs": [],
   "source": [
    "for i in range(len(username_list)):\n",
    "    print(f\"{i+1}.\")\n",
    "    print(f\"유저 네임: {username_list[i]}\")\n",
    "    print(f\"블로그 타이틀: {blog_title_list[i]}\")\n",
    "    print(f\"블로그 내용: {content_list[i]}\")\n",
    "    print()"
   ]
  },
  {
   "cell_type": "code",
   "execution_count": 2,
   "metadata": {},
   "outputs": [],
   "source": [
    "from Class_2_Searching_coupang import Setting_Options\n",
    "coupang = Setting_Options(driver)\n",
    "\n",
    "coupang.getting_keyword(\"노트북\")"
   ]
  },
  {
   "cell_type": "code",
   "execution_count": 3,
   "metadata": {},
   "outputs": [
    {
     "name": "stdout",
     "output_type": "stream",
     "text": [
      "\n",
      "\n"
     ]
    }
   ],
   "source": [
    "coupang.print_Option_items(\"CPU\")\n",
    "print()\n",
    "coupang.print_Option_items(\"저장용량\")\n",
    "print()"
   ]
  },
  {
   "cell_type": "code",
   "execution_count": 4,
   "metadata": {},
   "outputs": [],
   "source": [
    "coupang.Click_option(\"CPU\", '코어i5')\n",
    "coupang.Click_option(\"저장용량\", '256GB 이하')"
   ]
  },
  {
   "cell_type": "code",
   "execution_count": 10,
   "metadata": {},
   "outputs": [],
   "source": [
    "from Class_3_Shopping_coupang import ShopManager\n",
    "\n",
    "coupang1 = ShopManager(driver)\n",
    "link_list, imageLink_list, title_list, price_list, point_list = coupang1.find_html()"
   ]
  },
  {
   "cell_type": "code",
   "execution_count": null,
   "metadata": {},
   "outputs": [],
   "source": [
    "for i in range(len(title_list)):\n",
    "    print(f\"{i+1}.\")\n",
    "    print(f\"제품 이름: {title_list[i]}\")\n",
    "    print(f\"가격: {price_list[i]}\")\n",
    "    print(f\"리뷰 수: {point_list[i]}\")\n",
    "    print()"
   ]
  },
  {
   "cell_type": "code",
   "execution_count": 31,
   "metadata": {},
   "outputs": [],
   "source": [
    "coupang_list=[]\n",
    "for i in range(len(price_list)):\n",
    "    coupang_list.append([link_list[i], imageLink_list[i], title_list[i], price_list[i], point_list[i]])"
   ]
  },
  {
   "cell_type": "code",
   "execution_count": 42,
   "metadata": {},
   "outputs": [
    {
     "data": {
      "text/plain": [
       "[['1. HP 2024 자비스 AI 노트북 15 코어Ultra5 인텔 14세대, Diamond White, 512GB, 16GB, WIN11 Home, 15-fd1156TU',\n",
       "  '999,000',\n",
       "  '(27)'],\n",
       " ['2. 에이수스 2024 TUF 게이밍 F17 코어i7 인텔 13세대 지포스 RTX 4070, Mecha Gray, 512GB, 16GB, Free DOS, FX707VI-HX090',\n",
       "  <strong class=\"price-value\">1,999,000</strong>,\n",
       "  ''],\n",
       " ['3. 베이직스 2023 베이직북S 10.1 셀러론, White, 128GB, 8GB, WIN11 Pro, BB1022FW',\n",
       "  '391,980',\n",
       "  '(358)']]"
      ]
     },
     "execution_count": 42,
     "metadata": {},
     "output_type": "execute_result"
    }
   ],
   "source": [
    "coupang_list[0:3]"
   ]
  }
 ],
 "metadata": {
  "kernelspec": {
   "display_name": "cupang",
   "language": "python",
   "name": "python3"
  },
  "language_info": {
   "codemirror_mode": {
    "name": "ipython",
    "version": 3
   },
   "file_extension": ".py",
   "mimetype": "text/x-python",
   "name": "python",
   "nbconvert_exporter": "python",
   "pygments_lexer": "ipython3",
   "version": "3.7.16"
  }
 },
 "nbformat": 4,
 "nbformat_minor": 2
}
