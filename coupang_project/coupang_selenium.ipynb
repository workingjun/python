{
 "cells": [
  {
   "cell_type": "code",
   "execution_count": 1,
   "metadata": {},
   "outputs": [
    {
     "name": "stderr",
     "output_type": "stream",
     "text": [
      "C:\\Users\\kimju\\AppData\\Roaming\\Python\\Python37\\site-packages\\ipykernel_launcher.py:13: DeprecationWarning: use options instead of chrome_options\n",
      "  del sys.path[0]\n"
     ]
    }
   ],
   "source": [
    "from selenium import webdriver\n",
    "from selenium.webdriver.common.by import By\n",
    "import chromedriver_autoinstaller\n",
    "import subprocess\n",
    "import time\n",
    "\n",
    "subprocess.Popen(r'C:\\Program Files\\Google\\Chrome\\Application\\chrome.exe --remote-debugging-port=9222 --user-data-dir=\"C:\\chrometemp\"')\n",
    "\n",
    "options = webdriver.ChromeOptions()\n",
    "options.add_experimental_option(\"debuggerAddress\", \"127.0.0.1:9222\")\n",
    "\n",
    "chromedriver_autoinstaller.install()\n",
    "driver = webdriver.Chrome(chrome_options=options)\n",
    "\n",
    "driver.implicitly_wait(3)\n",
    "\n",
    "url = 'https://www.coupang.com'\n",
    "driver.get(url)\n",
    "xpath='//*[@id=\"headerSearchKeyword\"]'\n",
    "driver.find_element(By.XPATH, xpath).send_keys(\"지갑\")\n",
    "driver.find_element(By.XPATH, xpath).send_keys(\"\\n\")"
   ]
  },
  {
   "cell_type": "markdown",
   "metadata": {},
   "source": [
    "#### 최소가격 최대가격"
   ]
  },
  {
   "cell_type": "code",
   "execution_count": 5,
   "metadata": {},
   "outputs": [],
   "source": [
    "xpath = \"//div[contains(@class, 'search-filter-options search-')]\"\n",
    "elems = driver.find_elements(By.XPATH, xpath)\n",
    "\n",
    "for i, elem in enumerate(elems):\n",
    "    textbox = elem.text\n",
    "    if \"가격\" in textbox:\n",
    "        index = i"
   ]
  },
  {
   "cell_type": "code",
   "execution_count": 56,
   "metadata": {},
   "outputs": [],
   "source": [
    "xpath = \"//input[@title='minPrice']\"\n",
    "elems[index].find_element(By.XPATH, xpath).send_keys(\"600000\")\n",
    "\n",
    "xpath = \"//input[@title='maxPrice']\"\n",
    "elems[index].find_element(By.XPATH, xpath).send_keys(\"1200000\")\n",
    "\n",
    "xpath = '//*[@id=\"searchPriceFilter\"]/div/a'\n",
    "elems[index].find_element(By.XPATH, xpath).click()"
   ]
  },
  {
   "cell_type": "markdown",
   "metadata": {},
   "source": [
    "#### 옵션 최대로 "
   ]
  },
  {
   "cell_type": "code",
   "execution_count": 79,
   "metadata": {},
   "outputs": [
    {
     "name": "stderr",
     "output_type": "stream",
     "text": [
      "C:\\Users\\kimju\\AppData\\Roaming\\Python\\Python37\\site-packages\\ipykernel_launcher.py:13: DeprecationWarning: use options instead of chrome_options\n",
      "  del sys.path[0]\n"
     ]
    }
   ],
   "source": [
    "from selenium import webdriver\n",
    "from selenium.webdriver.common.by import By\n",
    "import chromedriver_autoinstaller\n",
    "import subprocess\n",
    "import time\n",
    "\n",
    "subprocess.Popen(r'C:\\Program Files\\Google\\Chrome\\Application\\chrome.exe --remote-debugging-port=9222 --user-data-dir=\"C:\\chrometemp\"')\n",
    "\n",
    "options = webdriver.ChromeOptions()\n",
    "options.add_experimental_option(\"debuggerAddress\", \"127.0.0.1:9222\")\n",
    "\n",
    "chromedriver_autoinstaller.install()\n",
    "driver = webdriver.Chrome(chrome_options=options)\n",
    "\n",
    "driver.implicitly_wait(3)\n",
    "\n",
    "url = 'https://www.coupang.com'\n",
    "driver.get(url)\n",
    "xpath='//*[@id=\"headerSearchKeyword\"]'\n",
    "driver.find_element(By.XPATH, xpath).send_keys(\"지갑\")\n",
    "driver.find_element(By.XPATH, xpath).send_keys(\"\\n\")\n",
    "\n",
    "def loading(driver):\n",
    "    xpath = \"//div[contains(@class, 'search-filter-options search-')]\"\n",
    "    elems = driver.find_elements(By.XPATH, xpath)\n",
    "    return elems\n",
    "\n",
    "elems = loading(driver)\n",
    "for i, elem in enumerate(elems):\n",
    "    try:\n",
    "        if i>=4:\n",
    "            elem.find_element(By.TAG_NAME, 'span').click()\n",
    "    except:\n",
    "        continue"
   ]
  },
  {
   "cell_type": "markdown",
   "metadata": {},
   "source": [
    "#### 옵션명 가져오기 "
   ]
  },
  {
   "cell_type": "code",
   "execution_count": 11,
   "metadata": {},
   "outputs": [
    {
     "name": "stdout",
     "output_type": "stream",
     "text": [
      "4 색상\n",
      "5 사용대상\n",
      "6 종류\n",
      "7 소재\n",
      "8 여성 지갑 종류\n",
      "9 각인 포함 유무\n",
      "10 남성 지갑 종류\n",
      "11 출시년도\n",
      "12 제조년도\n",
      "13 출시 계절\n",
      "14 남녀공용 지갑 종류\n",
      "15 손목스트랩 여부\n",
      "16 키홀더 재질\n",
      "17 별점\n",
      "18 가격\n"
     ]
    }
   ],
   "source": [
    "elems = loading(driver)\n",
    "\n",
    "texts = []\n",
    "\n",
    "for i, elem in enumerate(elems):\n",
    "    if i<4:\n",
    "        continue\n",
    "    else:    \n",
    "        textbox = elem.text\n",
    "        texts.append(textbox.split('\\n'))\n",
    "        \n",
    "for i in range(len(texts)):\n",
    "    if i == len(texts)-1:\n",
    "        texts[i].remove(\"~ 원\")   \n",
    "        texts[i].remove(\"검색\")  \n",
    "    if texts[i][-1] == \"닫기\":\n",
    "        texts[i].remove(\"닫기\") \n",
    "    if texts[i][-1] == \"더보기\":\n",
    "        texts[i].remove(\"더보기\") \n",
    "    print(i+4, texts[i][0])"
   ]
  },
  {
   "cell_type": "code",
   "execution_count": 21,
   "metadata": {},
   "outputs": [],
   "source": [
    "elems = loading(driver)\n",
    "texts = [elem.text.split('\\n') for elem in elems[4:]]\n",
    "\n",
    "text_list = []\n",
    "\n",
    "for i, text in enumerate(texts, start = 4):\n",
    "    if text[-1] in [\"닫기\", \"더보기\"]:\n",
    "        text.pop()\n",
    "    if text[-1] == \"검색\":\n",
    "        text.pop()\n",
    "    if text[-1].endswith(\"~ 원\"):\n",
    "        text.pop()\n",
    "\n",
    "    text_list.append(text)"
   ]
  },
  {
   "cell_type": "code",
   "execution_count": 22,
   "metadata": {},
   "outputs": [
    {
     "name": "stdout",
     "output_type": "stream",
     "text": [
      "['블랙', '네이비', '그레이', '실버', '레드', '오렌지', '옐로우', '그린', '블루', '퍼플', '핑크', '화이트', '브라운', '골드', '베이지', '혼합', '투명']\n",
      "['남성용', '여성용', '남녀공용', '아동/유아용']\n",
      "['장지갑', '중지갑', '반지갑', '카드/명함지갑', '머니클립', '기타/동전']\n",
      "['가죽', '인조가죽 (합성피혁)', '면 (아사) /캔버스', '린넨', '나일론', '아크릴', '폴리에스터', '실크 (견)', '캐시미어혼방', '울', '왕골 (밀짚)', '인조퍼', '니트', '에나멜', '젤리/고무', '메쉬/망사', '코듀로이/골덴', '스웨이드/무스탕', '패딩/누빔', '실리콘']\n",
      "['장지갑', '중지갑', '반지갑', '머니클립', '카드/명함지갑', '카드목걸이', '스마트폰카드지갑', '키지갑/키홀더', '동전지갑', '통장지갑']\n",
      "['각인포함', '각인미포함']\n",
      "['장지갑', '중지갑', '반지갑', '머니클립', '카드/명함지갑', '카드목걸이', '스마트폰카드지갑', '키지갑/키홀더', '동전지갑', '통장지갑']\n",
      "['2023년도', '2022년도', '2021년도', '2020년도', '2019년도', '2018년도 이전']\n",
      "['2023', '2022', '2021', '2020', '2019', '2018']\n",
      "['봄', '여름', '가을', '겨울']\n",
      "['장지갑', '중지갑', '반지갑', '머니클립', '카드/명함 지갑', '카드 목걸이', '스마트폰 카드지갑', '키 지갑/키 홀더', '동전지갑', '통장지갑']\n",
      "['손목스트랩형']\n",
      "['가죽', '아크릴', '패브릭', '실리콘', '메탈', '알칸타라']\n",
      "['별점 전체', '4점 이상', '3점 이상', '2점 이상', '1점 이상']\n",
      "['가격 전체', '9천원 이하', '9천원~1만 8천원', '1만 8천원~2만 7천원', '2만 7천원~3만 6천원', '3만 6천원 이상']\n"
     ]
    }
   ],
   "source": [
    "for text in text_list:\n",
    "    print(text[1:])"
   ]
  },
  {
   "cell_type": "markdown",
   "metadata": {},
   "source": [
    "#### 옵션 선택 가져오기"
   ]
  },
  {
   "cell_type": "code",
   "execution_count": 10,
   "metadata": {},
   "outputs": [
    {
     "name": "stdout",
     "output_type": "stream",
     "text": [
      "0 블랙\n",
      "1 네이비\n",
      "2 그레이\n",
      "3 실버\n",
      "4 레드\n",
      "5 오렌지\n",
      "6 옐로우\n",
      "7 그린\n",
      "8 블루\n",
      "9 퍼플\n",
      "10 핑크\n",
      "11 화이트\n",
      "12 브라운\n",
      "13 골드\n",
      "14 베이지\n",
      "15 혼합\n",
      "16 투명\n",
      "\n",
      "0 남성용\n",
      "1 여성용\n",
      "2 남녀공용\n",
      "\n",
      "0 장지갑\n",
      "1 중지갑\n",
      "2 반지갑\n",
      "3 카드/명함지갑\n",
      "4 머니클립\n",
      "5 기타/동전\n",
      "\n",
      "0 가죽\n",
      "1 인조가죽 (합성피혁)\n",
      "2 면 (아사) /캔버스\n",
      "3 린넨\n",
      "4 나일론\n",
      "5 아크릴\n",
      "6 폴리에스터\n",
      "7 실크 (견)\n",
      "8 캐시미어혼방\n",
      "9 왕골 (밀짚)\n",
      "10 인조퍼\n",
      "11 니트\n",
      "12 에나멜\n",
      "13 젤리/고무\n",
      "14 메쉬/망사\n",
      "15 코듀로이/골덴\n",
      "16 스웨이드/무스탕\n",
      "17 패딩/누빔\n",
      "18 실리콘\n",
      "\n",
      "0 장지갑\n",
      "1 중지갑\n",
      "2 반지갑\n",
      "3 머니클립\n",
      "4 카드/명함지갑\n",
      "5 카드목걸이\n",
      "6 스마트폰카드지갑\n",
      "7 키지갑/키홀더\n",
      "8 동전지갑\n",
      "9 통장지갑\n",
      "\n",
      "0 각인포함\n",
      "1 각인미포함\n",
      "\n",
      "0 장지갑\n",
      "1 중지갑\n",
      "2 반지갑\n",
      "3 머니클립\n",
      "4 카드/명함지갑\n",
      "5 카드목걸이\n",
      "6 스마트폰카드지갑\n",
      "7 키지갑/키홀더\n",
      "8 동전지갑\n",
      "9 통장지갑\n",
      "\n",
      "0 2023년도\n",
      "1 2022년도\n",
      "2 2021년도\n",
      "3 2020년도\n",
      "4 2019년도\n",
      "5 2018년도 이전\n",
      "\n",
      "0 2023\n",
      "1 2022\n",
      "2 2021\n",
      "3 2020\n",
      "4 2019\n",
      "5 2018\n",
      "6 2017 이전\n",
      "\n",
      "0 봄\n",
      "1 여름\n",
      "2 가을\n",
      "3 겨울\n",
      "\n",
      "0 장지갑\n",
      "1 중지갑\n",
      "2 반지갑\n",
      "3 머니클립\n",
      "4 카드/명함 지갑\n",
      "5 카드 목걸이\n",
      "6 스마트폰 카드지갑\n",
      "7 키 지갑/키 홀더\n",
      "8 동전지갑\n",
      "9 통장지갑\n",
      "\n",
      "0 손목스트랩형\n",
      "\n",
      "0 가죽\n",
      "1 아크릴\n",
      "2 패브릭\n",
      "3 실리콘\n",
      "4 메탈\n",
      "5 알칸타라\n",
      "\n",
      "0 별점 전체\n",
      "1 4점 이상\n",
      "2 3점 이상\n",
      "3 2점 이상\n",
      "4 1점 이상\n",
      "\n",
      "0 가격 전체\n",
      "1 8천원 이하\n",
      "2 8천원~1만 6천원\n",
      "3 1만 6천원~2만 4천원\n",
      "4 2만 4천원~3만 2천원\n",
      "5 3만 2천원 이상\n",
      "\n"
     ]
    }
   ],
   "source": [
    "for i in range(len(texts)):\n",
    "    for j in range(len(texts[i])):\n",
    "        if j!=0:\n",
    "            print(j-1, texts[i][j])\n",
    "    print()"
   ]
  },
  {
   "cell_type": "markdown",
   "metadata": {},
   "source": [
    "#### 옵션 클릭"
   ]
  },
  {
   "cell_type": "code",
   "execution_count": 29,
   "metadata": {},
   "outputs": [
    {
     "name": "stdout",
     "output_type": "stream",
     "text": [
      "색상\n",
      "사용대상\n",
      "종류\n",
      "소재\n",
      "여성 지갑 종류\n",
      "각인 포함 유무\n",
      "남성 지갑 종류\n",
      "출시년도\n",
      "제조년도\n",
      "출시 계절\n",
      "남녀공용 지갑 종류\n",
      "손목스트랩 여부\n",
      "키홀더 재질\n",
      "별점\n",
      "가격\n"
     ]
    }
   ],
   "source": [
    "for i, text in enumerate(text_list):\n",
    "    print(text[0])\n",
    "        "
   ]
  },
  {
   "cell_type": "code",
   "execution_count": 80,
   "metadata": {},
   "outputs": [],
   "source": [
    "option_name='소재'\n",
    "option_item_name='실리콘'\n",
    "\n",
    "for i in range(len(text_list)):\n",
    "    if text_list[i][0]==option_name:\n",
    "        option_num = i\n",
    "        for j in range(len(text_list[i])):                \n",
    "            if text_list[i][j]==option_item_name:\n",
    "                option_item_num = j - 1\n",
    "                break\n",
    "        if option_item_num is not None:\n",
    "                    break\n",
    "#option_item_num\n"
   ]
  },
  {
   "cell_type": "code",
   "execution_count": 81,
   "metadata": {},
   "outputs": [
    {
     "data": {
      "text/plain": [
       "19"
      ]
     },
     "execution_count": 81,
     "metadata": {},
     "output_type": "execute_result"
    }
   ],
   "source": [
    "option_item_num"
   ]
  },
  {
   "cell_type": "code",
   "execution_count": 31,
   "metadata": {},
   "outputs": [],
   "source": [
    "option_name='소재'\n",
    "option_item_name='실리콘'\n",
    "\n",
    "for i, text in enumerate(text_list):\n",
    "    if text[0]==option_name:\n",
    "        option_num = i + 4\n",
    "        break\n",
    "\n",
    "for i in range(len(text_list)):\n",
    "    for j in range(len(text_list[i])):\n",
    "        if text_list[i][j]==option_item_name:\n",
    "            option_item_num = j + 4\n",
    "            break\n",
    "        \n",
    "            \n",
    "elems_option1 = elems[option_num].find_elements(By.TAG_NAME, 'li')\n",
    "elems_option1[option_item_num].click()\n",
    "time.sleep(1)"
   ]
  },
  {
   "cell_type": "code",
   "execution_count": null,
   "metadata": {},
   "outputs": [],
   "source": []
  },
  {
   "cell_type": "code",
   "execution_count": 63,
   "metadata": {},
   "outputs": [
    {
     "name": "stderr",
     "output_type": "stream",
     "text": [
      "C:\\Users\\kimju\\AppData\\Roaming\\Python\\Python37\\site-packages\\ipykernel_launcher.py:13: DeprecationWarning: use options instead of chrome_options\n",
      "  del sys.path[0]\n"
     ]
    },
    {
     "ename": "StaleElementReferenceException",
     "evalue": "Message: stale element reference: stale element not found\n  (Session info: chrome=125.0.6422.77)\n",
     "output_type": "error",
     "traceback": [
      "\u001b[1;31m---------------------------------------------------------------------------\u001b[0m",
      "\u001b[1;31mStaleElementReferenceException\u001b[0m            Traceback (most recent call last)",
      "\u001b[1;32m~\\AppData\\Local\\Temp\\ipykernel_17288\\2578579390.py\u001b[0m in \u001b[0;36m<module>\u001b[1;34m\u001b[0m\n\u001b[0;32m     35\u001b[0m         \u001b[1;32mcontinue\u001b[0m\u001b[1;33m\u001b[0m\u001b[1;33m\u001b[0m\u001b[0m\n\u001b[0;32m     36\u001b[0m \u001b[1;33m\u001b[0m\u001b[0m\n\u001b[1;32m---> 37\u001b[1;33m \u001b[0mtexts\u001b[0m \u001b[1;33m=\u001b[0m \u001b[1;33m[\u001b[0m\u001b[0melem\u001b[0m\u001b[1;33m.\u001b[0m\u001b[0mtext\u001b[0m\u001b[1;33m.\u001b[0m\u001b[0msplit\u001b[0m\u001b[1;33m(\u001b[0m\u001b[1;34m'\\n'\u001b[0m\u001b[1;33m)\u001b[0m \u001b[1;32mfor\u001b[0m \u001b[0melem\u001b[0m \u001b[1;32min\u001b[0m \u001b[0melems\u001b[0m\u001b[1;33m[\u001b[0m\u001b[1;36m4\u001b[0m\u001b[1;33m:\u001b[0m\u001b[1;33m]\u001b[0m\u001b[1;33m]\u001b[0m\u001b[1;33m\u001b[0m\u001b[1;33m\u001b[0m\u001b[0m\n\u001b[0m\u001b[0;32m     38\u001b[0m \u001b[1;33m\u001b[0m\u001b[0m\n\u001b[0;32m     39\u001b[0m \u001b[0mtext_list\u001b[0m \u001b[1;33m=\u001b[0m \u001b[1;33m[\u001b[0m\u001b[1;33m]\u001b[0m\u001b[1;33m\u001b[0m\u001b[1;33m\u001b[0m\u001b[0m\n",
      "\u001b[1;32m~\\AppData\\Local\\Temp\\ipykernel_17288\\2578579390.py\u001b[0m in \u001b[0;36m<listcomp>\u001b[1;34m(.0)\u001b[0m\n\u001b[0;32m     35\u001b[0m         \u001b[1;32mcontinue\u001b[0m\u001b[1;33m\u001b[0m\u001b[1;33m\u001b[0m\u001b[0m\n\u001b[0;32m     36\u001b[0m \u001b[1;33m\u001b[0m\u001b[0m\n\u001b[1;32m---> 37\u001b[1;33m \u001b[0mtexts\u001b[0m \u001b[1;33m=\u001b[0m \u001b[1;33m[\u001b[0m\u001b[0melem\u001b[0m\u001b[1;33m.\u001b[0m\u001b[0mtext\u001b[0m\u001b[1;33m.\u001b[0m\u001b[0msplit\u001b[0m\u001b[1;33m(\u001b[0m\u001b[1;34m'\\n'\u001b[0m\u001b[1;33m)\u001b[0m \u001b[1;32mfor\u001b[0m \u001b[0melem\u001b[0m \u001b[1;32min\u001b[0m \u001b[0melems\u001b[0m\u001b[1;33m[\u001b[0m\u001b[1;36m4\u001b[0m\u001b[1;33m:\u001b[0m\u001b[1;33m]\u001b[0m\u001b[1;33m]\u001b[0m\u001b[1;33m\u001b[0m\u001b[1;33m\u001b[0m\u001b[0m\n\u001b[0m\u001b[0;32m     38\u001b[0m \u001b[1;33m\u001b[0m\u001b[0m\n\u001b[0;32m     39\u001b[0m \u001b[0mtext_list\u001b[0m \u001b[1;33m=\u001b[0m \u001b[1;33m[\u001b[0m\u001b[1;33m]\u001b[0m\u001b[1;33m\u001b[0m\u001b[1;33m\u001b[0m\u001b[0m\n",
      "\u001b[1;32mc:\\Users\\kimju\\anaconda3\\envs\\cupang\\lib\\site-packages\\selenium\\webdriver\\remote\\webelement.py\u001b[0m in \u001b[0;36mtext\u001b[1;34m(self)\u001b[0m\n\u001b[0;32m     74\u001b[0m     \u001b[1;32mdef\u001b[0m \u001b[0mtext\u001b[0m\u001b[1;33m(\u001b[0m\u001b[0mself\u001b[0m\u001b[1;33m)\u001b[0m\u001b[1;33m:\u001b[0m\u001b[1;33m\u001b[0m\u001b[1;33m\u001b[0m\u001b[0m\n\u001b[0;32m     75\u001b[0m         \u001b[1;34m\"\"\"The text of the element.\"\"\"\u001b[0m\u001b[1;33m\u001b[0m\u001b[1;33m\u001b[0m\u001b[0m\n\u001b[1;32m---> 76\u001b[1;33m         \u001b[1;32mreturn\u001b[0m \u001b[0mself\u001b[0m\u001b[1;33m.\u001b[0m\u001b[0m_execute\u001b[0m\u001b[1;33m(\u001b[0m\u001b[0mCommand\u001b[0m\u001b[1;33m.\u001b[0m\u001b[0mGET_ELEMENT_TEXT\u001b[0m\u001b[1;33m)\u001b[0m\u001b[1;33m[\u001b[0m\u001b[1;34m'value'\u001b[0m\u001b[1;33m]\u001b[0m\u001b[1;33m\u001b[0m\u001b[1;33m\u001b[0m\u001b[0m\n\u001b[0m\u001b[0;32m     77\u001b[0m \u001b[1;33m\u001b[0m\u001b[0m\n\u001b[0;32m     78\u001b[0m     \u001b[1;32mdef\u001b[0m \u001b[0mclick\u001b[0m\u001b[1;33m(\u001b[0m\u001b[0mself\u001b[0m\u001b[1;33m)\u001b[0m\u001b[1;33m:\u001b[0m\u001b[1;33m\u001b[0m\u001b[1;33m\u001b[0m\u001b[0m\n",
      "\u001b[1;32mc:\\Users\\kimju\\anaconda3\\envs\\cupang\\lib\\site-packages\\selenium\\webdriver\\remote\\webelement.py\u001b[0m in \u001b[0;36m_execute\u001b[1;34m(self, command, params)\u001b[0m\n\u001b[0;32m    631\u001b[0m             \u001b[0mparams\u001b[0m \u001b[1;33m=\u001b[0m \u001b[1;33m{\u001b[0m\u001b[1;33m}\u001b[0m\u001b[1;33m\u001b[0m\u001b[1;33m\u001b[0m\u001b[0m\n\u001b[0;32m    632\u001b[0m         \u001b[0mparams\u001b[0m\u001b[1;33m[\u001b[0m\u001b[1;34m'id'\u001b[0m\u001b[1;33m]\u001b[0m \u001b[1;33m=\u001b[0m \u001b[0mself\u001b[0m\u001b[1;33m.\u001b[0m\u001b[0m_id\u001b[0m\u001b[1;33m\u001b[0m\u001b[1;33m\u001b[0m\u001b[0m\n\u001b[1;32m--> 633\u001b[1;33m         \u001b[1;32mreturn\u001b[0m \u001b[0mself\u001b[0m\u001b[1;33m.\u001b[0m\u001b[0m_parent\u001b[0m\u001b[1;33m.\u001b[0m\u001b[0mexecute\u001b[0m\u001b[1;33m(\u001b[0m\u001b[0mcommand\u001b[0m\u001b[1;33m,\u001b[0m \u001b[0mparams\u001b[0m\u001b[1;33m)\u001b[0m\u001b[1;33m\u001b[0m\u001b[1;33m\u001b[0m\u001b[0m\n\u001b[0m\u001b[0;32m    634\u001b[0m \u001b[1;33m\u001b[0m\u001b[0m\n\u001b[0;32m    635\u001b[0m     \u001b[1;32mdef\u001b[0m \u001b[0mfind_element\u001b[0m\u001b[1;33m(\u001b[0m\u001b[0mself\u001b[0m\u001b[1;33m,\u001b[0m \u001b[0mby\u001b[0m\u001b[1;33m=\u001b[0m\u001b[0mBy\u001b[0m\u001b[1;33m.\u001b[0m\u001b[0mID\u001b[0m\u001b[1;33m,\u001b[0m \u001b[0mvalue\u001b[0m\u001b[1;33m=\u001b[0m\u001b[1;32mNone\u001b[0m\u001b[1;33m)\u001b[0m\u001b[1;33m:\u001b[0m\u001b[1;33m\u001b[0m\u001b[1;33m\u001b[0m\u001b[0m\n",
      "\u001b[1;32mc:\\Users\\kimju\\anaconda3\\envs\\cupang\\lib\\site-packages\\selenium\\webdriver\\remote\\webdriver.py\u001b[0m in \u001b[0;36mexecute\u001b[1;34m(self, driver_command, params)\u001b[0m\n\u001b[0;32m    319\u001b[0m         \u001b[0mresponse\u001b[0m \u001b[1;33m=\u001b[0m \u001b[0mself\u001b[0m\u001b[1;33m.\u001b[0m\u001b[0mcommand_executor\u001b[0m\u001b[1;33m.\u001b[0m\u001b[0mexecute\u001b[0m\u001b[1;33m(\u001b[0m\u001b[0mdriver_command\u001b[0m\u001b[1;33m,\u001b[0m \u001b[0mparams\u001b[0m\u001b[1;33m)\u001b[0m\u001b[1;33m\u001b[0m\u001b[1;33m\u001b[0m\u001b[0m\n\u001b[0;32m    320\u001b[0m         \u001b[1;32mif\u001b[0m \u001b[0mresponse\u001b[0m\u001b[1;33m:\u001b[0m\u001b[1;33m\u001b[0m\u001b[1;33m\u001b[0m\u001b[0m\n\u001b[1;32m--> 321\u001b[1;33m             \u001b[0mself\u001b[0m\u001b[1;33m.\u001b[0m\u001b[0merror_handler\u001b[0m\u001b[1;33m.\u001b[0m\u001b[0mcheck_response\u001b[0m\u001b[1;33m(\u001b[0m\u001b[0mresponse\u001b[0m\u001b[1;33m)\u001b[0m\u001b[1;33m\u001b[0m\u001b[1;33m\u001b[0m\u001b[0m\n\u001b[0m\u001b[0;32m    322\u001b[0m             response['value'] = self._unwrap_value(\n\u001b[0;32m    323\u001b[0m                 response.get('value', None))\n",
      "\u001b[1;32mc:\\Users\\kimju\\anaconda3\\envs\\cupang\\lib\\site-packages\\selenium\\webdriver\\remote\\errorhandler.py\u001b[0m in \u001b[0;36mcheck_response\u001b[1;34m(self, response)\u001b[0m\n\u001b[0;32m    240\u001b[0m                 \u001b[0malert_text\u001b[0m \u001b[1;33m=\u001b[0m \u001b[0mvalue\u001b[0m\u001b[1;33m[\u001b[0m\u001b[1;34m'alert'\u001b[0m\u001b[1;33m]\u001b[0m\u001b[1;33m.\u001b[0m\u001b[0mget\u001b[0m\u001b[1;33m(\u001b[0m\u001b[1;34m'text'\u001b[0m\u001b[1;33m)\u001b[0m\u001b[1;33m\u001b[0m\u001b[1;33m\u001b[0m\u001b[0m\n\u001b[0;32m    241\u001b[0m             \u001b[1;32mraise\u001b[0m \u001b[0mexception_class\u001b[0m\u001b[1;33m(\u001b[0m\u001b[0mmessage\u001b[0m\u001b[1;33m,\u001b[0m \u001b[0mscreen\u001b[0m\u001b[1;33m,\u001b[0m \u001b[0mstacktrace\u001b[0m\u001b[1;33m,\u001b[0m \u001b[0malert_text\u001b[0m\u001b[1;33m)\u001b[0m\u001b[1;33m\u001b[0m\u001b[1;33m\u001b[0m\u001b[0m\n\u001b[1;32m--> 242\u001b[1;33m         \u001b[1;32mraise\u001b[0m \u001b[0mexception_class\u001b[0m\u001b[1;33m(\u001b[0m\u001b[0mmessage\u001b[0m\u001b[1;33m,\u001b[0m \u001b[0mscreen\u001b[0m\u001b[1;33m,\u001b[0m \u001b[0mstacktrace\u001b[0m\u001b[1;33m)\u001b[0m\u001b[1;33m\u001b[0m\u001b[1;33m\u001b[0m\u001b[0m\n\u001b[0m\u001b[0;32m    243\u001b[0m \u001b[1;33m\u001b[0m\u001b[0m\n\u001b[0;32m    244\u001b[0m     \u001b[1;32mdef\u001b[0m \u001b[0m_value_or_default\u001b[0m\u001b[1;33m(\u001b[0m\u001b[0mself\u001b[0m\u001b[1;33m,\u001b[0m \u001b[0mobj\u001b[0m\u001b[1;33m,\u001b[0m \u001b[0mkey\u001b[0m\u001b[1;33m,\u001b[0m \u001b[0mdefault\u001b[0m\u001b[1;33m)\u001b[0m\u001b[1;33m:\u001b[0m\u001b[1;33m\u001b[0m\u001b[1;33m\u001b[0m\u001b[0m\n",
      "\u001b[1;31mStaleElementReferenceException\u001b[0m: Message: stale element reference: stale element not found\n  (Session info: chrome=125.0.6422.77)\n"
     ]
    }
   ],
   "source": [
    "from selenium import webdriver\n",
    "from selenium.webdriver.common.by import By\n",
    "import chromedriver_autoinstaller\n",
    "import subprocess\n",
    "import time\n",
    "\n",
    "subprocess.Popen(r'C:\\Program Files\\Google\\Chrome\\Application\\chrome.exe --remote-debugging-port=9222 --user-data-dir=\"C:\\chrometemp\"')\n",
    "\n",
    "options = webdriver.ChromeOptions()\n",
    "options.add_experimental_option(\"debuggerAddress\", \"127.0.0.1:9222\")\n",
    "\n",
    "chromedriver_autoinstaller.install()\n",
    "driver = webdriver.Chrome(chrome_options=options)\n",
    "\n",
    "driver.implicitly_wait(3)\n",
    "\n",
    "url = 'https://www.coupang.com'\n",
    "driver.get(url)\n",
    "xpath='//*[@id=\"headerSearchKeyword\"]'\n",
    "driver.find_element(By.XPATH, xpath).send_keys(\"지갑\")\n",
    "driver.find_element(By.XPATH, xpath).send_keys(\"\\n\")\n",
    "\n",
    "def loading(driver):\n",
    "    xpath = \"//div[contains(@class, 'search-filter-options search-')]\"\n",
    "    elems = driver.find_elements(By.XPATH, xpath)\n",
    "    return elems\n",
    "\n",
    "elems = loading(driver)\n",
    "\n",
    "for i, elem in enumerate(elems):\n",
    "    try:\n",
    "        if i>=4:\n",
    "            elem.find_element(By.LINK_TEXT, '더보기').click()\n",
    "    except:\n",
    "        continue\n",
    "\n",
    "texts = [elem.text.split('\\n') for elem in elems[4:]]\n",
    "\n",
    "text_list = []\n",
    "\n",
    "for i, text in enumerate(texts, start = 4):\n",
    "    if text[-1] in [\"닫기\", \"더보기\"]:\n",
    "        text.pop()\n",
    "    if text[-1] == \"검색\":\n",
    "        text.pop()\n",
    "    if text[-1].endswith(\"~ 원\"):\n",
    "        text.pop()\n",
    "\n",
    "    text_list.append(text)\n",
    "\n",
    "option_name='소재'\n",
    "option_item_name='실리콘'\n",
    "\n",
    "\n",
    "\n",
    "for i in range(len(text_list)):\n",
    "    if text_list[i][0]==option_name:\n",
    "        option_num = i + 4\n",
    "        for j in range(len(text_list[i])):                \n",
    "            if text_list[i][j]==option_item_name:\n",
    "                option_item_num = j - 1 \n",
    "                break\n",
    "\n",
    "            \n",
    "elems_option1 = elems[option_num].find_elements(By.TAG_NAME, 'li')\n",
    "elems_option1[option_item_num].click()\n",
    "time.sleep(1)"
   ]
  },
  {
   "cell_type": "code",
   "execution_count": 71,
   "metadata": {},
   "outputs": [
    {
     "ename": "NoSuchWindowException",
     "evalue": "Message: no such window: target window already closed\nfrom unknown error: web view not found\n  (Session info: chrome=125.0.6422.77)\n",
     "output_type": "error",
     "traceback": [
      "\u001b[1;31m---------------------------------------------------------------------------\u001b[0m",
      "\u001b[1;31mNoSuchWindowException\u001b[0m                     Traceback (most recent call last)",
      "\u001b[1;32m~\\AppData\\Local\\Temp\\ipykernel_17288\\2767220159.py\u001b[0m in \u001b[0;36m<module>\u001b[1;34m\u001b[0m\n\u001b[1;32m----> 1\u001b[1;33m \u001b[0melems\u001b[0m \u001b[1;33m=\u001b[0m \u001b[0mloading\u001b[0m\u001b[1;33m(\u001b[0m\u001b[0mdriver\u001b[0m\u001b[1;33m)\u001b[0m\u001b[1;33m\u001b[0m\u001b[1;33m\u001b[0m\u001b[0m\n\u001b[0m\u001b[0;32m      2\u001b[0m \u001b[0melems_option1\u001b[0m \u001b[1;33m=\u001b[0m \u001b[0melems\u001b[0m\u001b[1;33m[\u001b[0m\u001b[1;36m4\u001b[0m\u001b[1;33m]\u001b[0m\u001b[1;33m.\u001b[0m\u001b[0mfind_elements\u001b[0m\u001b[1;33m(\u001b[0m\u001b[0mBy\u001b[0m\u001b[1;33m.\u001b[0m\u001b[0mTAG_NAME\u001b[0m\u001b[1;33m,\u001b[0m \u001b[1;34m'li'\u001b[0m\u001b[1;33m)\u001b[0m\u001b[1;33m\u001b[0m\u001b[1;33m\u001b[0m\u001b[0m\n\u001b[0;32m      3\u001b[0m \u001b[0melems_option1\u001b[0m\u001b[1;33m[\u001b[0m\u001b[1;36m11\u001b[0m\u001b[1;33m]\u001b[0m\u001b[1;33m.\u001b[0m\u001b[0mclick\u001b[0m\u001b[1;33m(\u001b[0m\u001b[1;33m)\u001b[0m\u001b[1;33m\u001b[0m\u001b[1;33m\u001b[0m\u001b[0m\n",
      "\u001b[1;32m~\\AppData\\Local\\Temp\\ipykernel_17288\\2578579390.py\u001b[0m in \u001b[0;36mloading\u001b[1;34m(driver)\u001b[0m\n\u001b[0;32m     23\u001b[0m \u001b[1;32mdef\u001b[0m \u001b[0mloading\u001b[0m\u001b[1;33m(\u001b[0m\u001b[0mdriver\u001b[0m\u001b[1;33m)\u001b[0m\u001b[1;33m:\u001b[0m\u001b[1;33m\u001b[0m\u001b[1;33m\u001b[0m\u001b[0m\n\u001b[0;32m     24\u001b[0m     \u001b[0mxpath\u001b[0m \u001b[1;33m=\u001b[0m \u001b[1;34m\"//div[contains(@class, 'search-filter-options search-')]\"\u001b[0m\u001b[1;33m\u001b[0m\u001b[1;33m\u001b[0m\u001b[0m\n\u001b[1;32m---> 25\u001b[1;33m     \u001b[0melems\u001b[0m \u001b[1;33m=\u001b[0m \u001b[0mdriver\u001b[0m\u001b[1;33m.\u001b[0m\u001b[0mfind_elements\u001b[0m\u001b[1;33m(\u001b[0m\u001b[0mBy\u001b[0m\u001b[1;33m.\u001b[0m\u001b[0mXPATH\u001b[0m\u001b[1;33m,\u001b[0m \u001b[0mxpath\u001b[0m\u001b[1;33m)\u001b[0m\u001b[1;33m\u001b[0m\u001b[1;33m\u001b[0m\u001b[0m\n\u001b[0m\u001b[0;32m     26\u001b[0m     \u001b[1;32mreturn\u001b[0m \u001b[0melems\u001b[0m\u001b[1;33m\u001b[0m\u001b[1;33m\u001b[0m\u001b[0m\n\u001b[0;32m     27\u001b[0m \u001b[1;33m\u001b[0m\u001b[0m\n",
      "\u001b[1;32mc:\\Users\\kimju\\anaconda3\\envs\\cupang\\lib\\site-packages\\selenium\\webdriver\\remote\\webdriver.py\u001b[0m in \u001b[0;36mfind_elements\u001b[1;34m(self, by, value)\u001b[0m\n\u001b[0;32m   1005\u001b[0m         return self.execute(Command.FIND_ELEMENTS, {\n\u001b[0;32m   1006\u001b[0m             \u001b[1;34m'using'\u001b[0m\u001b[1;33m:\u001b[0m \u001b[0mby\u001b[0m\u001b[1;33m,\u001b[0m\u001b[1;33m\u001b[0m\u001b[1;33m\u001b[0m\u001b[0m\n\u001b[1;32m-> 1007\u001b[1;33m             'value': value})['value'] or []\n\u001b[0m\u001b[0;32m   1008\u001b[0m \u001b[1;33m\u001b[0m\u001b[0m\n\u001b[0;32m   1009\u001b[0m     \u001b[1;33m@\u001b[0m\u001b[0mproperty\u001b[0m\u001b[1;33m\u001b[0m\u001b[1;33m\u001b[0m\u001b[0m\n",
      "\u001b[1;32mc:\\Users\\kimju\\anaconda3\\envs\\cupang\\lib\\site-packages\\selenium\\webdriver\\remote\\webdriver.py\u001b[0m in \u001b[0;36mexecute\u001b[1;34m(self, driver_command, params)\u001b[0m\n\u001b[0;32m    319\u001b[0m         \u001b[0mresponse\u001b[0m \u001b[1;33m=\u001b[0m \u001b[0mself\u001b[0m\u001b[1;33m.\u001b[0m\u001b[0mcommand_executor\u001b[0m\u001b[1;33m.\u001b[0m\u001b[0mexecute\u001b[0m\u001b[1;33m(\u001b[0m\u001b[0mdriver_command\u001b[0m\u001b[1;33m,\u001b[0m \u001b[0mparams\u001b[0m\u001b[1;33m)\u001b[0m\u001b[1;33m\u001b[0m\u001b[1;33m\u001b[0m\u001b[0m\n\u001b[0;32m    320\u001b[0m         \u001b[1;32mif\u001b[0m \u001b[0mresponse\u001b[0m\u001b[1;33m:\u001b[0m\u001b[1;33m\u001b[0m\u001b[1;33m\u001b[0m\u001b[0m\n\u001b[1;32m--> 321\u001b[1;33m             \u001b[0mself\u001b[0m\u001b[1;33m.\u001b[0m\u001b[0merror_handler\u001b[0m\u001b[1;33m.\u001b[0m\u001b[0mcheck_response\u001b[0m\u001b[1;33m(\u001b[0m\u001b[0mresponse\u001b[0m\u001b[1;33m)\u001b[0m\u001b[1;33m\u001b[0m\u001b[1;33m\u001b[0m\u001b[0m\n\u001b[0m\u001b[0;32m    322\u001b[0m             response['value'] = self._unwrap_value(\n\u001b[0;32m    323\u001b[0m                 response.get('value', None))\n",
      "\u001b[1;32mc:\\Users\\kimju\\anaconda3\\envs\\cupang\\lib\\site-packages\\selenium\\webdriver\\remote\\errorhandler.py\u001b[0m in \u001b[0;36mcheck_response\u001b[1;34m(self, response)\u001b[0m\n\u001b[0;32m    240\u001b[0m                 \u001b[0malert_text\u001b[0m \u001b[1;33m=\u001b[0m \u001b[0mvalue\u001b[0m\u001b[1;33m[\u001b[0m\u001b[1;34m'alert'\u001b[0m\u001b[1;33m]\u001b[0m\u001b[1;33m.\u001b[0m\u001b[0mget\u001b[0m\u001b[1;33m(\u001b[0m\u001b[1;34m'text'\u001b[0m\u001b[1;33m)\u001b[0m\u001b[1;33m\u001b[0m\u001b[1;33m\u001b[0m\u001b[0m\n\u001b[0;32m    241\u001b[0m             \u001b[1;32mraise\u001b[0m \u001b[0mexception_class\u001b[0m\u001b[1;33m(\u001b[0m\u001b[0mmessage\u001b[0m\u001b[1;33m,\u001b[0m \u001b[0mscreen\u001b[0m\u001b[1;33m,\u001b[0m \u001b[0mstacktrace\u001b[0m\u001b[1;33m,\u001b[0m \u001b[0malert_text\u001b[0m\u001b[1;33m)\u001b[0m\u001b[1;33m\u001b[0m\u001b[1;33m\u001b[0m\u001b[0m\n\u001b[1;32m--> 242\u001b[1;33m         \u001b[1;32mraise\u001b[0m \u001b[0mexception_class\u001b[0m\u001b[1;33m(\u001b[0m\u001b[0mmessage\u001b[0m\u001b[1;33m,\u001b[0m \u001b[0mscreen\u001b[0m\u001b[1;33m,\u001b[0m \u001b[0mstacktrace\u001b[0m\u001b[1;33m)\u001b[0m\u001b[1;33m\u001b[0m\u001b[1;33m\u001b[0m\u001b[0m\n\u001b[0m\u001b[0;32m    243\u001b[0m \u001b[1;33m\u001b[0m\u001b[0m\n\u001b[0;32m    244\u001b[0m     \u001b[1;32mdef\u001b[0m \u001b[0m_value_or_default\u001b[0m\u001b[1;33m(\u001b[0m\u001b[0mself\u001b[0m\u001b[1;33m,\u001b[0m \u001b[0mobj\u001b[0m\u001b[1;33m,\u001b[0m \u001b[0mkey\u001b[0m\u001b[1;33m,\u001b[0m \u001b[0mdefault\u001b[0m\u001b[1;33m)\u001b[0m\u001b[1;33m:\u001b[0m\u001b[1;33m\u001b[0m\u001b[1;33m\u001b[0m\u001b[0m\n",
      "\u001b[1;31mNoSuchWindowException\u001b[0m: Message: no such window: target window already closed\nfrom unknown error: web view not found\n  (Session info: chrome=125.0.6422.77)\n"
     ]
    }
   ],
   "source": [
    "elems = loading(driver)\n",
    "elems_option1 = elems[4].find_elements(By.TAG_NAME, 'li')\n",
    "elems_option1[11].click()"
   ]
  },
  {
   "cell_type": "code",
   "execution_count": 70,
   "metadata": {},
   "outputs": [
    {
     "data": {
      "text/plain": [
       "[['색상',\n",
       "  '블랙',\n",
       "  '네이비',\n",
       "  '그레이',\n",
       "  '실버',\n",
       "  '레드',\n",
       "  '오렌지',\n",
       "  '옐로우',\n",
       "  '그린',\n",
       "  '블루',\n",
       "  '퍼플',\n",
       "  '핑크',\n",
       "  '화이트',\n",
       "  '브라운',\n",
       "  '골드',\n",
       "  '베이지',\n",
       "  '혼합',\n",
       "  '투명'],\n",
       " ['사용대상', '남성용', '여성용', '남녀공용', '아동/유아용'],\n",
       " ['종류', '장지갑', '중지갑', '반지갑', '카드/명함지갑', '머니클립', '기타/동전'],\n",
       " ['소재',\n",
       "  '가죽',\n",
       "  '인조가죽 (합성피혁)',\n",
       "  '면 (아사) /캔버스',\n",
       "  '린넨',\n",
       "  '나일론',\n",
       "  '아크릴',\n",
       "  '폴리에스터',\n",
       "  '실크 (견)',\n",
       "  '캐시미어혼방',\n",
       "  '울',\n",
       "  '왕골 (밀짚)',\n",
       "  '인조퍼',\n",
       "  '니트',\n",
       "  '에나멜',\n",
       "  '젤리/고무',\n",
       "  '메쉬/망사',\n",
       "  '코듀로이/골덴',\n",
       "  '스웨이드/무스탕',\n",
       "  '패딩/누빔',\n",
       "  '실리콘'],\n",
       " ['여성 지갑 종류',\n",
       "  '장지갑',\n",
       "  '중지갑',\n",
       "  '반지갑',\n",
       "  '머니클립',\n",
       "  '카드/명함지갑',\n",
       "  '카드목걸이',\n",
       "  '스마트폰카드지갑',\n",
       "  '키지갑/키홀더',\n",
       "  '동전지갑',\n",
       "  '통장지갑'],\n",
       " ['각인 포함 유무', '각인포함', '각인미포함'],\n",
       " ['남성 지갑 종류',\n",
       "  '장지갑',\n",
       "  '중지갑',\n",
       "  '반지갑',\n",
       "  '머니클립',\n",
       "  '카드/명함지갑',\n",
       "  '카드목걸이',\n",
       "  '스마트폰카드지갑',\n",
       "  '키지갑/키홀더',\n",
       "  '동전지갑',\n",
       "  '통장지갑'],\n",
       " ['출시년도', '2023년도', '2022년도', '2021년도', '2020년도', '2019년도', '2018년도 이전'],\n",
       " ['제조년도', '2023', '2022', '2021', '2020', '2019', '2018', '2017 이전'],\n",
       " ['출시 계절', '봄', '여름', '가을', '겨울'],\n",
       " ['남녀공용 지갑 종류',\n",
       "  '장지갑',\n",
       "  '중지갑',\n",
       "  '반지갑',\n",
       "  '머니클립',\n",
       "  '카드/명함 지갑',\n",
       "  '카드 목걸이',\n",
       "  '스마트폰 카드지갑',\n",
       "  '키 지갑/키 홀더',\n",
       "  '동전지갑',\n",
       "  '통장지갑'],\n",
       " ['손목스트랩 여부', '손목스트랩형'],\n",
       " ['키홀더 재질', '가죽', '아크릴', '패브릭', '실리콘', '메탈', '알칸타라'],\n",
       " ['별점', '별점 전체', '4점 이상', '3점 이상', '2점 이상', '1점 이상'],\n",
       " ['가격',\n",
       "  '가격 전체',\n",
       "  '9천원 이하',\n",
       "  '9천원~1만 8천원',\n",
       "  '1만 8천원~2만 7천원',\n",
       "  '2만 7천원~3만 6천원',\n",
       "  '3만 6천원 이상']]"
      ]
     },
     "execution_count": 70,
     "metadata": {},
     "output_type": "execute_result"
    }
   ],
   "source": [
    "text_list"
   ]
  }
 ],
 "metadata": {
  "kernelspec": {
   "display_name": "cupang",
   "language": "python",
   "name": "python3"
  },
  "language_info": {
   "codemirror_mode": {
    "name": "ipython",
    "version": 3
   },
   "file_extension": ".py",
   "mimetype": "text/x-python",
   "name": "python",
   "nbconvert_exporter": "python",
   "pygments_lexer": "ipython3",
   "version": "3.7.16"
  }
 },
 "nbformat": 4,
 "nbformat_minor": 2
}
