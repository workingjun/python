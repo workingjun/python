{
 "cells": [
  {
   "cell_type": "code",
   "execution_count": 190,
   "metadata": {},
   "outputs": [
    {
     "name": "stderr",
     "output_type": "stream",
     "text": [
      "C:\\Users\\kimju\\AppData\\Roaming\\Python\\Python37\\site-packages\\ipykernel_launcher.py:13: DeprecationWarning: use options instead of chrome_options\n",
      "  del sys.path[0]\n"
     ]
    }
   ],
   "source": [
    "from selenium import webdriver\n",
    "from selenium.webdriver.common.by import By\n",
    "import chromedriver_autoinstaller\n",
    "import subprocess\n",
    "import time\n",
    "\n",
    "subprocess.Popen(r'C:\\Program Files\\Google\\Chrome\\Application\\chrome.exe --remote-debugging-port=9222 --user-data-dir=\"C:\\chrometemp\"')\n",
    "\n",
    "options = webdriver.ChromeOptions()\n",
    "options.add_experimental_option(\"debuggerAddress\", \"127.0.0.1:9222\")\n",
    "\n",
    "chromedriver_autoinstaller.install()\n",
    "driver = webdriver.Chrome(chrome_options=options)\n",
    "\n",
    "driver.implicitly_wait(3)\n",
    "\n",
    "url = 'https://www.coupang.com'\n",
    "driver.get(url)\n",
    "xpath='//*[@id=\"headerSearchKeyword\"]'\n",
    "driver.find_element(By.XPATH, xpath).send_keys(\"노트북\")\n",
    "driver.find_element(By.XPATH, xpath).send_keys(\"\\n\")"
   ]
  },
  {
   "cell_type": "code",
   "execution_count": 41,
   "metadata": {},
   "outputs": [],
   "source": [
    "xpath = \"//div[contains(@class, 'search-filter-options search-')]\"\n",
    "elems = driver.find_elements(By.XPATH, xpath)"
   ]
  },
  {
   "cell_type": "code",
   "execution_count": 42,
   "metadata": {},
   "outputs": [
    {
     "data": {
      "text/plain": [
       "21"
      ]
     },
     "execution_count": 42,
     "metadata": {},
     "output_type": "execute_result"
    }
   ],
   "source": [
    "len(elems)"
   ]
  },
  {
   "cell_type": "markdown",
   "metadata": {},
   "source": [
    "#### 최소가격 최대가격"
   ]
  },
  {
   "cell_type": "code",
   "execution_count": 119,
   "metadata": {},
   "outputs": [],
   "source": [
    "xpath = \"//div[contains(@class, 'search-filter-options search-')]\"\n",
    "elems = driver.find_elements(By.XPATH, xpath)"
   ]
  },
  {
   "cell_type": "code",
   "execution_count": 120,
   "metadata": {},
   "outputs": [],
   "source": [
    "for i, elem in enumerate(elems):\n",
    "    textbox = elem.text\n",
    "    if \"가격\" in textbox:\n",
    "        index = i"
   ]
  },
  {
   "cell_type": "code",
   "execution_count": 121,
   "metadata": {},
   "outputs": [
    {
     "data": {
      "text/plain": [
       "20"
      ]
     },
     "execution_count": 121,
     "metadata": {},
     "output_type": "execute_result"
    }
   ],
   "source": [
    "index"
   ]
  },
  {
   "cell_type": "code",
   "execution_count": 56,
   "metadata": {},
   "outputs": [],
   "source": [
    "xpath = \"//input[@title='minPrice']\"\n",
    "elems[20].find_element(By.XPATH, xpath).send_keys(\"600000\")\n",
    "\n",
    "xpath = \"//input[@title='maxPrice']\"\n",
    "elems[20].find_element(By.XPATH, xpath).send_keys(\"1200000\")\n",
    "\n",
    "xpath = '//*[@id=\"searchPriceFilter\"]/div/a'\n",
    "elems[20].find_element(By.XPATH, xpath).click()"
   ]
  },
  {
   "cell_type": "markdown",
   "metadata": {},
   "source": [
    "#### 저장용량"
   ]
  },
  {
   "cell_type": "code",
   "execution_count": 57,
   "metadata": {},
   "outputs": [],
   "source": [
    "xpath = \"//div[contains(@class, 'search-filter-options search-')]\"\n",
    "elems = driver.find_elements(By.XPATH, xpath)"
   ]
  },
  {
   "cell_type": "code",
   "execution_count": 58,
   "metadata": {},
   "outputs": [
    {
     "name": "stdout",
     "output_type": "stream",
     "text": [
      "저장용량\n",
      "2TB 이상\n",
      "1~2TB\n",
      "512GB~1TB\n",
      "256~512GB\n",
      "256GB 이하\n"
     ]
    }
   ],
   "source": [
    "for i, elem in enumerate(elems):\n",
    "    textbox = elem.text\n",
    "    if \"저장용량\" in textbox:\n",
    "        index = i\n",
    "        print(textbox)"
   ]
  },
  {
   "cell_type": "code",
   "execution_count": 64,
   "metadata": {},
   "outputs": [
    {
     "name": "stdout",
     "output_type": "stream",
     "text": [
      "21\n",
      "4\n"
     ]
    }
   ],
   "source": [
    "print(len(elems))\n",
    "print(index)"
   ]
  },
  {
   "cell_type": "code",
   "execution_count": 67,
   "metadata": {},
   "outputs": [],
   "source": [
    "# xpath = \"//li[@class='search-option-item']\" -> 이건 안됨\n",
    "\n",
    "elems_option1 = elems[index].find_elements(By.TAG_NAME, 'li')\n",
    "elems_option1[1].click()"
   ]
  },
  {
   "cell_type": "markdown",
   "metadata": {},
   "source": [
    "#### 그래픽 카드"
   ]
  },
  {
   "cell_type": "code",
   "execution_count": 78,
   "metadata": {},
   "outputs": [],
   "source": [
    "xpath = \"//div[contains(@class, 'search-filter-options search-')]\"\n",
    "elems = driver.find_elements(By.XPATH, xpath)"
   ]
  },
  {
   "cell_type": "code",
   "execution_count": 83,
   "metadata": {},
   "outputs": [
    {
     "name": "stdout",
     "output_type": "stream",
     "text": [
      "17 그래픽(VGA)\n",
      "지포스 RTX 4090\n",
      "지포스 RTX 4080\n",
      "지포스 RTX 4070 Ti\n",
      "지포스 RTX 4070\n",
      "지포스 RTX 4060 Ti\n",
      "지포스 RTX 4060\n",
      "지포스 RTX 4050\n",
      "지포스 RTX 3080 Ti\n",
      "지포스 RTX 3080\n",
      "지포스 RTX 3070 Ti\n",
      "지포스 RTX 3070 Max-P\n",
      "지포스 RTX 3070\n",
      "지포스 RTX 3060 Ti\n",
      "지포스 RTX 3060\n",
      "지포스 RTX 3050 Ti\n",
      "지포스 RTX 3050\n",
      "지포스 RTX 2060\n",
      "지포스 RTX 2050\n",
      "지포스 GTX 1650\n",
      "지포스 GTX 1060\n",
      "지포스 GTX 1050\n",
      "지포스 GT 1030\n",
      "지포스 940M\n",
      "지포스 MX150\n",
      "라데온 RX 7600S\n",
      "라데온 RX 6700S\n",
      "라데온 RX Vega 8\n",
      "라데온 R7 그래픽스\n",
      "엔비디아 T550\n",
      "아크 A350M\n",
      "아크 A370M\n",
      "아크 A530M\n",
      "닫기\n"
     ]
    }
   ],
   "source": [
    "for i, elem in enumerate(elems):\n",
    "        textbox = elem.text\n",
    "        if \"그래픽(VGA)\" in textbox:\n",
    "            index = i\n",
    "        \n",
    "try:\n",
    "    elems[index].find_element(By.TAG_NAME, 'span').click()\n",
    "except:\n",
    "    pass\n",
    "else:\n",
    "    for i, elem in enumerate(elems):\n",
    "        textbox = elem.text\n",
    "        if \"그래픽(VGA)\" in textbox:\n",
    "            index = i\n",
    "            print(i, textbox)"
   ]
  },
  {
   "cell_type": "code",
   "execution_count": 84,
   "metadata": {},
   "outputs": [],
   "source": [
    "elems_option1 = elems[index].find_elements(By.TAG_NAME, 'li')\n",
    "elems_option1[0].click()"
   ]
  },
  {
   "cell_type": "code",
   "execution_count": 85,
   "metadata": {},
   "outputs": [
    {
     "data": {
      "text/plain": [
       "32"
      ]
     },
     "execution_count": 85,
     "metadata": {},
     "output_type": "execute_result"
    }
   ],
   "source": [
    "len(elems_option1)"
   ]
  },
  {
   "cell_type": "markdown",
   "metadata": {},
   "source": [
    "#### CPU"
   ]
  },
  {
   "cell_type": "code",
   "execution_count": 191,
   "metadata": {},
   "outputs": [],
   "source": [
    "xpath = \"//div[contains(@class, 'search-filter-options search-')]\"\n",
    "elems = driver.find_elements(By.XPATH, xpath)"
   ]
  },
  {
   "cell_type": "code",
   "execution_count": 204,
   "metadata": {},
   "outputs": [
    {
     "name": "stdout",
     "output_type": "stream",
     "text": [
      "0 M1\n",
      "1 아톰\n",
      "2 셀러론\n",
      "3 펜티엄\n",
      "4 펜티엄 실버\n",
      "5 코어i3\n",
      "6 코어i5\n",
      "7 코어i7\n",
      "8 코어i9\n",
      "9 코어Ultra5\n",
      "10 코어Ultra7\n",
      "11 코어Ultra9\n",
      "12 라이젠3\n",
      "13 라이젠5\n",
      "14 라이젠5 Pro\n",
      "15 라이젠7\n",
      "16 라이젠7 Pro\n",
      "17 라이젠9\n",
      "18 스냅드래곤\n"
     ]
    }
   ],
   "source": [
    "for i, elem in enumerate(elems):\n",
    "    textbox = elem.text\n",
    "    words = textbox.split()\n",
    "    # print(words)  # 문자열을 단어 단위로 나눕니다.\n",
    "    if \"CPU\" in words:       # 정확히 \"CPU\"인 단어를 찾습니다.\n",
    "        index = i\n",
    "        \n",
    "try:\n",
    "    for i in range(len(index)):\n",
    "        elems[index[i]].find_element(By.TAG_NAME, 'span').click()\n",
    "except:\n",
    "    pass\n",
    "\n",
    "textbox = elems[index].text\n",
    "words = textbox.split(\"\\n\")\n",
    "for i, value in enumerate(words):\n",
    "    if i!=0 and i!=len(words)-1: \n",
    "        print(i-1, value)"
   ]
  },
  {
   "cell_type": "code",
   "execution_count": 128,
   "metadata": {},
   "outputs": [
    {
     "data": {
      "text/plain": [
       "[13]"
      ]
     },
     "execution_count": 128,
     "metadata": {},
     "output_type": "execute_result"
    }
   ],
   "source": [
    "index\n"
   ]
  },
  {
   "cell_type": "code",
   "execution_count": 112,
   "metadata": {},
   "outputs": [],
   "source": [
    "elems_option1 = elems[index[0]].find_elements(By.TAG_NAME, 'li')\n",
    "elems_option1[0].click()\n",
    "\n",
    "elems_option2 = elems[index[1]].find_elements(By.TAG_NAME, 'li')\n",
    "elems_option2[0].click()"
   ]
  },
  {
   "cell_type": "code",
   "execution_count": 103,
   "metadata": {},
   "outputs": [
    {
     "data": {
      "text/plain": [
       "19"
      ]
     },
     "execution_count": 103,
     "metadata": {},
     "output_type": "execute_result"
    }
   ],
   "source": [
    "len(elems_option1)"
   ]
  },
  {
   "cell_type": "markdown",
   "metadata": {},
   "source": [
    "#### 램용량"
   ]
  },
  {
   "cell_type": "code",
   "execution_count": 114,
   "metadata": {},
   "outputs": [],
   "source": [
    "xpath = \"//div[contains(@class, 'search-filter-options search-')]\"\n",
    "elems = driver.find_elements(By.XPATH, xpath)"
   ]
  },
  {
   "cell_type": "code",
   "execution_count": 117,
   "metadata": {},
   "outputs": [
    {
     "name": "stdout",
     "output_type": "stream",
     "text": [
      "메모리용량\n",
      "32GB 이상\n",
      "16GB\n",
      "8GB\n",
      "4GB 이하\n"
     ]
    }
   ],
   "source": [
    "for i, elem in enumerate(elems):\n",
    "        textbox = elem.text\n",
    "        if \"메모리용량\" in textbox:\n",
    "            index = i\n",
    "            print(textbox)\n",
    "        \n",
    "try:\n",
    "    elems[index].find_element(By.TAG_NAME, 'span').click()\n",
    "except:\n",
    "    pass"
   ]
  },
  {
   "cell_type": "code",
   "execution_count": 118,
   "metadata": {},
   "outputs": [],
   "source": [
    "elems_option1 = elems[index].find_elements(By.TAG_NAME, 'li')\n",
    "elems_option1[0].click()"
   ]
  },
  {
   "cell_type": "markdown",
   "metadata": {},
   "source": [
    "#### 시험해보기\n"
   ]
  },
  {
   "cell_type": "code",
   "execution_count": 140,
   "metadata": {},
   "outputs": [
    {
     "name": "stderr",
     "output_type": "stream",
     "text": [
      "C:\\Users\\kimju\\AppData\\Roaming\\Python\\Python37\\site-packages\\ipykernel_launcher.py:14: DeprecationWarning: use options instead of chrome_options\n",
      "  \n"
     ]
    }
   ],
   "source": [
    "from selenium import webdriver\n",
    "from selenium.webdriver.common.by import By\n",
    "import chromedriver_autoinstaller\n",
    "import subprocess\n",
    "import time\n",
    "from coupang_selenium import option_click\n",
    "\n"
   ]
  },
  {
   "cell_type": "code",
   "execution_count": 205,
   "metadata": {},
   "outputs": [],
   "source": [
    "class option_click():\n",
    "    def __init__(self, driver):\n",
    "        self.driver = driver\n",
    "    \n",
    "    def get_keyword(self, keyword):\n",
    "        xpath='//*[@id=\"headerSearchKeyword\"]'\n",
    "        self.driver.find_element(By.XPATH, xpath).send_keys(keyword)\n",
    "        self.driver.find_element(By.XPATH, xpath).send_keys(\"\\n\")\n",
    "    \n",
    "    def min_max_Price(self, minPrice, maxPrice):\n",
    "        elems = self.find_options()\n",
    "        index = self.load(\"가격\")\n",
    "\n",
    "        xpath = \"//input[@title='minPrice']\"\n",
    "        elems[index].find_element(By.XPATH, xpath).send_keys(str(minPrice))\n",
    "\n",
    "        xpath = \"//input[@title='maxPrice']\"\n",
    "        elems[index].find_element(By.XPATH, xpath).send_keys(str(maxPrice))\n",
    "\n",
    "        xpath = '//*[@id=\"searchPriceFilter\"]/div/a'\n",
    "        elems[index].find_element(By.XPATH, xpath).click()\n",
    "\n",
    "    def spec(self, option_name, which_option):\n",
    "        elems = self.find_options()\n",
    "        index = self.load(option_name)\n",
    "\n",
    "        elems_option1 = elems[index].find_elements(By.TAG_NAME, 'li')\n",
    "        elems_option1[which_option].click()\n",
    "\n",
    "    def find_options(self):\n",
    "        xpath = \"//div[contains(@class, 'search-filter-options search-')]\"\n",
    "        elems = self.driver.find_elements(By.XPATH, xpath)\n",
    "        return elems\n",
    "    \n",
    "    def load(self, option_name):\n",
    "        elems = self.find_options()\n",
    "\n",
    "        for i, elem in enumerate(elems):\n",
    "            textbox = elem.text\n",
    "            words = textbox.split()\n",
    "            if option_name in words:\n",
    "                index = i\n",
    "\n",
    "        try:\n",
    "            elems[index].find_element(By.TAG_NAME, 'span').click()\n",
    "        except:\n",
    "            pass\n",
    "\n",
    "        return index\n",
    "    \n",
    "    def load_print(self, option_name):\n",
    "        elems = self.find_options()\n",
    "\n",
    "        for i, elem in enumerate(elems):\n",
    "            textbox = elem.text\n",
    "            words = textbox.split()\n",
    "            if option_name in words:\n",
    "                index = i\n",
    "\n",
    "        try:\n",
    "            elems[index].find_element(By.TAG_NAME, 'span').click()\n",
    "        except:\n",
    "            pass\n",
    "        \n",
    "        \n",
    "        textbox = elems[index].text\n",
    "        words = textbox.split(\"\\n\")\n",
    "        for i, value in enumerate(words):\n",
    "            if i!=0 and i!=len(words)-1: \n",
    "                print(i-1, value)"
   ]
  },
  {
   "cell_type": "code",
   "execution_count": 206,
   "metadata": {},
   "outputs": [
    {
     "name": "stderr",
     "output_type": "stream",
     "text": [
      "C:\\Users\\kimju\\AppData\\Roaming\\Python\\Python37\\site-packages\\ipykernel_launcher.py:7: DeprecationWarning: use options instead of chrome_options\n",
      "  import sys\n"
     ]
    }
   ],
   "source": [
    "subprocess.Popen(r'C:\\Program Files\\Google\\Chrome\\Application\\chrome.exe --remote-debugging-port=9222 --user-data-dir=\"C:\\chrometemp\"')\n",
    "\n",
    "options = webdriver.ChromeOptions()\n",
    "options.add_experimental_option(\"debuggerAddress\", \"127.0.0.1:9222\")\n",
    "\n",
    "chromedriver_autoinstaller.install()\n",
    "driver = webdriver.Chrome(chrome_options=options)\n",
    "\n",
    "driver.implicitly_wait(3)\n",
    "\n",
    "url = 'https://www.coupang.com'\n",
    "driver.get(url)\n",
    "\n",
    "option_name = [\"CPU\", 'CPU세대', \"저장용량\", \"메모리용량\", \"그래픽(VGA)\"]\n",
    "coupang = option_click(driver)\n",
    "coupang.get_keyword(\"노트북\")"
   ]
  },
  {
   "cell_type": "code",
   "execution_count": 207,
   "metadata": {},
   "outputs": [
    {
     "name": "stdout",
     "output_type": "stream",
     "text": [
      "0 M1\n",
      "1 아톰\n",
      "2 셀러론\n",
      "3 펜티엄\n",
      "4 펜티엄 실버\n",
      "5 코어i3\n",
      "6 코어i5\n",
      "7 코어i7\n",
      "8 코어i9\n",
      "9 코어Ultra5\n",
      "10 코어Ultra7\n",
      "11 코어Ultra9\n",
      "12 라이젠3\n",
      "13 라이젠5\n",
      "14 라이젠5 Pro\n",
      "15 라이젠7\n",
      "16 라이젠7 Pro\n",
      "17 라이젠9\n",
      "18 스냅드래곤\n"
     ]
    }
   ],
   "source": [
    "# coupang.min_max_Price(\"600000\", \"2000000\")\n",
    "coupang.load_print(option_name[0])"
   ]
  },
  {
   "cell_type": "code",
   "execution_count": 208,
   "metadata": {},
   "outputs": [],
   "source": [
    "coupang.spec(\"CPU\", 18)"
   ]
  },
  {
   "cell_type": "code",
   "execution_count": 169,
   "metadata": {},
   "outputs": [],
   "source": [
    "option_name"
   ]
  },
  {
   "cell_type": "code",
   "execution_count": null,
   "metadata": {},
   "outputs": [],
   "source": [
    "raw = driver.page_source\n",
    "\n",
    "bs=Beautifulsoup(raw, \"html.parser\")"
   ]
  },
  {
   "cell_type": "markdown",
   "metadata": {},
   "source": [
    "#### 정렬하기 "
   ]
  },
  {
   "cell_type": "code",
   "execution_count": 1,
   "metadata": {},
   "outputs": [
    {
     "data": {
      "text/plain": [
       "[['이미지 링크1', '노트북1', '1,500,000원', '2100', '구매링크1'],\n",
       " ['이미지 링크2', '노트북2', '2,000,000원', '3000', '구매링크2'],\n",
       " ['이미지 링크3', '노트북3', '1,200,000원', '10000', '구매링크3']]"
      ]
     },
     "execution_count": 1,
     "metadata": {},
     "output_type": "execute_result"
    }
   ],
   "source": [
    "myList=[]\n",
    "\n",
    "for i in range(3):\n",
    "    price = [\"1,500,000원\", \"2,000,000원\", \"1,200,000원\"]\n",
    "    point = [\"2100\", \"3000\", \"10000\"]\n",
    "    produnct = [f\"이미지 링크{i+1}\", f\"노트북{i+1}\", price[i], point[i], f\"구매링크{i+1}\"]\n",
    "\n",
    "    myList.append(produnct)\n",
    "\n",
    "myList"
   ]
  },
  {
   "cell_type": "code",
   "execution_count": 29,
   "metadata": {},
   "outputs": [
    {
     "data": {
      "text/plain": [
       "[['이미지 링크3', '노트북3', '1,200,000원', '10000', '구매링크3'],\n",
       " ['이미지 링크2', '노트북2', '2,000,000원', '3000', '구매링크2'],\n",
       " ['이미지 링크1', '노트북1', '1,500,000원', '2100', '구매링크1']]"
      ]
     },
     "execution_count": 29,
     "metadata": {},
     "output_type": "execute_result"
    }
   ],
   "source": [
    "myList_point = sorted(myList, key=lambda x: int(x[3]), reverse = True)\n",
    "myList_point"
   ]
  },
  {
   "cell_type": "code",
   "execution_count": 3,
   "metadata": {},
   "outputs": [
    {
     "data": {
      "text/plain": [
       "[['이미지 링크3', '노트북3', '1,200,000원', '10000', '구매링크3'],\n",
       " ['이미지 링크1', '노트북1', '1,500,000원', '2100', '구매링크1'],\n",
       " ['이미지 링크2', '노트북2', '2,000,000원', '3000', '구매링크2']]"
      ]
     },
     "execution_count": 3,
     "metadata": {},
     "output_type": "execute_result"
    }
   ],
   "source": [
    "myList_price = sorted(myList, key=lambda x: int(x[2].replace('원', '').replace(',', '')))\n",
    "myList_price"
   ]
  }
 ],
 "metadata": {
  "kernelspec": {
   "display_name": "cupang",
   "language": "python",
   "name": "python3"
  },
  "language_info": {
   "codemirror_mode": {
    "name": "ipython",
    "version": 3
   },
   "file_extension": ".py",
   "mimetype": "text/x-python",
   "name": "python",
   "nbconvert_exporter": "python",
   "pygments_lexer": "ipython3",
   "version": "3.7.16"
  }
 },
 "nbformat": 4,
 "nbformat_minor": 2
}
