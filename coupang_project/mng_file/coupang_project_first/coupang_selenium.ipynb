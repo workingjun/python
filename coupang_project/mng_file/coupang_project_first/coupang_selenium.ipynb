{
 "cells": [
  {
   "cell_type": "code",
   "execution_count": 14,
   "metadata": {},
   "outputs": [
    {
     "name": "stderr",
     "output_type": "stream",
     "text": [
      "C:\\Users\\kimju\\AppData\\Roaming\\Python\\Python37\\site-packages\\ipykernel_launcher.py:13: DeprecationWarning: use options instead of chrome_options\n",
      "  del sys.path[0]\n"
     ]
    }
   ],
   "source": [
    "from selenium import webdriver\n",
    "from selenium.webdriver.common.by import By\n",
    "import chromedriver_autoinstaller\n",
    "import subprocess\n",
    "import time\n",
    "\n",
    "subprocess.Popen(r'C:\\Program Files\\Google\\Chrome\\Application\\chrome.exe --remote-debugging-port=9222 --user-data-dir=\"C:\\chrometemp\"')\n",
    "\n",
    "options = webdriver.ChromeOptions()\n",
    "options.add_experimental_option(\"debuggerAddress\", \"127.0.0.1:9222\")\n",
    "\n",
    "chromedriver_autoinstaller.install()\n",
    "driver = webdriver.Chrome(chrome_options=options)\n",
    "\n",
    "driver.implicitly_wait(3)\n",
    "\n",
    "url = 'https://www.coupang.com'\n",
    "driver.get(url)\n",
    "xpath='//*[@id=\"headerSearchKeyword\"]'\n",
    "driver.find_element(By.XPATH, xpath).send_keys(\"노트북\")\n",
    "driver.find_element(By.XPATH, xpath).send_keys(\"\\n\")"
   ]
  },
  {
   "cell_type": "markdown",
   "metadata": {},
   "source": [
    "#### 최소가격 최대가격"
   ]
  },
  {
   "cell_type": "code",
   "execution_count": 5,
   "metadata": {},
   "outputs": [],
   "source": [
    "xpath = \"//div[contains(@class, 'search-filter-options search-')]\"\n",
    "elems = driver.find_elements(By.XPATH, xpath)\n",
    "\n",
    "for i, elem in enumerate(elems):\n",
    "    textbox = elem.text\n",
    "    if \"가격\" in textbox:\n",
    "        index = i"
   ]
  },
  {
   "cell_type": "code",
   "execution_count": 6,
   "metadata": {},
   "outputs": [
    {
     "data": {
      "text/plain": [
       "20"
      ]
     },
     "execution_count": 6,
     "metadata": {},
     "output_type": "execute_result"
    }
   ],
   "source": [
    "index"
   ]
  },
  {
   "cell_type": "code",
   "execution_count": 56,
   "metadata": {},
   "outputs": [],
   "source": [
    "xpath = \"//input[@title='minPrice']\"\n",
    "elems[index].find_element(By.XPATH, xpath).send_keys(\"600000\")\n",
    "\n",
    "xpath = \"//input[@title='maxPrice']\"\n",
    "elems[index].find_element(By.XPATH, xpath).send_keys(\"1200000\")\n",
    "\n",
    "xpath = '//*[@id=\"searchPriceFilter\"]/div/a'\n",
    "elems[index].find_element(By.XPATH, xpath).click()"
   ]
  },
  {
   "cell_type": "markdown",
   "metadata": {},
   "source": [
    "#### 옵션 최대로 "
   ]
  },
  {
   "cell_type": "code",
   "execution_count": null,
   "metadata": {},
   "outputs": [],
   "source": [
    "def loading(driver):\n",
    "    xpath = \"//div[contains(@class, 'search-filter-options search-')]\"\n",
    "    elems = driver.find_elements(By.XPATH, xpath)\n",
    "    return elems\n",
    "\n",
    "elems = loading(driver)\n",
    "for i in range(len(elems)):\n",
    "    try:\n",
    "        elems[i].find_element(By.TAG_NAME, 'span').click()\n",
    "    except:\n",
    "        pass"
   ]
  },
  {
   "cell_type": "markdown",
   "metadata": {},
   "source": [
    "#### 옵션명 가져오기 "
   ]
  },
  {
   "cell_type": "code",
   "execution_count": 26,
   "metadata": {},
   "outputs": [
    {
     "name": "stdout",
     "output_type": "stream",
     "text": [
      "4 저장용량\n",
      "5 메모리용량\n",
      "6 화면크기\n",
      "7 중량\n",
      "8 모델\n",
      "9 시리즈\n",
      "10 가로길이\n",
      "11 해상도\n",
      "12 모니터 패널\n",
      "13 저장장치 종류\n",
      "14 CPU\n",
      "15 운영체제\n",
      "16 배터리용량\n",
      "17 SSD용량\n",
      "18 그래픽(VGA)\n",
      "19 별점\n",
      "20 가격\n"
     ]
    }
   ],
   "source": [
    "elems = loading(driver)\n",
    "\n",
    "texts = []\n",
    "\n",
    "for i, elem in enumerate(elems):\n",
    "    if i<4:\n",
    "        continue\n",
    "    else:    \n",
    "        textbox = elem.text\n",
    "        texts.append(textbox.split('\\n'))\n",
    "        \n",
    "for i in range(len(texts)):\n",
    "    if i == len(texts)-1:\n",
    "        texts[i].remove(\"~ 원\")   \n",
    "        texts[i].remove(\"검색\")  \n",
    "    if texts[i][-1] == \"더보기\":\n",
    "        texts[i].remove(\"더보기\") \n",
    "    print(i+4, texts[i][0])"
   ]
  },
  {
   "cell_type": "markdown",
   "metadata": {},
   "source": [
    "#### 옵션 선택 가져오기"
   ]
  },
  {
   "cell_type": "code",
   "execution_count": 27,
   "metadata": {},
   "outputs": [
    {
     "name": "stdout",
     "output_type": "stream",
     "text": [
      "0 2TB 이상\n",
      "1 1~2TB\n",
      "2 512GB~1TB\n",
      "3 256~512GB\n",
      "4 256GB 이하\n",
      "\n",
      "0 32GB 이상\n",
      "1 16GB\n",
      "2 8GB\n",
      "3 4GB 이하\n",
      "\n",
      "0 27cm 이하 (*약 11인치 이하)\n",
      "1 27~30cm (*약 11~12인치)\n",
      "2 30~33cm (*약 12~13인치)\n",
      "3 33~35cm (*약 13~14인치)\n",
      "4 35~38cm (*약 14~15인치)\n",
      "5 38~40cm (*약 15~16인치)\n",
      "6 40~43cm (*약 16~17인치)\n",
      "7 43cm 이상 (*약 17인치 이상)\n",
      "8 닫기\n",
      "\n",
      "0 1kg 이하\n",
      "1 1~1.3kg\n",
      "2 1.3~1.7kg\n",
      "3 1.7~2kg\n",
      "4 2~2.3kg\n",
      "5 2.3~2.7kg\n",
      "6 2.7~3kg\n",
      "7 3kg 이상\n",
      "8 닫기\n",
      "\n",
      "0 MacBook Pro\n",
      "1 MacBook Air\n",
      "2 MacBook\n",
      "3 Notebook 3\n",
      "4 Notebook 5\n",
      "5 Notebook 7\n",
      "6 Notebook 9\n",
      "7 Notebook Odyssey\n",
      "8 Notebook Pen S / Active\n",
      "9 Notebook Plus 2\n",
      "10 GalaxyBook\n",
      "11 GalaxyBook Pro\n",
      "12 Galaxy Book Flex 2\n",
      "13 닫기\n",
      "\n",
      "0 Aspire\n",
      "1 Swift\n",
      "2 ExpertBook\n",
      "3 ROG\n",
      "4 TUF\n",
      "5 VivoBook\n",
      "6 Zenbook\n",
      "7 Zenbook Pro\n",
      "8 Alienware\n",
      "9 Inspiron\n",
      "10 XPS\n",
      "11 ENVY\n",
      "12 OMEN\n",
      "13 스펙터\n",
      "14 엘리트북\n",
      "15 파빌리온\n",
      "16 IdeaPad\n",
      "17 Legion\n",
      "18 ThinkBook\n",
      "19 ThinkPad\n",
      "20 YOGA\n",
      "21 LG 그램\n",
      "22 LG 울트라PC\n",
      "23 서피스 랩탑\n",
      "24 Galaxy Book\n",
      "25 MacBook\n",
      "26 TFG\n",
      "27 닫기\n",
      "\n",
      "0 미니 (20cm 이하)\n",
      "1 일반 (20~40cm)\n",
      "2 대형 (40cm 이상)\n",
      "\n",
      "0 4K UHD\n",
      "1 QHD+\n",
      "2 WQHD+\n",
      "3 WQXGA\n",
      "4 WQHD\n",
      "5 QHD\n",
      "6 WUXGA\n",
      "7 WFHD\n",
      "8 FHD\n",
      "9 HD\n",
      "10 닫기\n",
      "\n",
      "0 IPS\n",
      "1 VA\n",
      "2 PLS\n",
      "3 TN\n",
      "4 QLED\n",
      "5 OLED\n",
      "\n",
      "0 SSD\n",
      "1 HDD\n",
      "2 HDD+SSD\n",
      "3 eMMC\n",
      "4 NVMe\n",
      "\n",
      "0 M1\n",
      "1 아톰\n",
      "2 셀러론\n",
      "3 펜티엄\n",
      "4 펜티엄 실버\n",
      "5 코어i3\n",
      "6 코어i5\n",
      "7 코어i7\n",
      "8 코어i9\n",
      "9 코어Ultra5\n",
      "10 코어Ultra7\n",
      "11 코어Ultra9\n",
      "12 라이젠3\n",
      "13 라이젠5\n",
      "14 라이젠5 Pro\n",
      "15 라이젠7\n",
      "16 라이젠7 Pro\n",
      "17 라이젠9\n",
      "18 스냅드래곤\n",
      "19 닫기\n",
      "\n",
      "0 WIN11 Home\n",
      "1 WIN11 Pro\n",
      "2 WIN11 S\n",
      "3 WIN10\n",
      "4 WIN10 Home\n",
      "5 WIN10 Pro\n",
      "6 MAC OS\n",
      "7 Chrome OS\n",
      "8 미포함\n",
      "9 닫기\n",
      "\n",
      "0 70Wh 이상\n",
      "1 60Wh 이상 ~ 70Wh 이하\n",
      "2 50Wh 이상 ~ 60Wh 이하\n",
      "3 40Wh 이상 ~ 50Wh 이하\n",
      "4 40Wh 이하\n",
      "\n",
      "0 2TB 이상\n",
      "1 1~2TB\n",
      "2 512GB~1TB\n",
      "3 256~512GB\n",
      "4 256GB 이하\n",
      "\n",
      "0 지포스 RTX 4090\n",
      "1 지포스 RTX 4080\n",
      "2 지포스 RTX 4070 Ti\n",
      "3 지포스 RTX 4070\n",
      "4 지포스 RTX 4060 Ti\n",
      "5 지포스 RTX 4060\n",
      "6 지포스 RTX 4050\n",
      "7 지포스 RTX 3080 Ti\n",
      "8 지포스 RTX 3080\n",
      "9 지포스 RTX 3070 Ti\n",
      "10 지포스 RTX 3070 Max-P\n",
      "11 지포스 RTX 3070\n",
      "12 지포스 RTX 3060 Ti\n",
      "13 지포스 RTX 3060\n",
      "14 지포스 RTX 3050 Ti\n",
      "15 지포스 RTX 3050\n",
      "16 지포스 RTX 2060\n",
      "17 지포스 RTX 2050\n",
      "18 지포스 GTX 1060\n",
      "19 지포스 GTX 1050\n",
      "20 지포스 GT 1030\n",
      "21 지포스 940M\n",
      "22 지포스 MX150\n",
      "23 라데온 RX 7600S\n",
      "24 라데온 RX 6700S\n",
      "25 라데온 RX Vega 8\n",
      "26 라데온 R7 그래픽스\n",
      "27 엔비디아 T550\n",
      "28 아크 A350M\n",
      "29 아크 A370M\n",
      "30 아크 A530M\n",
      "31 닫기\n",
      "\n",
      "0 별점 전체\n",
      "1 4점 이상\n",
      "2 3점 이상\n",
      "3 2점 이상\n",
      "4 1점 이상\n",
      "\n",
      "0 가격 전체\n",
      "1 59만원 이하\n",
      "2 59만원~118만원\n",
      "3 118만원~177만원\n",
      "4 177만원~236만원\n",
      "5 236만원 이상\n",
      "\n"
     ]
    }
   ],
   "source": [
    "for i in range(len(texts)):\n",
    "    for j in range(len(texts[i])):\n",
    "        if j!=0:\n",
    "            print(j-1, texts[i][j])\n",
    "    print()"
   ]
  },
  {
   "cell_type": "markdown",
   "metadata": {},
   "source": [
    "#### 옵션 클릭"
   ]
  },
  {
   "cell_type": "code",
   "execution_count": null,
   "metadata": {},
   "outputs": [],
   "source": [
    "elems = loading(driver)\n",
    "\n",
    "elems_option1 = elems[4].find_elements(By.TAG_NAME, 'li')\n",
    "elems_option1[0].click()\n",
    "time.sleep(1)"
   ]
  }
 ],
 "metadata": {
  "kernelspec": {
   "display_name": "cupang",
   "language": "python",
   "name": "python3"
  },
  "language_info": {
   "codemirror_mode": {
    "name": "ipython",
    "version": 3
   },
   "file_extension": ".py",
   "mimetype": "text/x-python",
   "name": "python",
   "nbconvert_exporter": "python",
   "pygments_lexer": "ipython3",
   "version": "3.7.16"
  }
 },
 "nbformat": 4,
 "nbformat_minor": 2
}
