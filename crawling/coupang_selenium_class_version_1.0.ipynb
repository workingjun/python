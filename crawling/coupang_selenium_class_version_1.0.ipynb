{
 "cells": [
  {
   "cell_type": "code",
   "execution_count": 1,
   "metadata": {},
   "outputs": [],
   "source": [
    "from selenium import webdriver\n",
    "from selenium.webdriver.common.by import By\n",
    "import chromedriver_autoinstaller\n",
    "import subprocess\n",
    "import time"
   ]
  },
  {
   "cell_type": "code",
   "execution_count": null,
   "metadata": {},
   "outputs": [],
   "source": [
    "class option_click():\n",
    "    def __init__(self, driver):\n",
    "        self.driver = driver\n",
    "    \n",
    "    def get_keyword(self, keyword):\n",
    "        xpath='//*[@id=\"headerSearchKeyword\"]'\n",
    "        self.driver.find_element(By.XPATH, xpath).send_keys(keyword)\n",
    "        self.driver.find_element(By.XPATH, xpath).send_keys(\"\\n\")\n",
    "    \n",
    "    def min_max_Price(self, minPrice, maxPrice):\n",
    "        elems = self.find_options()\n",
    "        index = self.load(\"가격\")\n",
    "\n",
    "        xpath = \"//input[@title='minPrice']\"\n",
    "        elems[index].find_element(By.XPATH, xpath).send_keys(str(minPrice))\n",
    "\n",
    "        xpath = \"//input[@title='maxPrice']\"\n",
    "        elems[index].find_element(By.XPATH, xpath).send_keys(str(maxPrice))\n",
    "\n",
    "        xpath = '//*[@id=\"searchPriceFilter\"]/div/a'\n",
    "        elems[index].find_element(By.XPATH, xpath).click()\n",
    "\n",
    "    def spec(self, option_name, which_option):\n",
    "        elems = self.find_options()\n",
    "        index = self.load(option_name)\n",
    "\n",
    "        elems_option1 = elems[index].find_elements(By.TAG_NAME, 'li')\n",
    "        elems_option1[which_option].click()\n",
    "\n",
    "    def find_options(self):\n",
    "        xpath = \"//div[contains(@class, 'search-filter-options search-')]\"\n",
    "        elems = self.driver.find_elements(By.XPATH, xpath)\n",
    "        return elems\n",
    "    \n",
    "    def load(self, option_name):\n",
    "        elems = self.find_options()\n",
    "\n",
    "        for i, elem in enumerate(elems):\n",
    "            textbox = elem.text\n",
    "            words = textbox.split()\n",
    "            if option_name in words:\n",
    "                index = i\n",
    "\n",
    "        try:\n",
    "            elems[index].find_element(By.TAG_NAME, 'span').click()\n",
    "        except:\n",
    "            pass\n",
    "\n",
    "        return index\n",
    "    \n",
    "    def load_print(self, option_name):\n",
    "        elems = self.find_options()\n",
    "\n",
    "        for i, elem in enumerate(elems):\n",
    "            textbox = elem.text\n",
    "            words = textbox.split()\n",
    "            if option_name in words:\n",
    "                index = i\n",
    "\n",
    "        try:\n",
    "            elems[index].find_element(By.TAG_NAME, 'span').click()\n",
    "        except:\n",
    "            pass\n",
    "        \n",
    "        \n",
    "        textbox = elems[index].text\n",
    "        words = textbox.split(\"\\n\")\n",
    "        for i, value in enumerate(words):\n",
    "            if i!=0 and i!=len(words)-1: \n",
    "                print(i-1, value)\n",
    "\n",
    "    "
   ]
  },
  {
   "cell_type": "code",
   "execution_count": null,
   "metadata": {},
   "outputs": [],
   "source": [
    "subprocess.Popen(r'C:\\Program Files\\Google\\Chrome\\Application\\chrome.exe --remote-debugging-port=9222 --user-data-dir=\"C:\\chrometemp\"')\n",
    "\n",
    "options = webdriver.ChromeOptions()\n",
    "options.add_experimental_option(\"debuggerAddress\", \"127.0.0.1:9222\")\n",
    "\n",
    "chromedriver_autoinstaller.install()\n",
    "driver = webdriver.Chrome(chrome_options=options)\n",
    "\n",
    "driver.implicitly_wait(3)\n",
    "\n",
    "url = 'https://www.coupang.com'\n",
    "driver.get(url)\n",
    "\n",
    "option_name = [\"CPU\", 'CPU세대', \"저장용량\", \"메모리용량\", \"그래픽(VGA)\"]\n",
    "coupang = option_click(driver)\n",
    "coupang.get_keyword(\"노트북\")"
   ]
  },
  {
   "cell_type": "code",
   "execution_count": null,
   "metadata": {},
   "outputs": [],
   "source": [
    "# coupang.min_max_Price(\"600000\", \"2000000\")\n",
    "coupang.load_print(option_name[0])"
   ]
  },
  {
   "cell_type": "code",
   "execution_count": null,
   "metadata": {},
   "outputs": [],
   "source": [
    "coupang.spec(\"CPU\", 18)"
   ]
  }
 ],
 "metadata": {
  "kernelspec": {
   "display_name": "cupang",
   "language": "python",
   "name": "python3"
  },
  "language_info": {
   "codemirror_mode": {
    "name": "ipython",
    "version": 3
   },
   "file_extension": ".py",
   "mimetype": "text/x-python",
   "name": "python",
   "nbconvert_exporter": "python",
   "pygments_lexer": "ipython3",
   "version": "3.7.16"
  }
 },
 "nbformat": 4,
 "nbformat_minor": 2
}
