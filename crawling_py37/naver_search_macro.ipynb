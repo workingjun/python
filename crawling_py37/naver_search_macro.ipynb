{
 "cells": [
  {
   "cell_type": "code",
   "execution_count": 1,
   "metadata": {},
   "outputs": [],
   "source": [
    "from selenium import webdriver\n",
    "from selenium.webdriver.common.by import By\n",
    "from selenium.webdriver.common.keys import Keys\n",
    "\n",
    "from bs4 import BeautifulSoup   \n",
    "import time\n",
    "import math\n",
    "import requests"
   ]
  },
  {
   "cell_type": "code",
   "execution_count": 2,
   "metadata": {},
   "outputs": [],
   "source": [
    "keyword = '갤럭시z폴드3케이스'"
   ]
  },
  {
   "cell_type": "code",
   "execution_count": null,
   "metadata": {},
   "outputs": [],
   "source": []
  },
  {
   "cell_type": "code",
   "execution_count": 3,
   "metadata": {},
   "outputs": [
    {
     "ename": "NoSuchElementException",
     "evalue": "Message: no such element: Unable to locate element: {\"method\":\"link text\",\"selector\":\"쇼핑\"}\n  (Session info: chrome=122.0.6261.57); For documentation on this error, please visit: https://www.selenium.dev/documentation/webdriver/troubleshooting/errors#no-such-element-exception\nStacktrace:\n\tGetHandleVerifier [0x00007FF7FDB7AD22+56930]\n\t(No symbol) [0x00007FF7FDAEF622]\n\t(No symbol) [0x00007FF7FD9A42E5]\n\t(No symbol) [0x00007FF7FD9E98ED]\n\t(No symbol) [0x00007FF7FD9E9A2C]\n\t(No symbol) [0x00007FF7FDA2A967]\n\t(No symbol) [0x00007FF7FDA0BCDF]\n\t(No symbol) [0x00007FF7FDA281E2]\n\t(No symbol) [0x00007FF7FDA0BA43]\n\t(No symbol) [0x00007FF7FD9DD438]\n\t(No symbol) [0x00007FF7FD9DE4D1]\n\tGetHandleVerifier [0x00007FF7FDEF6AAD+3709933]\n\tGetHandleVerifier [0x00007FF7FDF4FFED+4075821]\n\tGetHandleVerifier [0x00007FF7FDF4817F+4043455]\n\tGetHandleVerifier [0x00007FF7FDC19756+706710]\n\t(No symbol) [0x00007FF7FDAFB8FF]\n\t(No symbol) [0x00007FF7FDAF6AE4]\n\t(No symbol) [0x00007FF7FDAF6C3C]\n\t(No symbol) [0x00007FF7FDAE68F4]\n\tBaseThreadInitThunk [0x00007FF8DDF6257D+29]\n\tRtlUserThreadStart [0x00007FF8E008AA58+40]\n",
     "output_type": "error",
     "traceback": [
      "\u001b[1;31m---------------------------------------------------------------------------\u001b[0m",
      "\u001b[1;31mNoSuchElementException\u001b[0m                    Traceback (most recent call last)",
      "Cell \u001b[1;32mIn[3], line 11\u001b[0m\n\u001b[0;32m      8\u001b[0m element\u001b[38;5;241m.\u001b[39msend_keys(\u001b[38;5;124m\"\u001b[39m\u001b[38;5;130;01m\\n\u001b[39;00m\u001b[38;5;124m\"\u001b[39m)\n\u001b[0;32m     10\u001b[0m \u001b[38;5;66;03m#Step 4. 아래의 VIEW 링크를 선택합니다\u001b[39;00m\n\u001b[1;32m---> 11\u001b[0m \u001b[43mdriver\u001b[49m\u001b[38;5;241;43m.\u001b[39;49m\u001b[43mfind_element\u001b[49m\u001b[43m(\u001b[49m\u001b[43mBy\u001b[49m\u001b[38;5;241;43m.\u001b[39;49m\u001b[43mLINK_TEXT\u001b[49m\u001b[43m,\u001b[49m\u001b[38;5;124;43m'\u001b[39;49m\u001b[38;5;124;43m쇼핑\u001b[39;49m\u001b[38;5;124;43m'\u001b[39;49m\u001b[43m)\u001b[49m\u001b[38;5;241m.\u001b[39mclick( )\n\u001b[0;32m     13\u001b[0m \u001b[38;5;66;03m#Step 5. 현재 페이지의 내용을 저장 목록을 만든 후 목록에 있는 내용을 파일에 저장합니다\u001b[39;00m\n\u001b[0;32m     14\u001b[0m no \u001b[38;5;241m=\u001b[39m \u001b[38;5;241m1\u001b[39m\n",
      "File \u001b[1;32mc:\\Users\\kimju\\AppData\\Local\\Programs\\Python\\Python312\\Lib\\site-packages\\selenium\\webdriver\\remote\\webdriver.py:742\u001b[0m, in \u001b[0;36mWebDriver.find_element\u001b[1;34m(self, by, value)\u001b[0m\n\u001b[0;32m    739\u001b[0m     by \u001b[38;5;241m=\u001b[39m By\u001b[38;5;241m.\u001b[39mCSS_SELECTOR\n\u001b[0;32m    740\u001b[0m     value \u001b[38;5;241m=\u001b[39m \u001b[38;5;124mf\u001b[39m\u001b[38;5;124m'\u001b[39m\u001b[38;5;124m[name=\u001b[39m\u001b[38;5;124m\"\u001b[39m\u001b[38;5;132;01m{\u001b[39;00mvalue\u001b[38;5;132;01m}\u001b[39;00m\u001b[38;5;124m\"\u001b[39m\u001b[38;5;124m]\u001b[39m\u001b[38;5;124m'\u001b[39m\n\u001b[1;32m--> 742\u001b[0m \u001b[38;5;28;01mreturn\u001b[39;00m \u001b[38;5;28;43mself\u001b[39;49m\u001b[38;5;241;43m.\u001b[39;49m\u001b[43mexecute\u001b[49m\u001b[43m(\u001b[49m\u001b[43mCommand\u001b[49m\u001b[38;5;241;43m.\u001b[39;49m\u001b[43mFIND_ELEMENT\u001b[49m\u001b[43m,\u001b[49m\u001b[43m \u001b[49m\u001b[43m{\u001b[49m\u001b[38;5;124;43m\"\u001b[39;49m\u001b[38;5;124;43musing\u001b[39;49m\u001b[38;5;124;43m\"\u001b[39;49m\u001b[43m:\u001b[49m\u001b[43m \u001b[49m\u001b[43mby\u001b[49m\u001b[43m,\u001b[49m\u001b[43m \u001b[49m\u001b[38;5;124;43m\"\u001b[39;49m\u001b[38;5;124;43mvalue\u001b[39;49m\u001b[38;5;124;43m\"\u001b[39;49m\u001b[43m:\u001b[49m\u001b[43m \u001b[49m\u001b[43mvalue\u001b[49m\u001b[43m}\u001b[49m\u001b[43m)\u001b[49m[\u001b[38;5;124m\"\u001b[39m\u001b[38;5;124mvalue\u001b[39m\u001b[38;5;124m\"\u001b[39m]\n",
      "File \u001b[1;32mc:\\Users\\kimju\\AppData\\Local\\Programs\\Python\\Python312\\Lib\\site-packages\\selenium\\webdriver\\remote\\webdriver.py:348\u001b[0m, in \u001b[0;36mWebDriver.execute\u001b[1;34m(self, driver_command, params)\u001b[0m\n\u001b[0;32m    346\u001b[0m response \u001b[38;5;241m=\u001b[39m \u001b[38;5;28mself\u001b[39m\u001b[38;5;241m.\u001b[39mcommand_executor\u001b[38;5;241m.\u001b[39mexecute(driver_command, params)\n\u001b[0;32m    347\u001b[0m \u001b[38;5;28;01mif\u001b[39;00m response:\n\u001b[1;32m--> 348\u001b[0m     \u001b[38;5;28;43mself\u001b[39;49m\u001b[38;5;241;43m.\u001b[39;49m\u001b[43merror_handler\u001b[49m\u001b[38;5;241;43m.\u001b[39;49m\u001b[43mcheck_response\u001b[49m\u001b[43m(\u001b[49m\u001b[43mresponse\u001b[49m\u001b[43m)\u001b[49m\n\u001b[0;32m    349\u001b[0m     response[\u001b[38;5;124m\"\u001b[39m\u001b[38;5;124mvalue\u001b[39m\u001b[38;5;124m\"\u001b[39m] \u001b[38;5;241m=\u001b[39m \u001b[38;5;28mself\u001b[39m\u001b[38;5;241m.\u001b[39m_unwrap_value(response\u001b[38;5;241m.\u001b[39mget(\u001b[38;5;124m\"\u001b[39m\u001b[38;5;124mvalue\u001b[39m\u001b[38;5;124m\"\u001b[39m, \u001b[38;5;28;01mNone\u001b[39;00m))\n\u001b[0;32m    350\u001b[0m     \u001b[38;5;28;01mreturn\u001b[39;00m response\n",
      "File \u001b[1;32mc:\\Users\\kimju\\AppData\\Local\\Programs\\Python\\Python312\\Lib\\site-packages\\selenium\\webdriver\\remote\\errorhandler.py:229\u001b[0m, in \u001b[0;36mErrorHandler.check_response\u001b[1;34m(self, response)\u001b[0m\n\u001b[0;32m    227\u001b[0m         alert_text \u001b[38;5;241m=\u001b[39m value[\u001b[38;5;124m\"\u001b[39m\u001b[38;5;124malert\u001b[39m\u001b[38;5;124m\"\u001b[39m]\u001b[38;5;241m.\u001b[39mget(\u001b[38;5;124m\"\u001b[39m\u001b[38;5;124mtext\u001b[39m\u001b[38;5;124m\"\u001b[39m)\n\u001b[0;32m    228\u001b[0m     \u001b[38;5;28;01mraise\u001b[39;00m exception_class(message, screen, stacktrace, alert_text)  \u001b[38;5;66;03m# type: ignore[call-arg]  # mypy is not smart enough here\u001b[39;00m\n\u001b[1;32m--> 229\u001b[0m \u001b[38;5;28;01mraise\u001b[39;00m exception_class(message, screen, stacktrace)\n",
      "\u001b[1;31mNoSuchElementException\u001b[0m: Message: no such element: Unable to locate element: {\"method\":\"link text\",\"selector\":\"쇼핑\"}\n  (Session info: chrome=122.0.6261.57); For documentation on this error, please visit: https://www.selenium.dev/documentation/webdriver/troubleshooting/errors#no-such-element-exception\nStacktrace:\n\tGetHandleVerifier [0x00007FF7FDB7AD22+56930]\n\t(No symbol) [0x00007FF7FDAEF622]\n\t(No symbol) [0x00007FF7FD9A42E5]\n\t(No symbol) [0x00007FF7FD9E98ED]\n\t(No symbol) [0x00007FF7FD9E9A2C]\n\t(No symbol) [0x00007FF7FDA2A967]\n\t(No symbol) [0x00007FF7FDA0BCDF]\n\t(No symbol) [0x00007FF7FDA281E2]\n\t(No symbol) [0x00007FF7FDA0BA43]\n\t(No symbol) [0x00007FF7FD9DD438]\n\t(No symbol) [0x00007FF7FD9DE4D1]\n\tGetHandleVerifier [0x00007FF7FDEF6AAD+3709933]\n\tGetHandleVerifier [0x00007FF7FDF4FFED+4075821]\n\tGetHandleVerifier [0x00007FF7FDF4817F+4043455]\n\tGetHandleVerifier [0x00007FF7FDC19756+706710]\n\t(No symbol) [0x00007FF7FDAFB8FF]\n\t(No symbol) [0x00007FF7FDAF6AE4]\n\t(No symbol) [0x00007FF7FDAF6C3C]\n\t(No symbol) [0x00007FF7FDAE68F4]\n\tBaseThreadInitThunk [0x00007FF8DDF6257D+29]\n\tRtlUserThreadStart [0x00007FF8E008AA58+40]\n"
     ]
    }
   ],
   "source": [
    "driver = webdriver.Chrome()\n",
    "\n",
    "driver.get('http://www.naver.com')\n",
    "time.sleep(2)\n",
    "\n",
    "element = driver.find_element(By.ID, 'query')#문제 2. 이 부분에 검색창을 지정하는 적절한 코드를 입력하세요\n",
    "element.send_keys(keyword)\n",
    "element.send_keys(\"\\n\")\n",
    "\n",
    "#Step 4. 아래의 VIEW 링크를 선택합니다\n",
    "driver.find_element(By.LINK_TEXT,'쇼핑').click( )\n",
    "\n",
    "#Step 5. 현재 페이지의 내용을 저장 목록을 만든 후 목록에 있는 내용을 파일에 저장합니다\n",
    "no = 1\n",
    "\n",
    "# 자동 스크롤다운 함수\n",
    "def scroll_down(driver):\n",
    "  driver.execute_script(\"window.scrollTo(0,document.body.scrollHeight);\")\n",
    "  time.sleep(3)\n",
    "\n",
    "i = 1\n",
    "while i <= 3:\n",
    "    scroll_down(driver) \n",
    "    i += 1"
   ]
  },
  {
   "cell_type": "code",
   "execution_count": null,
   "metadata": {},
   "outputs": [],
   "source": []
  },
  {
   "cell_type": "code",
   "execution_count": 2,
   "metadata": {},
   "outputs": [],
   "source": [
    "# 자동 스크롤다운 함수\n",
    "def scroll_down(driver):\n",
    "    driver.execute_script(\"window.scrollTo(0,document.body.scrollHeight);\")\n",
    "    time.sleep(3)"
   ]
  },
  {
   "cell_type": "code",
   "execution_count": 13,
   "metadata": {},
   "outputs": [],
   "source": [
    "# Mozilla/5.0 (Windows NT 6.1; Win64; x64) AppleWebit/53.7.36 (KHTML, like Gecko) Chrome/63.0.3239.0 Safari/537.36 (compatible; Yeti/1.1; +https://naver.me/spd)\n",
    "\n",
    "header={'User-Agent':\"Mozilla/5.0 (Windows NT 10.0; Win64; x64) AppleWebKit/537.36 (KHTML, like Gecko) Chrome/121.0.0.0 Safari/537.36 (compatible; Yeti/1.1; +https://naver.me/spd)\",\n",
    "\"Accept-Language\": \"ko-KR,ko;q=0.8,en-US;q=0.5,en;q=0.3\"}\n",
    "\n",
    "url = \"https://search.shopping.naver.com/search/all?adQuery=\" + keyword+ \"&frm=NVSCTAB&origQuery=\" + keyword+ \"&pagingIndex=1&pagingSize=40&productSet=total&query=\" + keyword+ \"&sort=rel&timestamp=&viewType=list#\" \n",
    "raw = requests.get(url, headers=header)\n",
    "\n",
    "soup = BeautifulSoup(raw.text, 'html.parser')"
   ]
  },
  {
   "cell_type": "code",
   "execution_count": 14,
   "metadata": {},
   "outputs": [
    {
     "name": "stdout",
     "output_type": "stream",
     "text": [
      "힌지보호를 위해 덮었다 갤럭시Z폴드3케이스\n",
      "광고25,900원배송비무료\n",
      "갤럭시 Z폴드3 명품 슬림 하드 강화유리케이스\n",
      "광고19,800원배송비2,500원오늘출발\n",
      "갤럭시 Z 폴드3 힌지보호 심플 슬림 무지 기본 케이스 제트폴드 지폴드 ZFD-20503\n",
      "광고19,900원배송비2,500원오늘출발\n"
     ]
    }
   ],
   "source": [
    "box1=soup.find_all('div', 'adProduct_info_area__dTSZf')\n",
    "for i in box1:\n",
    "    print(i.find('div', 'adProduct_title__amInq').text)\n",
    "    print(i.find('div', 'adProduct_price_area__yA7Ad').text)"
   ]
  },
  {
   "cell_type": "code",
   "execution_count": 10,
   "metadata": {},
   "outputs": [
    {
     "data": {
      "text/plain": [
       "3"
      ]
     },
     "execution_count": 10,
     "metadata": {},
     "output_type": "execute_result"
    }
   ],
   "source": [
    "len(box1)"
   ]
  },
  {
   "cell_type": "code",
   "execution_count": 15,
   "metadata": {},
   "outputs": [
    {
     "data": {
      "text/plain": [
       "2"
      ]
     },
     "execution_count": 15,
     "metadata": {},
     "output_type": "execute_result"
    }
   ],
   "source": [
    "box2 = soup.find_all('div', 'product_title__Mmw2K')\n",
    "\n",
    "len(box2)"
   ]
  },
  {
   "cell_type": "code",
   "execution_count": 8,
   "metadata": {},
   "outputs": [
    {
     "name": "stdout",
     "output_type": "stream",
     "text": [
      "갤럭시 Z폴드3 케이스 힌지보호 자석 마그네틱 슬림 25,900원배송비무료\n",
      "갤럭시 Z폴드3 힌지보호 케이스 4DX 22,800원배송비2,500원오늘출발\n",
      "갤럭시 폴드3 케이스 z폴드3 힌지보호 12,900원배송비2,500원오늘출발\n"
     ]
    }
   ],
   "source": [
    "# for i in box:\n",
    "#     try:\n",
    "#         pro = i.find('div', 'product_title__Mmw2K').get_text()\n",
    "#         pri = i.find('div', 'product_price_area__eTg7I').get_text()\n",
    "#         print(pro, pri)\n",
    "\n",
    "#     except:\n",
    "#         continue"
   ]
  }
 ],
 "metadata": {
  "kernelspec": {
   "display_name": "Python 3",
   "language": "python",
   "name": "python3"
  },
  "language_info": {
   "codemirror_mode": {
    "name": "ipython",
    "version": 3
   },
   "file_extension": ".py",
   "mimetype": "text/x-python",
   "name": "python",
   "nbconvert_exporter": "python",
   "pygments_lexer": "ipython3",
   "version": "3.7.16"
  }
 },
 "nbformat": 4,
 "nbformat_minor": 2
}
