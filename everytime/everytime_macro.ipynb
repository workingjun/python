{
 "cells": [
  {
   "cell_type": "markdown",
   "metadata": {},
   "source": [
    "자유게시판: 공감 매크로"
   ]
  },
  {
   "cell_type": "code",
   "execution_count": 2,
   "metadata": {},
   "outputs": [],
   "source": [
    "from selenium import webdriver\n",
    "from evrytime_generator import *\n",
    "import time\n",
    "\n",
    "browser = webdriver.Chrome()\n",
    "\n",
    "login(browser)\n",
    "\n",
    "elem = browser.find_element(By.LINK_TEXT, '자유게시판')\n",
    "elem.click()\n",
    "\n",
    "##//*[@id=\"submenu\"]/div/div[2]/ul/li[1]/a\n",
    "\n",
    "scroll_down(browser, 300) \n",
    "\n",
    "count=0\n",
    "\n",
    "while count<5:\n",
    "    up_click(browser)\n",
    "\n",
    "    time.sleep(1)\n",
    "    \n",
    "    elem4 = browser.find_element(By.LINK_TEXT, '다음')\n",
    "    elem4.click()\n",
    "\n",
    "    scroll_down(browser, 300) \n",
    "        \n",
    "    count+=1\n",
    "    num = 1\n",
    " \n",
    "browser.quit()\n",
    "   "
   ]
  },
  {
   "cell_type": "markdown",
   "metadata": {},
   "source": [
    "새내기 게시판: 공감 매그로"
   ]
  },
  {
   "cell_type": "code",
   "execution_count": 11,
   "metadata": {},
   "outputs": [
    {
     "ename": "NoSuchWindowException",
     "evalue": "Message: no such window: target window already closed\nfrom unknown error: web view not found\n  (Session info: chrome=121.0.6167.161)\nStacktrace:\n\tGetHandleVerifier [0x00007FF76CEB5E42+3538674]\n\t(No symbol) [0x00007FF76CAD4C02]\n\t(No symbol) [0x00007FF76C985AEB]\n\t(No symbol) [0x00007FF76C96288C]\n\t(No symbol) [0x00007FF76C9F5DD7]\n\t(No symbol) [0x00007FF76CA0B40F]\n\t(No symbol) [0x00007FF76C9EEE53]\n\t(No symbol) [0x00007FF76C9BF514]\n\t(No symbol) [0x00007FF76C9C0631]\n\tGetHandleVerifier [0x00007FF76CEE6CAD+3738973]\n\tGetHandleVerifier [0x00007FF76CF3C506+4089270]\n\tGetHandleVerifier [0x00007FF76CF34823+4057299]\n\tGetHandleVerifier [0x00007FF76CC05C49+720121]\n\t(No symbol) [0x00007FF76CAE126F]\n\t(No symbol) [0x00007FF76CADC304]\n\t(No symbol) [0x00007FF76CADC432]\n\t(No symbol) [0x00007FF76CACBD04]\n\tBaseThreadInitThunk [0x00007FFE1B2C257D+29]\n\tRtlUserThreadStart [0x00007FFE1D3EAA58+40]\n",
     "output_type": "error",
     "traceback": [
      "\u001b[1;31m---------------------------------------------------------------------------\u001b[0m",
      "\u001b[1;31mNoSuchWindowException\u001b[0m                     Traceback (most recent call last)",
      "File \u001b[1;32mc:\\Users\\kimju\\python_project\\Onebook_python\\everytime\\evrytime_generator.py:62\u001b[0m, in \u001b[0;36mup_click\u001b[1;34m(browser)\u001b[0m\n\u001b[0;32m     60\u001b[0m time\u001b[38;5;241m.\u001b[39msleep(\u001b[38;5;241m1\u001b[39m)\n\u001b[1;32m---> 62\u001b[0m \u001b[43malert\u001b[49m\u001b[38;5;241;43m.\u001b[39;49m\u001b[43maccept\u001b[49m\u001b[43m(\u001b[49m\u001b[43m)\u001b[49m \u001b[38;5;66;03m# to click 'OK'\u001b[39;00m\n\u001b[0;32m     63\u001b[0m time\u001b[38;5;241m.\u001b[39msleep(\u001b[38;5;241m1\u001b[39m)\n",
      "File \u001b[1;32mc:\\Users\\kimju\\AppData\\Local\\Programs\\Python\\Python312\\Lib\\site-packages\\selenium\\webdriver\\common\\alert.py:72\u001b[0m, in \u001b[0;36mAlert.accept\u001b[1;34m(self)\u001b[0m\n\u001b[0;32m     65\u001b[0m \u001b[38;5;250m\u001b[39m\u001b[38;5;124;03m\"\"\"Accepts the alert available.\u001b[39;00m\n\u001b[0;32m     66\u001b[0m \n\u001b[0;32m     67\u001b[0m \u001b[38;5;124;03m:Usage:\u001b[39;00m\n\u001b[1;32m   (...)\u001b[0m\n\u001b[0;32m     70\u001b[0m \u001b[38;5;124;03m        Alert(driver).accept() # Confirm a alert dialog.\u001b[39;00m\n\u001b[0;32m     71\u001b[0m \u001b[38;5;124;03m\"\"\"\u001b[39;00m\n\u001b[1;32m---> 72\u001b[0m \u001b[38;5;28;43mself\u001b[39;49m\u001b[38;5;241;43m.\u001b[39;49m\u001b[43mdriver\u001b[49m\u001b[38;5;241;43m.\u001b[39;49m\u001b[43mexecute\u001b[49m\u001b[43m(\u001b[49m\u001b[43mCommand\u001b[49m\u001b[38;5;241;43m.\u001b[39;49m\u001b[43mW3C_ACCEPT_ALERT\u001b[49m\u001b[43m)\u001b[49m\n",
      "File \u001b[1;32mc:\\Users\\kimju\\AppData\\Local\\Programs\\Python\\Python312\\Lib\\site-packages\\selenium\\webdriver\\remote\\webdriver.py:348\u001b[0m, in \u001b[0;36mWebDriver.execute\u001b[1;34m(self, driver_command, params)\u001b[0m\n\u001b[0;32m    347\u001b[0m \u001b[38;5;28;01mif\u001b[39;00m response:\n\u001b[1;32m--> 348\u001b[0m     \u001b[38;5;28;43mself\u001b[39;49m\u001b[38;5;241;43m.\u001b[39;49m\u001b[43merror_handler\u001b[49m\u001b[38;5;241;43m.\u001b[39;49m\u001b[43mcheck_response\u001b[49m\u001b[43m(\u001b[49m\u001b[43mresponse\u001b[49m\u001b[43m)\u001b[49m\n\u001b[0;32m    349\u001b[0m     response[\u001b[38;5;124m\"\u001b[39m\u001b[38;5;124mvalue\u001b[39m\u001b[38;5;124m\"\u001b[39m] \u001b[38;5;241m=\u001b[39m \u001b[38;5;28mself\u001b[39m\u001b[38;5;241m.\u001b[39m_unwrap_value(response\u001b[38;5;241m.\u001b[39mget(\u001b[38;5;124m\"\u001b[39m\u001b[38;5;124mvalue\u001b[39m\u001b[38;5;124m\"\u001b[39m, \u001b[38;5;28;01mNone\u001b[39;00m))\n",
      "File \u001b[1;32mc:\\Users\\kimju\\AppData\\Local\\Programs\\Python\\Python312\\Lib\\site-packages\\selenium\\webdriver\\remote\\errorhandler.py:229\u001b[0m, in \u001b[0;36mErrorHandler.check_response\u001b[1;34m(self, response)\u001b[0m\n\u001b[0;32m    228\u001b[0m     \u001b[38;5;28;01mraise\u001b[39;00m exception_class(message, screen, stacktrace, alert_text)  \u001b[38;5;66;03m# type: ignore[call-arg]  # mypy is not smart enough here\u001b[39;00m\n\u001b[1;32m--> 229\u001b[0m \u001b[38;5;28;01mraise\u001b[39;00m exception_class(message, screen, stacktrace)\n",
      "\u001b[1;31mNoSuchWindowException\u001b[0m: Message: no such window: target window already closed\nfrom unknown error: web view not found\n  (Session info: chrome=121.0.6167.161)\nStacktrace:\n\tGetHandleVerifier [0x00007FF76CEB5E42+3538674]\n\t(No symbol) [0x00007FF76CAD4C02]\n\t(No symbol) [0x00007FF76C985AEB]\n\t(No symbol) [0x00007FF76C96288C]\n\t(No symbol) [0x00007FF76C9F5DD7]\n\t(No symbol) [0x00007FF76C9A52E6]\n\t(No symbol) [0x00007FF76C9EEE53]\n\t(No symbol) [0x00007FF76C9BF514]\n\t(No symbol) [0x00007FF76C9C0631]\n\tGetHandleVerifier [0x00007FF76CEE6CAD+3738973]\n\tGetHandleVerifier [0x00007FF76CF3C506+4089270]\n\tGetHandleVerifier [0x00007FF76CF34823+4057299]\n\tGetHandleVerifier [0x00007FF76CC05C49+720121]\n\t(No symbol) [0x00007FF76CAE126F]\n\t(No symbol) [0x00007FF76CADC304]\n\t(No symbol) [0x00007FF76CADC432]\n\t(No symbol) [0x00007FF76CACBD04]\n\tBaseThreadInitThunk [0x00007FFE1B2C257D+29]\n\tRtlUserThreadStart [0x00007FFE1D3EAA58+40]\n",
      "\nDuring handling of the above exception, another exception occurred:\n",
      "\u001b[1;31mNoSuchWindowException\u001b[0m                     Traceback (most recent call last)",
      "Cell \u001b[1;32mIn[11], line 20\u001b[0m\n\u001b[0;32m     17\u001b[0m count_next\u001b[38;5;241m=\u001b[39m\u001b[38;5;241m1\u001b[39m\n\u001b[0;32m     19\u001b[0m \u001b[38;5;28;01mwhile\u001b[39;00m count\u001b[38;5;241m<\u001b[39m\u001b[38;5;241m5\u001b[39m:\n\u001b[1;32m---> 20\u001b[0m     \u001b[43mup_click\u001b[49m\u001b[43m(\u001b[49m\u001b[43mbrowser\u001b[49m\u001b[43m)\u001b[49m\n\u001b[0;32m     22\u001b[0m     elem4 \u001b[38;5;241m=\u001b[39m browser\u001b[38;5;241m.\u001b[39mfind_element(By\u001b[38;5;241m.\u001b[39mXPATH, \u001b[38;5;124mf\u001b[39m\u001b[38;5;124m'\u001b[39m\u001b[38;5;124m//*[@id=\u001b[39m\u001b[38;5;124m\"\u001b[39m\u001b[38;5;124mcontainer\u001b[39m\u001b[38;5;124m\"\u001b[39m\u001b[38;5;124m]/div[5]/div[2]/a[\u001b[39m\u001b[38;5;132;01m{\u001b[39;00mcount_next\u001b[38;5;132;01m}\u001b[39;00m\u001b[38;5;124m]\u001b[39m\u001b[38;5;124m'\u001b[39m)\n\u001b[0;32m     23\u001b[0m     time\u001b[38;5;241m.\u001b[39msleep(\u001b[38;5;241m1\u001b[39m)\n",
      "File \u001b[1;32mc:\\Users\\kimju\\python_project\\Onebook_python\\everytime\\evrytime_generator.py:72\u001b[0m, in \u001b[0;36mup_click\u001b[1;34m(browser)\u001b[0m\n\u001b[0;32m     69\u001b[0m     time\u001b[38;5;241m.\u001b[39msleep(\u001b[38;5;241m1\u001b[39m)\n\u001b[0;32m     71\u001b[0m \u001b[38;5;28;01mexcept\u001b[39;00m:\n\u001b[1;32m---> 72\u001b[0m     \u001b[43mbrowser\u001b[49m\u001b[38;5;241;43m.\u001b[39;49m\u001b[43mback\u001b[49m\u001b[43m(\u001b[49m\u001b[43m)\u001b[49m\n\u001b[0;32m     73\u001b[0m     time\u001b[38;5;241m.\u001b[39msleep(\u001b[38;5;241m1\u001b[39m)\n\u001b[0;32m     75\u001b[0m \u001b[38;5;28;01melse\u001b[39;00m:\n",
      "File \u001b[1;32mc:\\Users\\kimju\\AppData\\Local\\Programs\\Python\\Python312\\Lib\\site-packages\\selenium\\webdriver\\remote\\webdriver.py:551\u001b[0m, in \u001b[0;36mWebDriver.back\u001b[1;34m(self)\u001b[0m\n\u001b[0;32m    543\u001b[0m \u001b[38;5;28;01mdef\u001b[39;00m \u001b[38;5;21mback\u001b[39m(\u001b[38;5;28mself\u001b[39m) \u001b[38;5;241m-\u001b[39m\u001b[38;5;241m>\u001b[39m \u001b[38;5;28;01mNone\u001b[39;00m:\n\u001b[0;32m    544\u001b[0m \u001b[38;5;250m    \u001b[39m\u001b[38;5;124;03m\"\"\"Goes one step backward in the browser history.\u001b[39;00m\n\u001b[0;32m    545\u001b[0m \n\u001b[0;32m    546\u001b[0m \u001b[38;5;124;03m    :Usage:\u001b[39;00m\n\u001b[1;32m   (...)\u001b[0m\n\u001b[0;32m    549\u001b[0m \u001b[38;5;124;03m            driver.back()\u001b[39;00m\n\u001b[0;32m    550\u001b[0m \u001b[38;5;124;03m    \"\"\"\u001b[39;00m\n\u001b[1;32m--> 551\u001b[0m     \u001b[38;5;28;43mself\u001b[39;49m\u001b[38;5;241;43m.\u001b[39;49m\u001b[43mexecute\u001b[49m\u001b[43m(\u001b[49m\u001b[43mCommand\u001b[49m\u001b[38;5;241;43m.\u001b[39;49m\u001b[43mGO_BACK\u001b[49m\u001b[43m)\u001b[49m\n",
      "File \u001b[1;32mc:\\Users\\kimju\\AppData\\Local\\Programs\\Python\\Python312\\Lib\\site-packages\\selenium\\webdriver\\remote\\webdriver.py:348\u001b[0m, in \u001b[0;36mWebDriver.execute\u001b[1;34m(self, driver_command, params)\u001b[0m\n\u001b[0;32m    346\u001b[0m response \u001b[38;5;241m=\u001b[39m \u001b[38;5;28mself\u001b[39m\u001b[38;5;241m.\u001b[39mcommand_executor\u001b[38;5;241m.\u001b[39mexecute(driver_command, params)\n\u001b[0;32m    347\u001b[0m \u001b[38;5;28;01mif\u001b[39;00m response:\n\u001b[1;32m--> 348\u001b[0m     \u001b[38;5;28;43mself\u001b[39;49m\u001b[38;5;241;43m.\u001b[39;49m\u001b[43merror_handler\u001b[49m\u001b[38;5;241;43m.\u001b[39;49m\u001b[43mcheck_response\u001b[49m\u001b[43m(\u001b[49m\u001b[43mresponse\u001b[49m\u001b[43m)\u001b[49m\n\u001b[0;32m    349\u001b[0m     response[\u001b[38;5;124m\"\u001b[39m\u001b[38;5;124mvalue\u001b[39m\u001b[38;5;124m\"\u001b[39m] \u001b[38;5;241m=\u001b[39m \u001b[38;5;28mself\u001b[39m\u001b[38;5;241m.\u001b[39m_unwrap_value(response\u001b[38;5;241m.\u001b[39mget(\u001b[38;5;124m\"\u001b[39m\u001b[38;5;124mvalue\u001b[39m\u001b[38;5;124m\"\u001b[39m, \u001b[38;5;28;01mNone\u001b[39;00m))\n\u001b[0;32m    350\u001b[0m     \u001b[38;5;28;01mreturn\u001b[39;00m response\n",
      "File \u001b[1;32mc:\\Users\\kimju\\AppData\\Local\\Programs\\Python\\Python312\\Lib\\site-packages\\selenium\\webdriver\\remote\\errorhandler.py:229\u001b[0m, in \u001b[0;36mErrorHandler.check_response\u001b[1;34m(self, response)\u001b[0m\n\u001b[0;32m    227\u001b[0m         alert_text \u001b[38;5;241m=\u001b[39m value[\u001b[38;5;124m\"\u001b[39m\u001b[38;5;124malert\u001b[39m\u001b[38;5;124m\"\u001b[39m]\u001b[38;5;241m.\u001b[39mget(\u001b[38;5;124m\"\u001b[39m\u001b[38;5;124mtext\u001b[39m\u001b[38;5;124m\"\u001b[39m)\n\u001b[0;32m    228\u001b[0m     \u001b[38;5;28;01mraise\u001b[39;00m exception_class(message, screen, stacktrace, alert_text)  \u001b[38;5;66;03m# type: ignore[call-arg]  # mypy is not smart enough here\u001b[39;00m\n\u001b[1;32m--> 229\u001b[0m \u001b[38;5;28;01mraise\u001b[39;00m exception_class(message, screen, stacktrace)\n",
      "\u001b[1;31mNoSuchWindowException\u001b[0m: Message: no such window: target window already closed\nfrom unknown error: web view not found\n  (Session info: chrome=121.0.6167.161)\nStacktrace:\n\tGetHandleVerifier [0x00007FF76CEB5E42+3538674]\n\t(No symbol) [0x00007FF76CAD4C02]\n\t(No symbol) [0x00007FF76C985AEB]\n\t(No symbol) [0x00007FF76C96288C]\n\t(No symbol) [0x00007FF76C9F5DD7]\n\t(No symbol) [0x00007FF76CA0B40F]\n\t(No symbol) [0x00007FF76C9EEE53]\n\t(No symbol) [0x00007FF76C9BF514]\n\t(No symbol) [0x00007FF76C9C0631]\n\tGetHandleVerifier [0x00007FF76CEE6CAD+3738973]\n\tGetHandleVerifier [0x00007FF76CF3C506+4089270]\n\tGetHandleVerifier [0x00007FF76CF34823+4057299]\n\tGetHandleVerifier [0x00007FF76CC05C49+720121]\n\t(No symbol) [0x00007FF76CAE126F]\n\t(No symbol) [0x00007FF76CADC304]\n\t(No symbol) [0x00007FF76CADC432]\n\t(No symbol) [0x00007FF76CACBD04]\n\tBaseThreadInitThunk [0x00007FFE1B2C257D+29]\n\tRtlUserThreadStart [0x00007FFE1D3EAA58+40]\n"
     ]
    }
   ],
   "source": [
    "from selenium import webdriver\n",
    "from evrytime_generator import *\n",
    "import time\n",
    "\n",
    "browser = webdriver.Chrome()\n",
    "\n",
    "login(browser)\n",
    "\n",
    "elem = browser.find_element(By.LINK_TEXT, '새내기게시판')\n",
    "elem.click()\n",
    "\n",
    "##//*[@id=\"submenu\"]/div/div[2]/ul/li[4]/a\n",
    "\n",
    "scroll_down(browser, 300) \n",
    "\n",
    "count=0\n",
    "count_next=1\n",
    "\n",
    "while count<5:\n",
    "    up_click(browser)\n",
    "    \n",
    "    time.sleep(1)\n",
    "    \n",
    "    elem4 = browser.find_element(By.XPATH, f'//*[@id=\"container\"]/div[5]/div[2]/a[{count_next}]')\n",
    "    elem4.click()\n",
    "\n",
    "    \"\"\"//*[@id=\"container\"]/div[5]/div[2]/a\n",
    "    //*[@id=\"container\"]/div[5]/div[2]/a[2]\n",
    "    //*[@id=\"container\"]/div[5]/div[2]/a[3]\"\"\"\n",
    "\n",
    "    scroll_down(browser, 300) \n",
    "    \n",
    "    if count_next==3:\n",
    "        count_next=3\n",
    "    else:\n",
    "        count_next+=1\n",
    "        \n",
    "    count+=1\n",
    "    num = 1\n",
    " \n",
    "browser.quit()"
   ]
  },
  {
   "cell_type": "markdown",
   "metadata": {},
   "source": [
    "성고민 게시판: 공감 매크로"
   ]
  },
  {
   "cell_type": "code",
   "execution_count": 10,
   "metadata": {},
   "outputs": [
    {
     "ename": "NoSuchWindowException",
     "evalue": "Message: no such window: target window already closed\nfrom unknown error: web view not found\n  (Session info: chrome=121.0.6167.161)\nStacktrace:\n\tGetHandleVerifier [0x00007FF76CEB5E42+3538674]\n\t(No symbol) [0x00007FF76CAD4C02]\n\t(No symbol) [0x00007FF76C985AEB]\n\t(No symbol) [0x00007FF76C96288C]\n\t(No symbol) [0x00007FF76C9F5DD7]\n\t(No symbol) [0x00007FF76CA0B40F]\n\t(No symbol) [0x00007FF76C9EEE53]\n\t(No symbol) [0x00007FF76C9BF514]\n\t(No symbol) [0x00007FF76C9C0631]\n\tGetHandleVerifier [0x00007FF76CEE6CAD+3738973]\n\tGetHandleVerifier [0x00007FF76CF3C506+4089270]\n\tGetHandleVerifier [0x00007FF76CF34823+4057299]\n\tGetHandleVerifier [0x00007FF76CC05C49+720121]\n\t(No symbol) [0x00007FF76CAE126F]\n\t(No symbol) [0x00007FF76CADC304]\n\t(No symbol) [0x00007FF76CADC432]\n\t(No symbol) [0x00007FF76CACBD04]\n\tBaseThreadInitThunk [0x00007FFE1B2C257D+29]\n\tRtlUserThreadStart [0x00007FFE1D3EAA58+40]\n",
     "output_type": "error",
     "traceback": [
      "\u001b[1;31m---------------------------------------------------------------------------\u001b[0m",
      "\u001b[1;31mNoSuchWindowException\u001b[0m                     Traceback (most recent call last)",
      "Cell \u001b[1;32mIn[10], line 24\u001b[0m\n\u001b[0;32m     21\u001b[0m \u001b[38;5;28;01mwhile\u001b[39;00m count\u001b[38;5;241m<\u001b[39m\u001b[38;5;241m5\u001b[39m:\n\u001b[0;32m     22\u001b[0m     up_click(browser)\n\u001b[1;32m---> 24\u001b[0m     elem4 \u001b[38;5;241m=\u001b[39m \u001b[43mbrowser\u001b[49m\u001b[38;5;241;43m.\u001b[39;49m\u001b[43mfind_element\u001b[49m\u001b[43m(\u001b[49m\u001b[43mBy\u001b[49m\u001b[38;5;241;43m.\u001b[39;49m\u001b[43mXPATH\u001b[49m\u001b[43m,\u001b[49m\u001b[43m \u001b[49m\u001b[38;5;124;43mf\u001b[39;49m\u001b[38;5;124;43m'\u001b[39;49m\u001b[38;5;124;43m//*[@id=\u001b[39;49m\u001b[38;5;124;43m\"\u001b[39;49m\u001b[38;5;124;43mcontainer\u001b[39;49m\u001b[38;5;124;43m\"\u001b[39;49m\u001b[38;5;124;43m]/div[4]/div[2]/a[\u001b[39;49m\u001b[38;5;132;43;01m{\u001b[39;49;00m\u001b[43mcount_next\u001b[49m\u001b[38;5;132;43;01m}\u001b[39;49;00m\u001b[38;5;124;43m]\u001b[39;49m\u001b[38;5;124;43m'\u001b[39;49m\u001b[43m)\u001b[49m\n\u001b[0;32m     25\u001b[0m     time\u001b[38;5;241m.\u001b[39msleep(\u001b[38;5;241m1\u001b[39m)\n\u001b[0;32m     26\u001b[0m     elem4\u001b[38;5;241m.\u001b[39mclick()\n",
      "File \u001b[1;32mc:\\Users\\kimju\\AppData\\Local\\Programs\\Python\\Python312\\Lib\\site-packages\\selenium\\webdriver\\remote\\webdriver.py:742\u001b[0m, in \u001b[0;36mWebDriver.find_element\u001b[1;34m(self, by, value)\u001b[0m\n\u001b[0;32m    739\u001b[0m     by \u001b[38;5;241m=\u001b[39m By\u001b[38;5;241m.\u001b[39mCSS_SELECTOR\n\u001b[0;32m    740\u001b[0m     value \u001b[38;5;241m=\u001b[39m \u001b[38;5;124mf\u001b[39m\u001b[38;5;124m'\u001b[39m\u001b[38;5;124m[name=\u001b[39m\u001b[38;5;124m\"\u001b[39m\u001b[38;5;132;01m{\u001b[39;00mvalue\u001b[38;5;132;01m}\u001b[39;00m\u001b[38;5;124m\"\u001b[39m\u001b[38;5;124m]\u001b[39m\u001b[38;5;124m'\u001b[39m\n\u001b[1;32m--> 742\u001b[0m \u001b[38;5;28;01mreturn\u001b[39;00m \u001b[38;5;28;43mself\u001b[39;49m\u001b[38;5;241;43m.\u001b[39;49m\u001b[43mexecute\u001b[49m\u001b[43m(\u001b[49m\u001b[43mCommand\u001b[49m\u001b[38;5;241;43m.\u001b[39;49m\u001b[43mFIND_ELEMENT\u001b[49m\u001b[43m,\u001b[49m\u001b[43m \u001b[49m\u001b[43m{\u001b[49m\u001b[38;5;124;43m\"\u001b[39;49m\u001b[38;5;124;43musing\u001b[39;49m\u001b[38;5;124;43m\"\u001b[39;49m\u001b[43m:\u001b[49m\u001b[43m \u001b[49m\u001b[43mby\u001b[49m\u001b[43m,\u001b[49m\u001b[43m \u001b[49m\u001b[38;5;124;43m\"\u001b[39;49m\u001b[38;5;124;43mvalue\u001b[39;49m\u001b[38;5;124;43m\"\u001b[39;49m\u001b[43m:\u001b[49m\u001b[43m \u001b[49m\u001b[43mvalue\u001b[49m\u001b[43m}\u001b[49m\u001b[43m)\u001b[49m[\u001b[38;5;124m\"\u001b[39m\u001b[38;5;124mvalue\u001b[39m\u001b[38;5;124m\"\u001b[39m]\n",
      "File \u001b[1;32mc:\\Users\\kimju\\AppData\\Local\\Programs\\Python\\Python312\\Lib\\site-packages\\selenium\\webdriver\\remote\\webdriver.py:348\u001b[0m, in \u001b[0;36mWebDriver.execute\u001b[1;34m(self, driver_command, params)\u001b[0m\n\u001b[0;32m    346\u001b[0m response \u001b[38;5;241m=\u001b[39m \u001b[38;5;28mself\u001b[39m\u001b[38;5;241m.\u001b[39mcommand_executor\u001b[38;5;241m.\u001b[39mexecute(driver_command, params)\n\u001b[0;32m    347\u001b[0m \u001b[38;5;28;01mif\u001b[39;00m response:\n\u001b[1;32m--> 348\u001b[0m     \u001b[38;5;28;43mself\u001b[39;49m\u001b[38;5;241;43m.\u001b[39;49m\u001b[43merror_handler\u001b[49m\u001b[38;5;241;43m.\u001b[39;49m\u001b[43mcheck_response\u001b[49m\u001b[43m(\u001b[49m\u001b[43mresponse\u001b[49m\u001b[43m)\u001b[49m\n\u001b[0;32m    349\u001b[0m     response[\u001b[38;5;124m\"\u001b[39m\u001b[38;5;124mvalue\u001b[39m\u001b[38;5;124m\"\u001b[39m] \u001b[38;5;241m=\u001b[39m \u001b[38;5;28mself\u001b[39m\u001b[38;5;241m.\u001b[39m_unwrap_value(response\u001b[38;5;241m.\u001b[39mget(\u001b[38;5;124m\"\u001b[39m\u001b[38;5;124mvalue\u001b[39m\u001b[38;5;124m\"\u001b[39m, \u001b[38;5;28;01mNone\u001b[39;00m))\n\u001b[0;32m    350\u001b[0m     \u001b[38;5;28;01mreturn\u001b[39;00m response\n",
      "File \u001b[1;32mc:\\Users\\kimju\\AppData\\Local\\Programs\\Python\\Python312\\Lib\\site-packages\\selenium\\webdriver\\remote\\errorhandler.py:229\u001b[0m, in \u001b[0;36mErrorHandler.check_response\u001b[1;34m(self, response)\u001b[0m\n\u001b[0;32m    227\u001b[0m         alert_text \u001b[38;5;241m=\u001b[39m value[\u001b[38;5;124m\"\u001b[39m\u001b[38;5;124malert\u001b[39m\u001b[38;5;124m\"\u001b[39m]\u001b[38;5;241m.\u001b[39mget(\u001b[38;5;124m\"\u001b[39m\u001b[38;5;124mtext\u001b[39m\u001b[38;5;124m\"\u001b[39m)\n\u001b[0;32m    228\u001b[0m     \u001b[38;5;28;01mraise\u001b[39;00m exception_class(message, screen, stacktrace, alert_text)  \u001b[38;5;66;03m# type: ignore[call-arg]  # mypy is not smart enough here\u001b[39;00m\n\u001b[1;32m--> 229\u001b[0m \u001b[38;5;28;01mraise\u001b[39;00m exception_class(message, screen, stacktrace)\n",
      "\u001b[1;31mNoSuchWindowException\u001b[0m: Message: no such window: target window already closed\nfrom unknown error: web view not found\n  (Session info: chrome=121.0.6167.161)\nStacktrace:\n\tGetHandleVerifier [0x00007FF76CEB5E42+3538674]\n\t(No symbol) [0x00007FF76CAD4C02]\n\t(No symbol) [0x00007FF76C985AEB]\n\t(No symbol) [0x00007FF76C96288C]\n\t(No symbol) [0x00007FF76C9F5DD7]\n\t(No symbol) [0x00007FF76CA0B40F]\n\t(No symbol) [0x00007FF76C9EEE53]\n\t(No symbol) [0x00007FF76C9BF514]\n\t(No symbol) [0x00007FF76C9C0631]\n\tGetHandleVerifier [0x00007FF76CEE6CAD+3738973]\n\tGetHandleVerifier [0x00007FF76CF3C506+4089270]\n\tGetHandleVerifier [0x00007FF76CF34823+4057299]\n\tGetHandleVerifier [0x00007FF76CC05C49+720121]\n\t(No symbol) [0x00007FF76CAE126F]\n\t(No symbol) [0x00007FF76CADC304]\n\t(No symbol) [0x00007FF76CADC432]\n\t(No symbol) [0x00007FF76CACBD04]\n\tBaseThreadInitThunk [0x00007FFE1B2C257D+29]\n\tRtlUserThreadStart [0x00007FFE1D3EAA58+40]\n"
     ]
    }
   ],
   "source": [
    "from selenium import webdriver\n",
    "from evrytime_generator import *\n",
    "import time\n",
    "\n",
    "browser = webdriver.Chrome()\n",
    "\n",
    "login(browser)\n",
    "\n",
    "elem = browser.find_element(By.LINK_TEXT, '성고민게시판')\n",
    "elem.click()\n",
    "\n",
    "# //*[@id=\"submenu\"]/div/div[9]/ul/li[4]/a\n",
    "# //*[@id=\"submenu\"]/div/div[9]/ul/li[5]/a\n",
    "##//*[@id=\"submenu\"]/div/div[2]/ul/li[1]/a\n",
    "\n",
    "scroll_down(browser, 300) \n",
    "\n",
    "count=0\n",
    "count_next=1\n",
    "\n",
    "while count<5:\n",
    "    up_click(browser)\n",
    "    \n",
    "    time.sleep(1)\n",
    "\n",
    "    elem4 = browser.find_element(By.XPATH, f'//*[@id=\"container\"]/div[4]/div[2]/a[{count_next}]')\n",
    "    elem4.click()\n",
    "\n",
    "    ##//*[@id=\"container\"]/div[4]/div[2]/a[2]\n",
    "\n",
    "    scroll_down(browser, 300) \n",
    "\n",
    "    if count_next==3:\n",
    "        count_next=3\n",
    "    else:\n",
    "        count_next+=1\n",
    "        \n",
    "    count+=1\n",
    "    num = 1\n",
    " \n",
    "browser.quit()"
   ]
  }
 ],
 "metadata": {
  "kernelspec": {
   "display_name": "Python 3",
   "language": "python",
   "name": "python3"
  },
  "language_info": {
   "codemirror_mode": {
    "name": "ipython",
    "version": 3
   },
   "file_extension": ".py",
   "mimetype": "text/x-python",
   "name": "python",
   "nbconvert_exporter": "python",
   "pygments_lexer": "ipython3",
   "version": "3.7.16"
  }
 },
 "nbformat": 4,
 "nbformat_minor": 2
}
