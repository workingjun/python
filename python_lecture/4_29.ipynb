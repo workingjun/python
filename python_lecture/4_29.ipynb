{
 "cells": [
  {
   "cell_type": "code",
   "execution_count": 1,
   "metadata": {},
   "outputs": [
    {
     "data": {
      "text/html": [
       "<div>\n",
       "<style scoped>\n",
       "    .dataframe tbody tr th:only-of-type {\n",
       "        vertical-align: middle;\n",
       "    }\n",
       "\n",
       "    .dataframe tbody tr th {\n",
       "        vertical-align: top;\n",
       "    }\n",
       "\n",
       "    .dataframe thead th {\n",
       "        text-align: right;\n",
       "    }\n",
       "</style>\n",
       "<table border=\"1\" class=\"dataframe\">\n",
       "  <thead>\n",
       "    <tr style=\"text-align: right;\">\n",
       "      <th></th>\n",
       "      <th>지점</th>\n",
       "      <th>지점명</th>\n",
       "      <th>일시</th>\n",
       "      <th>기온(°C)</th>\n",
       "      <th>풍속(m/s)</th>\n",
       "      <th>습도(%)</th>\n",
       "      <th>현지기압(hPa)</th>\n",
       "    </tr>\n",
       "  </thead>\n",
       "  <tbody>\n",
       "    <tr>\n",
       "      <th>0</th>\n",
       "      <td>108</td>\n",
       "      <td>서울</td>\n",
       "      <td>2020-10-10 1:00</td>\n",
       "      <td>14.8</td>\n",
       "      <td>2.5</td>\n",
       "      <td>65</td>\n",
       "      <td>1011.9</td>\n",
       "    </tr>\n",
       "    <tr>\n",
       "      <th>1</th>\n",
       "      <td>108</td>\n",
       "      <td>서울</td>\n",
       "      <td>2020-10-10 2:00</td>\n",
       "      <td>14.2</td>\n",
       "      <td>1.8</td>\n",
       "      <td>67</td>\n",
       "      <td>1011.4</td>\n",
       "    </tr>\n",
       "    <tr>\n",
       "      <th>2</th>\n",
       "      <td>108</td>\n",
       "      <td>서울</td>\n",
       "      <td>2020-10-10 3:00</td>\n",
       "      <td>13.7</td>\n",
       "      <td>2.2</td>\n",
       "      <td>70</td>\n",
       "      <td>1011.3</td>\n",
       "    </tr>\n",
       "    <tr>\n",
       "      <th>3</th>\n",
       "      <td>108</td>\n",
       "      <td>서울</td>\n",
       "      <td>2020-10-10 4:00</td>\n",
       "      <td>13.1</td>\n",
       "      <td>1.2</td>\n",
       "      <td>71</td>\n",
       "      <td>1011.3</td>\n",
       "    </tr>\n",
       "    <tr>\n",
       "      <th>4</th>\n",
       "      <td>108</td>\n",
       "      <td>서울</td>\n",
       "      <td>2020-10-10 5:00</td>\n",
       "      <td>12.5</td>\n",
       "      <td>1.4</td>\n",
       "      <td>72</td>\n",
       "      <td>1011.5</td>\n",
       "    </tr>\n",
       "  </tbody>\n",
       "</table>\n",
       "</div>"
      ],
      "text/plain": [
       "    지점 지점명               일시  기온(°C)  풍속(m/s)  습도(%)  현지기압(hPa)\n",
       "0  108  서울  2020-10-10 1:00    14.8      2.5     65     1011.9\n",
       "1  108  서울  2020-10-10 2:00    14.2      1.8     67     1011.4\n",
       "2  108  서울  2020-10-10 3:00    13.7      2.2     70     1011.3\n",
       "3  108  서울  2020-10-10 4:00    13.1      1.2     71     1011.3\n",
       "4  108  서울  2020-10-10 5:00    12.5      1.4     72     1011.5"
      ]
     },
     "execution_count": 1,
     "metadata": {},
     "output_type": "execute_result"
    }
   ],
   "source": [
    "import pandas as pd\n",
    "\n",
    "df=pd.read_csv(\"기상데이터.csv\", encoding='cp949')\n",
    "df.head()"
   ]
  },
  {
   "cell_type": "code",
   "execution_count": 55,
   "metadata": {},
   "outputs": [
    {
     "name": "stdout",
     "output_type": "stream",
     "text": [
      "기온이 가장 높은 날: 2020-10-10 15:00\n",
      "습도가 가장 높은 날: 2020-10-10 7:00\n"
     ]
    }
   ],
   "source": [
    "a=df['기온(°C)'].max()\n",
    "\n",
    "for i, e in enumerate(df['기온(°C)']):\n",
    "    if e == a:\n",
    "        print('기온이 가장 높은 날:', df['일시'][i])\n",
    "\n",
    "a=df['습도(%)'].max()\n",
    "\n",
    "for i, e in enumerate(df['습도(%)']):\n",
    "    if e == a:\n",
    "        print('습도가 가장 높은 날:', df['일시'][i])"
   ]
  },
  {
   "cell_type": "code",
   "execution_count": 56,
   "metadata": {},
   "outputs": [
    {
     "name": "stdout",
     "output_type": "stream",
     "text": [
      "2020-10-10 15:00\n",
      "2020-10-10 7:00\n"
     ]
    }
   ],
   "source": [
    "df1=df.sort_values('기온(°C)', ascending=False)\n",
    "## df1['일시'].head(1)\n",
    "\n",
    "for i in df1['일시']:\n",
    "        print(i)\n",
    "        break\n",
    "\n",
    "df1=df.sort_values('습도(%)', ascending=False)\n",
    "\n",
    "for i in df1['일시']:\n",
    "        print(i)\n",
    "        break"
   ]
  },
  {
   "cell_type": "code",
   "execution_count": null,
   "metadata": {},
   "outputs": [],
   "source": []
  },
  {
   "cell_type": "code",
   "execution_count": null,
   "metadata": {},
   "outputs": [],
   "source": []
  },
  {
   "cell_type": "code",
   "execution_count": 57,
   "metadata": {},
   "outputs": [
    {
     "data": {
      "text/html": [
       "<div>\n",
       "<style scoped>\n",
       "    .dataframe tbody tr th:only-of-type {\n",
       "        vertical-align: middle;\n",
       "    }\n",
       "\n",
       "    .dataframe tbody tr th {\n",
       "        vertical-align: top;\n",
       "    }\n",
       "\n",
       "    .dataframe thead th {\n",
       "        text-align: right;\n",
       "    }\n",
       "</style>\n",
       "<table border=\"1\" class=\"dataframe\">\n",
       "  <thead>\n",
       "    <tr style=\"text-align: right;\">\n",
       "      <th></th>\n",
       "      <th>지점</th>\n",
       "      <th>지점명</th>\n",
       "      <th>일시</th>\n",
       "      <th>기온(°C)</th>\n",
       "      <th>풍속(m/s)</th>\n",
       "      <th>습도(%)</th>\n",
       "      <th>현지기압(hPa)</th>\n",
       "    </tr>\n",
       "  </thead>\n",
       "  <tbody>\n",
       "    <tr>\n",
       "      <th>0</th>\n",
       "      <td>108</td>\n",
       "      <td>서울</td>\n",
       "      <td>2020-10-10 1:00</td>\n",
       "      <td>14.8</td>\n",
       "      <td>2.5</td>\n",
       "      <td>65</td>\n",
       "      <td>1011.9</td>\n",
       "    </tr>\n",
       "    <tr>\n",
       "      <th>1</th>\n",
       "      <td>108</td>\n",
       "      <td>서울</td>\n",
       "      <td>2020-10-10 2:00</td>\n",
       "      <td>14.2</td>\n",
       "      <td>1.8</td>\n",
       "      <td>67</td>\n",
       "      <td>1011.4</td>\n",
       "    </tr>\n",
       "    <tr>\n",
       "      <th>2</th>\n",
       "      <td>108</td>\n",
       "      <td>서울</td>\n",
       "      <td>2020-10-10 3:00</td>\n",
       "      <td>13.7</td>\n",
       "      <td>2.2</td>\n",
       "      <td>70</td>\n",
       "      <td>1011.3</td>\n",
       "    </tr>\n",
       "    <tr>\n",
       "      <th>3</th>\n",
       "      <td>108</td>\n",
       "      <td>서울</td>\n",
       "      <td>2020-10-10 4:00</td>\n",
       "      <td>13.1</td>\n",
       "      <td>1.2</td>\n",
       "      <td>71</td>\n",
       "      <td>1011.3</td>\n",
       "    </tr>\n",
       "    <tr>\n",
       "      <th>4</th>\n",
       "      <td>108</td>\n",
       "      <td>서울</td>\n",
       "      <td>2020-10-10 5:00</td>\n",
       "      <td>12.5</td>\n",
       "      <td>1.4</td>\n",
       "      <td>72</td>\n",
       "      <td>1011.5</td>\n",
       "    </tr>\n",
       "  </tbody>\n",
       "</table>\n",
       "</div>"
      ],
      "text/plain": [
       "    지점 지점명               일시  기온(°C)  풍속(m/s)  습도(%)  현지기압(hPa)\n",
       "0  108  서울  2020-10-10 1:00    14.8      2.5     65     1011.9\n",
       "1  108  서울  2020-10-10 2:00    14.2      1.8     67     1011.4\n",
       "2  108  서울  2020-10-10 3:00    13.7      2.2     70     1011.3\n",
       "3  108  서울  2020-10-10 4:00    13.1      1.2     71     1011.3\n",
       "4  108  서울  2020-10-10 5:00    12.5      1.4     72     1011.5"
      ]
     },
     "execution_count": 57,
     "metadata": {},
     "output_type": "execute_result"
    }
   ],
   "source": [
    "import pandas as pd\n",
    "\n",
    "df=pd.read_csv(\"기상데이터.csv\", encoding='cp949')\n",
    "df.head()"
   ]
  },
  {
   "cell_type": "code",
   "execution_count": 58,
   "metadata": {},
   "outputs": [
    {
     "data": {
      "text/plain": [
       "[0, 10, 20]"
      ]
     },
     "execution_count": 58,
     "metadata": {},
     "output_type": "execute_result"
    }
   ],
   "source": [
    "mylist=[]\n",
    "\n",
    "for i in range(len(list(df.index))):\n",
    "    if i%10==0:\n",
    "       mylist.append(i)\n",
    "\n",
    "mylist "
   ]
  },
  {
   "cell_type": "code",
   "execution_count": 53,
   "metadata": {},
   "outputs": [
    {
     "data": {
      "text/plain": [
       "0      2020-10-10 1:00\n",
       "10    2020-10-10 11:00\n",
       "20    2020-10-10 21:00\n",
       "Name: 일시, dtype: object"
      ]
     },
     "execution_count": 53,
     "metadata": {},
     "output_type": "execute_result"
    }
   ],
   "source": [
    "df['일시'][mylist]"
   ]
  },
  {
   "cell_type": "code",
   "execution_count": 52,
   "metadata": {},
   "outputs": [
    {
     "data": {
      "image/png": "[encoded data removed]",
      "text/plain": [
       "<Figure size 640x480 with 2 Axes>"
      ]
     },
     "metadata": {},
     "output_type": "display_data"
    }
   ],
   "source": [
    "import matplotlib.pyplot as plt\n",
    "\n",
    "fig=plt.figure()\n",
    "\n",
    "ax1=fig.add_subplot(111)\n",
    "ax2=ax1.twinx()\n",
    "\n",
    "ax1.bar(df['일시'], df['기온(°C)'], color='pink')\n",
    "ax2.plot(df['일시'], df['습도(%)'], color='blue')\n",
    "\n",
    "ax1.set_xticks(mylist)\n",
    "ax1.set_xticklabels(df['일시'][mylist])  \n",
    "\n",
    "ax1.legend(['기온'])\n",
    "ax2.legend(['습도'], loc='lower right')\n",
    "\n",
    "ax1.set_xlabel('일시')\n",
    "ax1.set_ylabel('기온')\n",
    "ax2.set_ylabel('습도')\n",
    "\n",
    "plt.show()"
   ]
  }
 ],
 "metadata": {
  "kernelspec": {
   "display_name": "pythonlecture",
   "language": "python",
   "name": "python3"
  },
  "language_info": {
   "codemirror_mode": {
    "name": "ipython",
    "version": 3
   },
   "file_extension": ".py",
   "mimetype": "text/x-python",
   "name": "python",
   "nbconvert_exporter": "python",
   "pygments_lexer": "ipython3",
   "version": "3.7.0"
  }
 },
 "nbformat": 4,
 "nbformat_minor": 2
}
