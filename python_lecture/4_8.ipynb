{
 "cells": [
  {
   "cell_type": "markdown",
   "metadata": {},
   "source": [
    "#### 함수"
   ]
  },
  {
   "cell_type": "code",
   "execution_count": 10,
   "metadata": {},
   "outputs": [
    {
     "name": "stdout",
     "output_type": "stream",
     "text": [
      "3628800\n"
     ]
    }
   ],
   "source": [
    "def factorial():\n",
    "    fact=1\n",
    "    for i in range(10):\n",
    "        fact*=(i+1)\n",
    "    print(fact)\n",
    "\n",
    "\n",
    "factorial()"
   ]
  },
  {
   "cell_type": "code",
   "execution_count": 20,
   "metadata": {},
   "outputs": [
    {
     "name": "stdout",
     "output_type": "stream",
     "text": [
      "1+2= 3\n",
      "1-2= -1\n",
      "1*2= 2\n",
      "1/2= 0.5\n"
     ]
    }
   ],
   "source": [
    "def plus():\n",
    "    global a\n",
    "    global b\n",
    "    print(f\"{a}+{b}= {a+b}\")\n",
    "\n",
    "def diff():\n",
    "    global a\n",
    "    global b\n",
    "    print(f\"{a}-{b}= {a-b}\")\n",
    "\n",
    "def multi():\n",
    "    global a\n",
    "    global b\n",
    "    print(f\"{a}*{b}= {a*b}\")\n",
    "\n",
    "def div():\n",
    "    global a\n",
    "    global b\n",
    "    print(f\"{a}/{b}= {a/b}\")\n",
    "\n",
    "a=int(input())\n",
    "b=int(input())\n",
    "\n",
    "plus()\n",
    "diff()\n",
    "multi()\n",
    "div()\n"
   ]
  },
  {
   "cell_type": "code",
   "execution_count": 23,
   "metadata": {},
   "outputs": [
    {
     "name": "stdout",
     "output_type": "stream",
     "text": [
      "1+2= 3\n",
      "1-2= -1\n",
      "1*2= 2\n",
      "1/2= 0.5\n"
     ]
    }
   ],
   "source": [
    "def plus(a, b):\n",
    "    return a+b\n",
    "def diff(a, b):\n",
    "    return a-b\n",
    "def multi(a, b):\n",
    "    return a*b\n",
    "def div(a, b):\n",
    "    return a/b\n",
    "\n",
    "a=int(input())\n",
    "b=int(input())\n",
    "\n",
    "print(f\"{a}+{b}=\", plus(a, b))\n",
    "print(f\"{a}-{b}=\",diff(a, b))\n",
    "print(f\"{a}*{b}=\",multi(a, b))\n",
    "print(f\"{a}/{b}=\",div(a, b))"
   ]
  },
  {
   "cell_type": "markdown",
   "metadata": {},
   "source": [
    "주의할 점"
   ]
  },
  {
   "cell_type": "code",
   "execution_count": 26,
   "metadata": {},
   "outputs": [
    {
     "name": "stdout",
     "output_type": "stream",
     "text": [
      "2\n",
      "2\n"
     ]
    }
   ],
   "source": [
    "def asss():\n",
    "    a=1\n",
    "a=2\n",
    "print(a)\n",
    "asss()\n",
    "print(a)"
   ]
  },
  {
   "cell_type": "code",
   "execution_count": null,
   "metadata": {},
   "outputs": [],
   "source": []
  },
  {
   "cell_type": "code",
   "execution_count": null,
   "metadata": {},
   "outputs": [],
   "source": []
  },
  {
   "cell_type": "code",
   "execution_count": null,
   "metadata": {},
   "outputs": [],
   "source": []
  },
  {
   "cell_type": "code",
   "execution_count": null,
   "metadata": {},
   "outputs": [],
   "source": []
  },
  {
   "cell_type": "code",
   "execution_count": null,
   "metadata": {},
   "outputs": [],
   "source": []
  },
  {
   "cell_type": "code",
   "execution_count": null,
   "metadata": {},
   "outputs": [],
   "source": []
  },
  {
   "cell_type": "code",
   "execution_count": null,
   "metadata": {},
   "outputs": [],
   "source": []
  },
  {
   "cell_type": "code",
   "execution_count": null,
   "metadata": {},
   "outputs": [],
   "source": []
  },
  {
   "cell_type": "code",
   "execution_count": null,
   "metadata": {},
   "outputs": [],
   "source": []
  },
  {
   "cell_type": "code",
   "execution_count": null,
   "metadata": {},
   "outputs": [],
   "source": []
  },
  {
   "cell_type": "code",
   "execution_count": 58,
   "metadata": {},
   "outputs": [
    {
     "data": {
      "text/plain": [
       "720"
      ]
     },
     "execution_count": 58,
     "metadata": {},
     "output_type": "execute_result"
    }
   ],
   "source": [
    "def factorial(num):\n",
    "    if num >1:\n",
    "        return num*factorial(num-1)\n",
    "    else:\n",
    "        return 1\n",
    "    \n",
    "factorial(6)"
   ]
  },
  {
   "cell_type": "markdown",
   "metadata": {},
   "source": [
    "#### 퀴즈"
   ]
  },
  {
   "cell_type": "code",
   "execution_count": 35,
   "metadata": {},
   "outputs": [],
   "source": [
    "def pivonachi(num):\n",
    "    if num>2:\n",
    "        return pivonachi(num-1)+pivonachi(num-2)\n",
    "    else:\n",
    "        return 1"
   ]
  },
  {
   "cell_type": "code",
   "execution_count": 52,
   "metadata": {},
   "outputs": [
    {
     "name": "stdout",
     "output_type": "stream",
     "text": [
      "입력:10\n",
      "1 1 2 3 5 8 13 21 34 55 "
     ]
    }
   ],
   "source": [
    "num=int(input(\"1부터\"))\n",
    "\n",
    "print(f\"입력:{num}\")\n",
    "for i in range(1, num+1):\n",
    "    print(pivonachi(i), end=' ')"
   ]
  },
  {
   "cell_type": "code",
   "execution_count": null,
   "metadata": {},
   "outputs": [],
   "source": []
  }
 ],
 "metadata": {
  "kernelspec": {
   "display_name": "pythonlecture",
   "language": "python",
   "name": "python3"
  },
  "language_info": {
   "codemirror_mode": {
    "name": "ipython",
    "version": 3
   },
   "file_extension": ".py",
   "mimetype": "text/x-python",
   "name": "python",
   "nbconvert_exporter": "python",
   "pygments_lexer": "ipython3",
   "version": "3.7.12"
  }
 },
 "nbformat": 4,
 "nbformat_minor": 2
}
