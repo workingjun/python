{
 "cells": [
  {
   "cell_type": "code",
   "execution_count": 2,
   "metadata": {},
   "outputs": [],
   "source": [
    "from tkinter import *\n",
    "from tkinter.filedialog import *\n",
    "\n",
    "win=Tk()\n",
    "win.geometry(\"400x100\")\n",
    "\n",
    "lable1=Label(win, text=\"선택된 파일 이름\")\n",
    "lable1.pack()\n",
    "\n",
    "filename=askopenfilename(parent=win, \n",
    "                         filetypes=((\"GIF 파일\", \"*.gif\"), (\"모든 파일\", \"*.*\")), \n",
    "                         initialdir=\"./pic\")\n",
    "\n",
    "lable1.configure(text=str(filename))\n",
    "win.mainloop()"
   ]
  },
  {
   "cell_type": "code",
   "execution_count": 17,
   "metadata": {},
   "outputs": [],
   "source": []
  },
  {
   "cell_type": "code",
   "execution_count": null,
   "metadata": {},
   "outputs": [],
   "source": []
  },
  {
   "cell_type": "code",
   "execution_count": null,
   "metadata": {},
   "outputs": [],
   "source": []
  },
  {
   "cell_type": "code",
   "execution_count": 8,
   "metadata": {},
   "outputs": [],
   "source": [
    "from tkinter import *\n",
    "\n",
    "win=Tk()\n",
    "pic=PhotoImage(file=\"pic/dog.gif\", master=win)\n",
    "\n",
    "lbl=Label(win, image=pic)\n",
    "lbl.pack()\n",
    "\n",
    "win.mainloop()"
   ]
  },
  {
   "cell_type": "code",
   "execution_count": null,
   "metadata": {},
   "outputs": [],
   "source": []
  },
  {
   "cell_type": "code",
   "execution_count": 9,
   "metadata": {},
   "outputs": [],
   "source": [
    "from tkinter import *\n",
    "\n",
    "win = Tk()\n",
    "win.geometry(\"200x100\")\n",
    "\n",
    "input_text = Entry(win, width=30)\n",
    "input_text.pack()\n",
    "\n",
    "win.mainloop()"
   ]
  },
  {
   "cell_type": "code",
   "execution_count": null,
   "metadata": {},
   "outputs": [],
   "source": []
  },
  {
   "cell_type": "code",
   "execution_count": 11,
   "metadata": {},
   "outputs": [],
   "source": [
    "from tkinter import *\n",
    "\n",
    "def quit():\n",
    "    pass\n",
    "\n",
    "win = Tk()\n",
    "win.geometry(\"200x100\")\n",
    "\n",
    "button1 = Button(win, text=\"프로그램 종료\", fg=\"red\", command=quit)\n",
    "button1.pack()\n",
    "\n",
    "win.mainloop()"
   ]
  },
  {
   "cell_type": "code",
   "execution_count": null,
   "metadata": {},
   "outputs": [],
   "source": []
  },
  {
   "cell_type": "code",
   "execution_count": 17,
   "metadata": {},
   "outputs": [],
   "source": [
    "from tkinter import *\n",
    "import tkinter.messagebox as msg\n",
    "\n",
    "def dog_func():\n",
    "    msg.showinfo(\"강아지 버튼\", \"강아지가 귀엽죠?\")\n",
    "\n",
    "win = Tk()\n",
    "win.geometry(\"400x300\")\n",
    "\n",
    "pic=PhotoImage(file=\"pic/dog.gif\", master=win)\n",
    "button1 = Button(win, image=pic, command=dog_func)\n",
    "button1.pack()\n",
    "\n",
    "win.mainloop()"
   ]
  },
  {
   "cell_type": "code",
   "execution_count": null,
   "metadata": {},
   "outputs": [],
   "source": []
  },
  {
   "cell_type": "code",
   "execution_count": 19,
   "metadata": {},
   "outputs": [],
   "source": [
    "from tkinter import *\n",
    "import tkinter.messagebox as msg\n",
    "\n",
    "def gettext():\n",
    "    result = input_text.get()\n",
    "    msg.showinfo(\"텍스트\", result)\n",
    "\n",
    "win = Tk()\n",
    "win.geometry(\"400x300\")\n",
    "\n",
    "input_text = Entry(win, width=30)\n",
    "button1=Button(win, command= gettext)\n",
    "input_text.pack()\n",
    "button1.pack()\n",
    "win.mainloop()"
   ]
  },
  {
   "cell_type": "code",
   "execution_count": null,
   "metadata": {},
   "outputs": [],
   "source": []
  },
  {
   "cell_type": "code",
   "execution_count": 21,
   "metadata": {},
   "outputs": [],
   "source": [
    "from tkinter import *\n",
    "import tkinter.messagebox as msg\n",
    "\n",
    "def gettext():\n",
    "    if chk.get()==0:\n",
    "        msg.showinfo(\"텍스트\", \"\")\n",
    "    else:\n",
    "        msg.showinfo(\"텍스트\", \"\")\n",
    "\n",
    "win = Tk()\n",
    "win.geometry(\"400x300\")\n",
    "\n",
    "chk=IntVar()\n",
    "cb1=Checkbutton(win, text=\"클릭\", variable=chk, command=gettext)\n",
    "cb1.pack()\n",
    "\n",
    "win.mainloop()"
   ]
  },
  {
   "cell_type": "code",
   "execution_count": null,
   "metadata": {},
   "outputs": [],
   "source": []
  },
  {
   "cell_type": "code",
   "execution_count": 25,
   "metadata": {},
   "outputs": [],
   "source": [
    "from tkinter import *\n",
    "import tkinter.messagebox as msg\n",
    "\n",
    "def gettext():\n",
    "    if var.get()==1:\n",
    "        lbl.configure(text=\"1\")\n",
    "    elif var.get()==2:\n",
    "        lbl.configure(text=\"2\")\n",
    "    elif var.get()==3:\n",
    "        lbl.configure(text=\"3\")\n",
    "\n",
    "win = Tk()\n",
    "win.geometry(\"400x300\")\n",
    "\n",
    "var=IntVar()\n",
    "cb1=Radiobutton(win, text=\"클릭1\", variable=var, value=1, command=gettext)\n",
    "cb2=Radiobutton(win, text=\"클릭2\", variable=var, value=2, command=gettext)\n",
    "cb3=Radiobutton(win, text=\"클릭3\", variable=var, value=3, command=gettext)\n",
    "\n",
    "lbl=Label(win, text=\"선택\")\n",
    "lbl.pack()\n",
    "\n",
    "cb1.pack()\n",
    "cb2.pack()\n",
    "cb3.pack()\n",
    "\n",
    "win.mainloop()"
   ]
  },
  {
   "cell_type": "code",
   "execution_count": null,
   "metadata": {},
   "outputs": [],
   "source": []
  },
  {
   "cell_type": "code",
   "execution_count": 26,
   "metadata": {},
   "outputs": [],
   "source": [
    "win = Tk()\n",
    "win.geometry(\"200x100\")\n",
    "\n",
    "\n",
    "def msgbox():\n",
    "    if input_text.get()=='apple':\n",
    "        msg.showinfo(\"텍스트\", \"비밀번호가 일치합니다.\")\n",
    "    else:\n",
    "        msg.showinfo(\"텍스트\", \"비밀번호가 일치하지 않습니다.\")\n",
    "\n",
    "input_text = Entry(win, width=30)\n",
    "btt=Button(win, text=\"read\", command=msgbox)\n",
    "\n",
    "input_text.pack()\n",
    "btt.pack()\n",
    "\n",
    "win.mainloop()"
   ]
  },
  {
   "cell_type": "code",
   "execution_count": null,
   "metadata": {},
   "outputs": [],
   "source": []
  },
  {
   "cell_type": "code",
   "execution_count": 5,
   "metadata": {},
   "outputs": [],
   "source": [
    "from tkinter import *\n",
    "import tkinter.messagebox as msg\n",
    "\n",
    "fnameList=[\"pic1.gif\", \"pic2.gif\", \"pic3.gif\", \"pic4.gif\", \"pic5.gif\", \"pic7.gif\"]\n",
    "photoList=[None]*7\n",
    "num=0\n",
    "\n",
    "def clicknext():\n",
    "    global num\n",
    "    num+=1\n",
    "    if num>8:\n",
    "        num=0\n",
    "    photo =PhotoImage(file=\"pic/\"+ fnameList[num])\n",
    "\n",
    "    plable.configure(image=photo)\n",
    "    plable.image=photo\n",
    "\n",
    "def clickPrev():\n",
    "    global num\n",
    "    num-=1\n",
    "    if num<0:\n",
    "        num=8\n",
    "    photo =PhotoImage(file=\"pic/\"+ fnameList[num])\n",
    "\n",
    "    plable.configure(image=photo)\n",
    "    plable.image=photo\n",
    "\n",
    "win=Tk()\n",
    "win.geometry(\"1000x1200\")\n",
    "\n",
    "btnPrev=Button(win, text=\"이전\", command=clickPrev)\n",
    "btnnext=Button(win, text=\"다음\", command=clicknext)\n",
    "\n",
    "photo =PhotoImage(file=\"pic/\"+fnameList[0], master=win)\n",
    "plable=Label(win, image=photo)\n",
    "\n",
    "\n",
    "btnPrev.pack()\n",
    "btnnext.pack()\n",
    "plable.pack()\n",
    "\n",
    "win.mainloop()"
   ]
  },
  {
   "cell_type": "code",
   "execution_count": null,
   "metadata": {},
   "outputs": [],
   "source": []
  },
  {
   "cell_type": "code",
   "execution_count": 22,
   "metadata": {},
   "outputs": [],
   "source": [
    "def clickMouse(event):\n",
    "    txt=\"\"\n",
    "    if event.num==1:\n",
    "        txt+=\"왼쪽\"\n",
    "    elif event.num==3:\n",
    "        txt+=\"오른쪽\"\n",
    "    \n",
    "    txt+=\"(\"+str(event.x)+'.'+str(event.x)+\")\"\n",
    "    lbl.configure(text=txt)\n",
    "\n",
    "win=Tk()\n",
    "win.geometry('300x200')\n",
    "\n",
    "lbl=Label(win, text=\"이 곳이 바뀜\")\n",
    "lbl.pack()\n",
    "\n",
    "win.bind(\"<Button>\", clickMouse)\n",
    "win.mainloop()"
   ]
  },
  {
   "cell_type": "code",
   "execution_count": 23,
   "metadata": {},
   "outputs": [],
   "source": [
    "def click(event):\n",
    "    msg.showinfo(\"키보드\", \"눌린 키\" + chr(event.keycode))\n",
    "\n",
    "win=Tk()\n",
    "win.geometry('300x200')\n",
    "\n",
    "win.bind(\"<Key>\", click)\n",
    "win.mainloop()"
   ]
  },
  {
   "cell_type": "code",
   "execution_count": null,
   "metadata": {},
   "outputs": [],
   "source": []
  },
  {
   "cell_type": "code",
   "execution_count": 26,
   "metadata": {},
   "outputs": [],
   "source": [
    "from tkinter import *\n",
    "from tkinter.filedialog import *\n",
    "import tkinter.messagebox as msg\n",
    "\n",
    "def func_open():\n",
    "    msg.showinfo(\"메뉴\", \"dufrl\")\n",
    "    \n",
    "    \n",
    "def func_exit():\n",
    "    win.quit()\n",
    "    win.destroy()\n",
    "\n",
    "win=Tk()\n",
    "win.geometry(\"800x600\")\n",
    "\n",
    "lbl=Label(win)\n",
    "lbl.pack()\n",
    "\n",
    "\n",
    "mainmenu=Menu(win)\n",
    "win.config(menu=mainmenu)\n",
    "\n",
    "filemenu=Menu(mainmenu)\n",
    "mainmenu.add_cascade(label=\"파일\", menu=filemenu)\n",
    "filemenu.add_command(label='열기', command=func_open)\n",
    "filemenu.add_separator()\n",
    "filemenu.add_command(label='종료', command=func_exit)\n",
    "\n",
    "win.mainloop()"
   ]
  },
  {
   "cell_type": "code",
   "execution_count": null,
   "metadata": {},
   "outputs": [],
   "source": []
  },
  {
   "cell_type": "code",
   "execution_count": 27,
   "metadata": {},
   "outputs": [],
   "source": [
    "from tkinter.simpledialog import *\n",
    "\n",
    "win=Tk()\n",
    "\n",
    "lbl=Label(win)\n",
    "lbl.pack()\n",
    "\n",
    "value=askinteger(\"확대 배수\", \"주사ㅜ이 숫자\", minvalue=1, maxvalue=6)\n",
    "\n",
    "lbl.configure(text=str(value))\n",
    "win.mainloop()\n"
   ]
  },
  {
   "cell_type": "code",
   "execution_count": null,
   "metadata": {},
   "outputs": [],
   "source": []
  },
  {
   "cell_type": "code",
   "execution_count": null,
   "metadata": {},
   "outputs": [],
   "source": []
  },
  {
   "cell_type": "code",
   "execution_count": null,
   "metadata": {},
   "outputs": [],
   "source": []
  },
  {
   "cell_type": "code",
   "execution_count": 30,
   "metadata": {},
   "outputs": [],
   "source": [
    "from tkinter import *\n",
    "from tkinter.filedialog import *\n",
    "import tkinter.messagebox as msg\n",
    "\n",
    "def func_open():\n",
    "    filename = askopenfilename(parent=win, \n",
    "                            filetypes=((\"GIF 파일\", \"*.gif\"), (\"모든 파일\", \"*.*\")), \n",
    "                            initialdir=\"./pic\")\n",
    "    \n",
    "    photo =PhotoImage(file=filename)\n",
    "\n",
    "    lbl.configure(image=photo)\n",
    "    lbl.image=photo\n",
    "    \n",
    "def func_exit():\n",
    "    win.quit()\n",
    "    win.destroy()\n",
    "\n",
    "win=Tk()\n",
    "win.geometry(\"800x600\")\n",
    "\n",
    "lbl=Label(win)\n",
    "lbl.pack()\n",
    "\n",
    "\n",
    "mainmenu=Menu(win)\n",
    "win.config(menu=mainmenu)\n",
    "\n",
    "filemenu=Menu(mainmenu)\n",
    "mainmenu.add_cascade(label=\"파일\", menu=filemenu)\n",
    "filemenu.add_command(label='열기', command=func_open)\n",
    "filemenu.add_separator()\n",
    "filemenu.add_command(label='종료', command=func_exit)\n",
    "\n",
    "win.mainloop()\n"
   ]
  },
  {
   "cell_type": "code",
   "execution_count": null,
   "metadata": {},
   "outputs": [],
   "source": []
  },
  {
   "cell_type": "code",
   "execution_count": null,
   "metadata": {},
   "outputs": [],
   "source": []
  },
  {
   "cell_type": "code",
   "execution_count": null,
   "metadata": {},
   "outputs": [],
   "source": []
  }
 ],
 "metadata": {
  "kernelspec": {
   "display_name": "Python 3",
   "language": "python",
   "name": "python3"
  },
  "language_info": {
   "codemirror_mode": {
    "name": "ipython",
    "version": 3
   },
   "file_extension": ".py",
   "mimetype": "text/x-python",
   "name": "python",
   "nbconvert_exporter": "python",
   "pygments_lexer": "ipython3",
   "version": "3.7.0"
  }
 },
 "nbformat": 4,
 "nbformat_minor": 2
}
