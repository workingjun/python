{
 "cells": [
  {
   "cell_type": "code",
   "execution_count": 17,
   "metadata": {},
   "outputs": [
    {
     "name": "stdout",
     "output_type": "stream",
     "text": [
      "안녕하세요\n",
      "\n"
     ]
    }
   ],
   "source": [
    "instr = ''\n",
    "\n",
    "f = open(\"data.txt\", \"r\", encoding='utf-8')\n",
    "\n",
    "instr = f.readline()\n",
    "print(instr)\n",
    "\n",
    "f.close()"
   ]
  },
  {
   "cell_type": "code",
   "execution_count": 13,
   "metadata": {},
   "outputs": [
    {
     "name": "stdout",
     "output_type": "stream",
     "text": [
      "안녕하세요\n",
      "\n",
      "파이썬 프로그래밍입니다"
     ]
    }
   ],
   "source": [
    "\n",
    "instr = ''\n",
    "\n",
    "f = open(\"data.txt\", \"r\", encoding='utf-8')\n",
    "\n",
    "while 1:\n",
    "    instr = f.readline()\n",
    "    if instr=='':\n",
    "        break\n",
    "    print(instr, end='')\n",
    "\n",
    "f.close()"
   ]
  },
  {
   "cell_type": "code",
   "execution_count": 16,
   "metadata": {},
   "outputs": [
    {
     "name": "stdout",
     "output_type": "stream",
     "text": [
      "안녕하세요\n",
      "\n",
      "\n",
      "\n",
      "파이썬 프로그래밍입니다\n"
     ]
    }
   ],
   "source": [
    "instr = ''\n",
    "\n",
    "f = open(\"data.txt\", \"r\", encoding='utf-8')\n",
    "\n",
    "instr = f.readlines()\n",
    "\n",
    "for str1 in instr:\n",
    "    print(str1)\n",
    "\n",
    "f.close()"
   ]
  },
  {
   "cell_type": "code",
   "execution_count": 18,
   "metadata": {},
   "outputs": [
    {
     "ename": "FileNotFoundError",
     "evalue": "[Errno 2] No such file or directory: 'abs.txt'",
     "output_type": "error",
     "traceback": [
      "\u001b[1;31m---------------------------------------------------------------------------\u001b[0m",
      "\u001b[1;31mFileNotFoundError\u001b[0m                         Traceback (most recent call last)",
      "\u001b[1;32m~\\AppData\\Local\\Temp\\ipykernel_11480\\3151434121.py\u001b[0m in \u001b[0;36m<module>\u001b[1;34m\u001b[0m\n\u001b[0;32m      1\u001b[0m \u001b[0minstr\u001b[0m \u001b[1;33m=\u001b[0m \u001b[1;34m''\u001b[0m\u001b[1;33m\u001b[0m\u001b[0m\n\u001b[0;32m      2\u001b[0m \u001b[1;33m\u001b[0m\u001b[0m\n\u001b[1;32m----> 3\u001b[1;33m \u001b[0mf\u001b[0m \u001b[1;33m=\u001b[0m \u001b[0mopen\u001b[0m\u001b[1;33m(\u001b[0m\u001b[1;34m\"abs.txt\"\u001b[0m\u001b[1;33m,\u001b[0m \u001b[1;34m\"r\"\u001b[0m\u001b[1;33m,\u001b[0m \u001b[0mencoding\u001b[0m\u001b[1;33m=\u001b[0m\u001b[1;34m'utf-8'\u001b[0m\u001b[1;33m)\u001b[0m\u001b[1;33m\u001b[0m\u001b[0m\n\u001b[0m\u001b[0;32m      4\u001b[0m \u001b[1;33m\u001b[0m\u001b[0m\n\u001b[0;32m      5\u001b[0m \u001b[0minstr\u001b[0m \u001b[1;33m=\u001b[0m \u001b[0mf\u001b[0m\u001b[1;33m.\u001b[0m\u001b[0mreadlines\u001b[0m\u001b[1;33m(\u001b[0m\u001b[1;33m)\u001b[0m\u001b[1;33m\u001b[0m\u001b[0m\n",
      "\u001b[1;31mFileNotFoundError\u001b[0m: [Errno 2] No such file or directory: 'abs.txt'"
     ]
    }
   ],
   "source": [
    "instr = ''\n",
    "\n",
    "f = open(\"abs.txt\", \"r\", encoding='utf-8')\n",
    "\n",
    "f.close() ##경로 확인 파일명 확인 "
   ]
  },
  {
   "cell_type": "code",
   "execution_count": 20,
   "metadata": {},
   "outputs": [
    {
     "name": "stdout",
     "output_type": "stream",
     "text": [
      "True\n",
      "False\n"
     ]
    }
   ],
   "source": [
    "import os\n",
    "\n",
    "print(os.path.exists(\"data.txt\"))\n",
    "print(os.path.exists(\"abs.txt\"))"
   ]
  },
  {
   "cell_type": "code",
   "execution_count": 24,
   "metadata": {},
   "outputs": [
    {
     "name": "stdout",
     "output_type": "stream",
     "text": [
      "입력하세요:김준희입니다\n",
      "입력하세요:\n"
     ]
    }
   ],
   "source": [
    "instr = ''\n",
    "\n",
    "f = open(\"data1.txt\", \"w\", encoding='utf-8')\n",
    "\n",
    "while 1:\n",
    "    print(\"입력하세요:\", end='')\n",
    "    outstr = input()\n",
    "    print(outstr)\n",
    "\n",
    "    if outstr != \"\":\n",
    "        f.writelines(outstr + \"\\n\")\n",
    "    else:\n",
    "        break\n",
    "\n",
    "f.close()"
   ]
  },
  {
   "cell_type": "code",
   "execution_count": null,
   "metadata": {},
   "outputs": [],
   "source": [
    "fname, inlist, instr = '', [], ''\n",
    "\n",
    "fname=input()\n",
    "\n",
    "f = open(f\"{fname}.txt\", \"w\", encoding='utf-8')\n",
    "\n",
    "while 1:\n",
    "    print(\"입력하세요:\", end='')\n",
    "    outstr = input()\n",
    "    print(outstr)\n",
    "\n",
    "    if outstr != \"\":\n",
    "        f.writelines(outstr + \"\\n\")\n",
    "    else:\n",
    "        break\n",
    "\n",
    "f.close()"
   ]
  },
  {
   "cell_type": "code",
   "execution_count": 25,
   "metadata": {},
   "outputs": [
    {
     "data": {
      "text/plain": [
       "'d:\\\\python_project\\\\python_lecture'"
      ]
     },
     "execution_count": 25,
     "metadata": {},
     "output_type": "execute_result"
    }
   ],
   "source": [
    "import os\n",
    "\n",
    "os.getcwd()"
   ]
  },
  {
   "cell_type": "code",
   "execution_count": 26,
   "metadata": {},
   "outputs": [
    {
     "data": {
      "text/plain": [
       "'./data_copy.txt'"
      ]
     },
     "execution_count": 26,
     "metadata": {},
     "output_type": "execute_result"
    }
   ],
   "source": [
    "import shutil\n",
    "\n",
    "shutil.copy(\"./data.txt\", \"./data_copy.txt\")"
   ]
  },
  {
   "cell_type": "code",
   "execution_count": 27,
   "metadata": {},
   "outputs": [],
   "source": [
    "os.mkdir(\"./myDir\")"
   ]
  },
  {
   "cell_type": "code",
   "execution_count": 28,
   "metadata": {},
   "outputs": [],
   "source": [
    "shutil.rmtree(\"./myDir\")"
   ]
  },
  {
   "cell_type": "code",
   "execution_count": 37,
   "metadata": {},
   "outputs": [],
   "source": [
    "from tkinter import *\n",
    "\n",
    "def save():\n",
    "    instr = entry.get()\n",
    "\n",
    "    f = open(\"data4.txt\", \"w\", encoding='utf-8')\n",
    "\n",
    "    f.writelines(instr + \"\\n\")\n",
    "\n",
    "    print(\"저장됨\")\n",
    "\n",
    "    f.close()\n",
    "    \n",
    "win = Tk()\n",
    "win.geometry(\"400x300\")\n",
    "\n",
    "entry=Entry(win)\n",
    "entry.pack()\n",
    "\n",
    "btt=Button(win, text=\"저장\", command=save)\n",
    "btt.pack()\n",
    "\n",
    "win.mainloop()"
   ]
  },
  {
   "cell_type": "code",
   "execution_count": 38,
   "metadata": {},
   "outputs": [
    {
     "name": "stdout",
     "output_type": "stream",
     "text": [
      "Requirement already satisfied: pyinstaller in c:\\users\\kimju\\anaconda3\\lib\\site-packages (6.6.0)\n",
      "Requirement already satisfied: setuptools>=42.0.0 in c:\\users\\kimju\\anaconda3\\lib\\site-packages (from pyinstaller) (68.2.2)\n",
      "Requirement already satisfied: altgraph in c:\\users\\kimju\\anaconda3\\lib\\site-packages (from pyinstaller) (0.17.4)\n",
      "Requirement already satisfied: pyinstaller-hooks-contrib>=2024.3 in c:\\users\\kimju\\anaconda3\\lib\\site-packages (from pyinstaller) (2024.6)\n",
      "Requirement already satisfied: packaging>=22.0 in c:\\users\\kimju\\anaconda3\\lib\\site-packages (from pyinstaller) (23.1)\n",
      "Requirement already satisfied: pefile>=2022.5.30 in c:\\users\\kimju\\anaconda3\\lib\\site-packages (from pyinstaller) (2023.2.7)\n",
      "Requirement already satisfied: pywin32-ctypes>=0.2.1 in c:\\users\\kimju\\anaconda3\\lib\\site-packages (from pyinstaller) (0.2.2)\n"
     ]
    }
   ],
   "source": []
  }
 ],
 "metadata": {
  "kernelspec": {
   "display_name": "Python 3",
   "language": "python",
   "name": "python3"
  },
  "language_info": {
   "codemirror_mode": {
    "name": "ipython",
    "version": 3
   },
   "file_extension": ".py",
   "mimetype": "text/x-python",
   "name": "python",
   "nbconvert_exporter": "python",
   "pygments_lexer": "ipython3",
   "version": "3.7.0"
  }
 },
 "nbformat": 4,
 "nbformat_minor": 2
}
