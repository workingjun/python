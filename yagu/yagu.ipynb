{
 "cells": [
  {
   "cell_type": "code",
   "execution_count": 1,
   "metadata": {},
   "outputs": [
    {
     "name": "stdout",
     "output_type": "stream",
     "text": [
      "==============================\n",
      "          1  2  3  4  5  6  7  8  9  10  \n",
      "승리 점수:\n",
      "패배 점수:\n",
      "승리 패배: \n",
      "==============================\n",
      "==============================\n",
      "          1  2  3  4  5  6  7  8  9  10  \n",
      "승리 점수:50 \n",
      "패배 점수:50 \n",
      "승리 패배: 1  \n",
      "==============================\n",
      "==============================\n",
      "          1  2  3  4  5  6  7  8  9  10  \n",
      "승리 점수:50 70 \n",
      "패배 점수:50 30 \n",
      "승리 패배: 1  1  \n",
      "==============================\n",
      "==============================\n",
      "          1  2  3  4  5  6  7  8  9  10  \n",
      "승리 점수:50 70 70 \n",
      "패배 점수:50 30 30 \n",
      "승리 패배: 1  1  1  \n",
      "==============================\n",
      "==============================\n",
      "          1  2  3  4  5  6  7  8  9  10  \n",
      "승리 점수:50 70 70 80 \n",
      "패배 점수:50 30 30 20 \n",
      "승리 패배: 1  1  1  1  \n",
      "==============================\n",
      "==============================\n",
      "          1  2  3  4  5  6  7  8  9  10  \n",
      "승리 점수:50 70 70 80 40 \n",
      "패배 점수:50 30 30 20 60 \n",
      "승리 패배: 1  1  1  1  0  \n",
      "==============================\n",
      "==============================\n",
      "          1  2  3  4  5  6  7  8  9  10  \n",
      "승리 점수:50 70 70 80 40 5 \n",
      "패배 점수:50 30 30 20 60 95 \n",
      "승리 패배: 1  1  1  1  0  0  \n",
      "==============================\n"
     ]
    },
    {
     "ename": "ValueError",
     "evalue": "invalid literal for int() with base 10: ''",
     "output_type": "error",
     "traceback": [
      "\u001b[1;31m---------------------------------------------------------------------------\u001b[0m",
      "\u001b[1;31mValueError\u001b[0m                                Traceback (most recent call last)",
      "\u001b[1;32m~\\AppData\\Local\\Temp\\ipykernel_5468\\3882568259.py\u001b[0m in \u001b[0;36m<module>\u001b[1;34m\u001b[0m\n\u001b[0;32m     34\u001b[0m     \u001b[0mprint_infor\u001b[0m\u001b[1;33m(\u001b[0m\u001b[0mwin_point\u001b[0m\u001b[1;33m,\u001b[0m \u001b[0mresult\u001b[0m\u001b[1;33m)\u001b[0m\u001b[1;33m\u001b[0m\u001b[1;33m\u001b[0m\u001b[0m\n\u001b[0;32m     35\u001b[0m \u001b[1;33m\u001b[0m\u001b[0m\n\u001b[1;32m---> 36\u001b[1;33m     \u001b[0mx_n\u001b[0m \u001b[1;33m=\u001b[0m \u001b[0mint\u001b[0m\u001b[1;33m(\u001b[0m\u001b[0minput\u001b[0m\u001b[1;33m(\u001b[0m\u001b[1;34m\"승리 점수 입력:\"\u001b[0m\u001b[1;33m)\u001b[0m\u001b[1;33m)\u001b[0m\u001b[1;33m\u001b[0m\u001b[1;33m\u001b[0m\u001b[0m\n\u001b[0m\u001b[0;32m     37\u001b[0m     \u001b[0mwin_point\u001b[0m\u001b[1;33m.\u001b[0m\u001b[0mappend\u001b[0m\u001b[1;33m(\u001b[0m\u001b[0mx_n\u001b[0m\u001b[1;33m)\u001b[0m\u001b[1;33m\u001b[0m\u001b[1;33m\u001b[0m\u001b[0m\n\u001b[0;32m     38\u001b[0m \u001b[1;33m\u001b[0m\u001b[0m\n",
      "\u001b[1;31mValueError\u001b[0m: invalid literal for int() with base 10: ''"
     ]
    }
   ],
   "source": [
    "i = 1\n",
    "win_num = 0\n",
    "\n",
    "win_point=[]\n",
    "result = []\n",
    "\n",
    "def print_infor(win_point, result):\n",
    "    print(\"=\"*30)\n",
    "    print(\" \"*10, end='')\n",
    "\n",
    "    for i in range(1, 11):\n",
    "        print(i, end='  ')\n",
    "    print()\n",
    "\n",
    "    print(\"승리 점수:\", end='')\n",
    "    for point in win_point:\n",
    "        print(point, end=' ')  \n",
    "    print() \n",
    "\n",
    "    print(\"패배 점수:\", end='')\n",
    "    for point in win_point:\n",
    "        print(100-point, end=' ')\n",
    "    print()\n",
    "\n",
    "    print(\"승리 패배:\", end=' ')\n",
    "    for point in result:\n",
    "        print(point, end='  ') \n",
    "    print() \n",
    "\n",
    "    print(\"=\"*30)\n",
    "\n",
    "\n",
    "while i <= 20:\n",
    "    print_infor(win_point, result)\n",
    "\n",
    "    x_n = int(input(\"승리 점수 입력:\"))\n",
    "    win_point.append(x_n)\n",
    "    \n",
    "    y_n = int(input(\"승리 패배 여부 입력:\"))\n",
    "    result.append(y_n)\n",
    "\n",
    "    if y_n == 1:\n",
    "        win_num += 1 \n",
    "\n",
    "    C = 0.6 * win_num + 0.4 * (i - win_num)\n",
    "    c1 = 0.6 / C \n",
    "    c2 = 0.4 / C\n",
    "\n",
    "    sum = 0\n",
    "\n",
    "    if y_n == 1:\n",
    "        sum += x_n * c1\n",
    "    else:\n",
    "        sum += (100-x_n) * c2\n",
    "\n",
    "    i += 1\n",
    "\n",
    "print_infor(win_point, result)"
   ]
  },
  {
   "cell_type": "code",
   "execution_count": 2,
   "metadata": {},
   "outputs": [
    {
     "data": {
      "text/plain": [
       "11.875"
      ]
     },
     "execution_count": 2,
     "metadata": {},
     "output_type": "execute_result"
    }
   ],
   "source": [
    "sum"
   ]
  },
  {
   "cell_type": "code",
   "execution_count": null,
   "metadata": {},
   "outputs": [],
   "source": [
    "<!DOCTYPE html>\n",
    "<html lang=\"ko\">\n",
    "<head>\n",
    "    <meta charset=\"UTF-8\">\n",
    "    <title>승리 점수 계산기</title>\n",
    "</head>\n",
    "<body>\n",
    "    <h1>승리 점수 계산기</h1>\n",
    "    <pre>{{ info }}</pre>\n",
    "    <form method=\"post\">\n",
    "        <label for=\"win_point\">승리 점수 입력:</label>\n",
    "        <input type=\"text\" id=\"win_point\" name=\"win_point\"><br>\n",
    "        <label for=\"result\">1: 승리, 0: 패배:</label>\n",
    "        <input type=\"text\" id=\"result\" name=\"result\"><br>\n",
    "        <input type=\"submit\" value=\"제출\">\n",
    "    </form>\n",
    "    <a href=\"/result\">결과 보기</a>\n",
    "</body>\n",
    "</html>"
   ]
  }
 ],
 "metadata": {
  "kernelspec": {
   "display_name": "base2",
   "language": "python",
   "name": "python3"
  },
  "language_info": {
   "codemirror_mode": {
    "name": "ipython",
    "version": 3
   },
   "file_extension": ".py",
   "mimetype": "text/x-python",
   "name": "python",
   "nbconvert_exporter": "python",
   "pygments_lexer": "ipython3",
   "version": "3.7.12"
  }
 },
 "nbformat": 4,
 "nbformat_minor": 2
}
