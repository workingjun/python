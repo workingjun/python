{
 "cells": [
  {
   "cell_type": "markdown",
   "metadata": {},
   "source": [
    "## 3월 11일\n",
    "\n",
    "### 월요일 1교시\n",
    "  "
   ]
  },
  {
   "cell_type": "markdown",
   "metadata": {},
   "source": [
    "### bool 자료형\n",
    "1. Ture Fals \n",
    "2. 0 외에 모든 숫자는 Ture \n",
    "3. 빈공간 \"\" None [] ->> False "
   ]
  },
  {
   "cell_type": "markdown",
   "metadata": {},
   "source": [
    "### 논리연산자 \n",
    "1. and \n",
    "2. or \n",
    "3. not "
   ]
  },
  {
   "cell_type": "markdown",
   "metadata": {},
   "source": [
    "### 조건문\n",
    "1. 순차구조 선택구조 반복구조"
   ]
  },
  {
   "cell_type": "code",
   "execution_count": 1,
   "metadata": {},
   "outputs": [
    {
     "name": "stdout",
     "output_type": "stream",
     "text": [
      "a는 3보다 크다\n",
      "a는 8\n"
     ]
    }
   ],
   "source": [
    "a=5\n",
    "\n",
    "if a>3:\n",
    "    print(\"a는 3보다 크다\")\n",
    "    a+=3\n",
    "    print(\"a는 {}\".format(a))"
   ]
  },
  {
   "cell_type": "code",
   "execution_count": 5,
   "metadata": {},
   "outputs": [
    {
     "name": "stdout",
     "output_type": "stream",
     "text": [
      "a는 3보다 크지 않다\n"
     ]
    }
   ],
   "source": [
    "a=2\n",
    "\n",
    "if a>3:\n",
    "    print(\"a는 3보다 크다\")\n",
    "    a+=3\n",
    "    print(\"a는 {}\".format(a))\n",
    "else:\n",
    "    print(\"a는 3보다 크지 않다\")"
   ]
  },
  {
   "cell_type": "markdown",
   "metadata": {},
   "source": [
    "### 다중 if문 \n",
    "1. if elif elif else"
   ]
  },
  {
   "cell_type": "code",
   "execution_count": 4,
   "metadata": {},
   "outputs": [
    {
     "name": "stdout",
     "output_type": "stream",
     "text": [
      "F\n"
     ]
    }
   ],
   "source": [
    "score=int(input(\"정수를 입력:\"))\n",
    "\n",
    "if score >= 90:\n",
    "    print(\"A\")\n",
    "elif score >=80:\n",
    "    print(\"B\") \n",
    "elif score >=70:\n",
    "    print(\"C\")\n",
    "elif score >=60:\n",
    "    print(\"D\")\n",
    "else:\n",
    "    print(\"F\")"
   ]
  },
  {
   "cell_type": "code",
   "execution_count": 7,
   "metadata": {},
   "outputs": [
    {
     "name": "stdout",
     "output_type": "stream",
     "text": [
      "D+\n"
     ]
    }
   ],
   "source": [
    "score=int(input(\"정수를 입력:\"))\n",
    "\n",
    "if score >= 90:\n",
    "    if score >=95:\n",
    "        print(\"A+\")\n",
    "    else:\n",
    "        print(\"A0\")\n",
    "elif score >=80:\n",
    "    if score >=85:\n",
    "        print(\"B+\")\n",
    "    else:\n",
    "        print(\"B0\")\n",
    "elif score >=70:\n",
    "    if score >=75:\n",
    "        print(\"C+\")\n",
    "    else:\n",
    "        print(\"C0\")\n",
    "elif score >=60:\n",
    "    if score >=65:\n",
    "        print(\"D+\")\n",
    "    else:\n",
    "        print(\"D0\")\n",
    "else:\n",
    "    print(\"F\")"
   ]
  },
  {
   "cell_type": "code",
   "execution_count": 8,
   "metadata": {},
   "outputs": [
    {
     "name": "stdout",
     "output_type": "stream",
     "text": [
      "성인 남성입니다\n"
     ]
    }
   ],
   "source": [
    "age=int(input(\"나이\"))\n",
    "gender=input(\"성별\")\n",
    "\n",
    "if age>=20 and gender==\"남성\":\n",
    "    print(\"성인 남성입니다\")"
   ]
  },
  {
   "cell_type": "markdown",
   "metadata": {},
   "source": [
    "### 조건 연산자"
   ]
  },
  {
   "cell_type": "code",
   "execution_count": 11,
   "metadata": {},
   "outputs": [
    {
     "name": "stdout",
     "output_type": "stream",
     "text": [
      "미성년자\n"
     ]
    }
   ],
   "source": [
    "age=int(input(\"나이\"))\n",
    "\n",
    "adult= (\"성인\" if age>=20 else \"미성년자\")\n",
    "print(adult)"
   ]
  },
  {
   "cell_type": "markdown",
   "metadata": {},
   "source": [
    "### 예외처리"
   ]
  },
  {
   "cell_type": "code",
   "execution_count": 13,
   "metadata": {},
   "outputs": [
    {
     "name": "stdout",
     "output_type": "stream",
     "text": [
      "0으로 나눌 수 없습니다\n"
     ]
    }
   ],
   "source": [
    "try:\n",
    "    num = 3/0\n",
    "    print(num)\n",
    "except:\n",
    "    print(\"0으로 나눌 수 없습니다\")"
   ]
  },
  {
   "cell_type": "code",
   "execution_count": 15,
   "metadata": {},
   "outputs": [
    {
     "name": "stdout",
     "output_type": "stream",
     "text": [
      "hello\n",
      "world\n",
      "123\n"
     ]
    }
   ],
   "source": [
    "astr='123'\n",
    "\n",
    "try:\n",
    "    print('hello')\n",
    "    isInt= int(astr)\n",
    "    print('world')\n",
    "except:\n",
    "    isInt= \"int로 변환할 수 없습니다\"\n",
    "\n",
    "print('Done', isInt)"
   ]
  },
  {
   "cell_type": "markdown",
   "metadata": {},
   "source": [
    "### 퀴즈 "
   ]
  },
  {
   "cell_type": "code",
   "execution_count": 18,
   "metadata": {},
   "outputs": [
    {
     "name": "stdout",
     "output_type": "stream",
     "text": [
      "짝수\n"
     ]
    }
   ],
   "source": [
    "a= int(input(\"정수를 입력하세요:\"))\n",
    "\n",
    "if a%2==0:\n",
    "    print(\"짝수\")\n",
    "else:\n",
    "    print(\"홀수\") "
   ]
  },
  {
   "cell_type": "code",
   "execution_count": 39,
   "metadata": {},
   "outputs": [
    {
     "name": "stdout",
     "output_type": "stream",
     "text": [
      "세 정수: 4 1 0\n",
      "가장 큰 수: 4\n"
     ]
    }
   ],
   "source": [
    "a= int(input(\"첫 번째 정수를 입력:\"))\n",
    "b= int(input(\"두 번째 정수를 입력:\"))\n",
    "c= int(input(\"세 번째 정수를 입력:\"))\n",
    "\n",
    "max=a\n",
    "\n",
    "if max<b:\n",
    "    max=b\n",
    "if max<c:\n",
    "    max=c\n",
    "\n",
    "print(\"세 정수:\", a, b, c)\n",
    "print(\"가장 큰 수:\", max)"
   ]
  },
  {
   "cell_type": "markdown",
   "metadata": {},
   "source": [
    "### 단축키\n",
    "1. 셀 삭제 DD\n",
    "2. 셀 아래로 추가 B \n",
    "3. 셀 위로 추가 A\n",
    "\n",
    "### 마크다운\n",
    "1. esc + M\n"
   ]
  },
  {
   "cell_type": "markdown",
   "metadata": {},
   "source": [
    "## 퀴즈 1주차\n",
    "### 3월 4일  "
   ]
  },
  {
   "cell_type": "code",
   "execution_count": 3,
   "metadata": {},
   "outputs": [
    {
     "name": "stdout",
     "output_type": "stream",
     "text": [
      "바꾸기 전: 1 2\n",
      "바꾼 후: 2 1\n"
     ]
    }
   ],
   "source": [
    "a=int(input(\"첫 번째 정수를 입력하세요:\"))\n",
    "b=int(input(\"두 번째 정수를 입력하세요:\"))\n",
    "\n",
    "print(\"바꾸기 전:\", a, b)\n",
    "\n",
    "tmp=a\n",
    "a=b\n",
    "b=tmp\n",
    "\n",
    "print(\"바꾼 후:\", a, b)"
   ]
  },
  {
   "cell_type": "markdown",
   "metadata": {},
   "source": [
    "#### 세자리 입력 후 한 자리씩 출력하기"
   ]
  },
  {
   "cell_type": "code",
   "execution_count": 1,
   "metadata": {},
   "outputs": [
    {
     "name": "stdout",
     "output_type": "stream",
     "text": [
      "첫 번째 자리: 1\n",
      "두 번째 자리: 2\n",
      "세 번째 자리: 3\n"
     ]
    }
   ],
   "source": [
    "a=int(input(\"세 자리 정수를 입력하세요:\"))\n",
    "\n",
    "a1=a//100\n",
    "a2=a%100//10\n",
    "a3=a%100%10\n",
    "\n",
    "print(\"첫 번째 자리:\", a1)\n",
    "print(\"두 번째 자리:\", a2)\n",
    "print(\"세 번째 자리:\", a3)"
   ]
  }
 ],
 "metadata": {
  "kernelspec": {
   "display_name": "py37",
   "language": "python",
   "name": "python3"
  },
  "language_info": {
   "codemirror_mode": {
    "name": "ipython",
    "version": 3
   },
   "file_extension": ".py",
   "mimetype": "text/x-python",
   "name": "python",
   "nbconvert_exporter": "python",
   "pygments_lexer": "ipython3",
   "version": "3.7.12"
  }
 },
 "nbformat": 4,
 "nbformat_minor": 2
}
