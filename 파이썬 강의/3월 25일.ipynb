{
 "cells": [
  {
   "cell_type": "markdown",
   "metadata": {},
   "source": [
    "#### 리스트와 딕셔너리"
   ]
  },
  {
   "cell_type": "code",
   "execution_count": null,
   "metadata": {},
   "outputs": [],
   "source": [
    "arr1=[\"l love\", \"python\"]\n",
    "arr2=[1, 3, 7]\n",
    "\n",
    "print(arr1[1])\n",
    "print(arr1[0]+arr1[1])\n",
    "print(arr1[2])\n",
    "print(arr1[1])\n",
    "print(arr1[1])"
   ]
  },
  {
   "cell_type": "code",
   "execution_count": 10,
   "metadata": {},
   "outputs": [],
   "source": [
    "list1=[1,2,3,4,5,6,7,8,9]\n",
    "\n",
    "#list1[:7]"
   ]
  },
  {
   "cell_type": "code",
   "execution_count": 11,
   "metadata": {},
   "outputs": [
    {
     "data": {
      "text/plain": [
       "1"
      ]
     },
     "execution_count": 11,
     "metadata": {},
     "output_type": "execute_result"
    }
   ],
   "source": [
    "list1.pop(0)"
   ]
  },
  {
   "cell_type": "code",
   "execution_count": 12,
   "metadata": {},
   "outputs": [
    {
     "name": "stdout",
     "output_type": "stream",
     "text": [
      "2\n",
      "3\n",
      "4\n",
      "5\n",
      "6\n",
      "7\n",
      "8\n",
      "9\n"
     ]
    }
   ],
   "source": [
    "for i in list1:\n",
    "    print(i)"
   ]
  },
  {
   "cell_type": "code",
   "execution_count": 36,
   "metadata": {},
   "outputs": [
    {
     "data": {
      "text/plain": [
       "[0, 2, 4, 6, 8, 10]"
      ]
     },
     "execution_count": 36,
     "metadata": {},
     "output_type": "execute_result"
    }
   ],
   "source": [
    "list2=[i for i in range(11) if i%2==0]\n",
    "list2\n"
   ]
  },
  {
   "cell_type": "code",
   "execution_count": 37,
   "metadata": {},
   "outputs": [
    {
     "data": {
      "text/plain": [
       "10"
      ]
     },
     "execution_count": 37,
     "metadata": {},
     "output_type": "execute_result"
    }
   ],
   "source": [
    "list2.pop()\n"
   ]
  },
  {
   "cell_type": "code",
   "execution_count": 41,
   "metadata": {},
   "outputs": [
    {
     "name": "stdout",
     "output_type": "stream",
     "text": [
      "[0, 2, 4, 6, 8]\n"
     ]
    }
   ],
   "source": [
    "print(list2)\n"
   ]
  },
  {
   "cell_type": "markdown",
   "metadata": {},
   "source": [
    "#### 모를 수 있는 것"
   ]
  },
  {
   "cell_type": "code",
   "execution_count": 39,
   "metadata": {},
   "outputs": [
    {
     "name": "stdout",
     "output_type": "stream",
     "text": [
      "[0, 4, 16, 36]\n",
      "[0, 4, 16, 36]\n"
     ]
    }
   ],
   "source": [
    "odd=[i**2 for i in range(10) if i%2==0]\n",
    "odd1=odd\n",
    "odd.pop()\n",
    "\n",
    "print(odd)\n",
    "print(odd1)"
   ]
  },
  {
   "cell_type": "code",
   "execution_count": 40,
   "metadata": {},
   "outputs": [
    {
     "name": "stdout",
     "output_type": "stream",
     "text": [
      "[0, 4, 16, 36]\n",
      "[0, 4, 16, 36, 64]\n"
     ]
    }
   ],
   "source": [
    "odd=[i**2 for i in range(10) if i%2==0]\n",
    "odd1=odd.copy()\n",
    "odd.pop()\n",
    "\n",
    "print(odd)\n",
    "print(odd1)"
   ]
  },
  {
   "cell_type": "markdown",
   "metadata": {},
   "source": [
    "#### 퀴즈1"
   ]
  },
  {
   "cell_type": "code",
   "execution_count": 42,
   "metadata": {},
   "outputs": [
    {
     "name": "stdout",
     "output_type": "stream",
     "text": [
      "정수를 입력: 3\n",
      "[1, 2, 4, 5]\n",
      "\n",
      "정수를 입력: 5\n",
      "[1, 2, 4]\n",
      "\n",
      "정수를 입력: 7\n",
      "[1, 2, 4, 7]\n",
      "\n"
     ]
    },
    {
     "ename": "ValueError",
     "evalue": "invalid literal for int() with base 10: ''",
     "output_type": "error",
     "traceback": [
      "\u001b[1;31m---------------------------------------------------------------------------\u001b[0m",
      "\u001b[1;31mValueError\u001b[0m                                Traceback (most recent call last)",
      "\u001b[1;32m~\\AppData\\Local\\Temp\\ipykernel_13516\\1241142441.py\u001b[0m in \u001b[0;36m<module>\u001b[1;34m\u001b[0m\n\u001b[0;32m      3\u001b[0m \u001b[1;33m\u001b[0m\u001b[0m\n\u001b[0;32m      4\u001b[0m \u001b[1;32mwhile\u001b[0m \u001b[1;32mTrue\u001b[0m\u001b[1;33m:\u001b[0m\u001b[1;33m\u001b[0m\u001b[1;33m\u001b[0m\u001b[0m\n\u001b[1;32m----> 5\u001b[1;33m     \u001b[0ma\u001b[0m\u001b[1;33m=\u001b[0m\u001b[0mint\u001b[0m\u001b[1;33m(\u001b[0m\u001b[0minput\u001b[0m\u001b[1;33m(\u001b[0m\u001b[1;33m)\u001b[0m\u001b[1;33m)\u001b[0m\u001b[1;33m\u001b[0m\u001b[1;33m\u001b[0m\u001b[0m\n\u001b[0m\u001b[0;32m      6\u001b[0m     \u001b[0mprint\u001b[0m\u001b[1;33m(\u001b[0m\u001b[1;34m\"정수를 입력:\"\u001b[0m\u001b[1;33m,\u001b[0m \u001b[0ma\u001b[0m\u001b[1;33m)\u001b[0m\u001b[1;33m\u001b[0m\u001b[1;33m\u001b[0m\u001b[0m\n\u001b[0;32m      7\u001b[0m \u001b[1;33m\u001b[0m\u001b[0m\n",
      "\u001b[1;31mValueError\u001b[0m: invalid literal for int() with base 10: ''"
     ]
    }
   ],
   "source": [
    "myList=[i for i in range(1, 6)]\n",
    "\n",
    "\n",
    "while True:\n",
    "    a=int(input())\n",
    "    print(\"정수를 입력:\", a)\n",
    "\n",
    "    if a in myList:\n",
    "        myList.remove(a)\n",
    "        print(f\"{myList}\")\n",
    "    else:\n",
    "        myList.append(a)\n",
    "        print(f\"{myList}\")\n",
    "\n",
    "    print()"
   ]
  },
  {
   "cell_type": "code",
   "execution_count": 44,
   "metadata": {},
   "outputs": [
    {
     "data": {
      "text/plain": [
       "2"
      ]
     },
     "execution_count": 44,
     "metadata": {},
     "output_type": "execute_result"
    }
   ],
   "source": [
    "dict={'a':1, 'b':2, 'c':3}\n",
    "\n",
    "dict['b']"
   ]
  },
  {
   "cell_type": "code",
   "execution_count": 47,
   "metadata": {},
   "outputs": [
    {
     "data": {
      "text/plain": [
       "{'a': 1, 'b': 3, 'c': 3, 'd': 4}"
      ]
     },
     "execution_count": 47,
     "metadata": {},
     "output_type": "execute_result"
    }
   ],
   "source": [
    "dict['b']=3\n",
    "dict['d']=4\n",
    "dict"
   ]
  },
  {
   "cell_type": "code",
   "execution_count": 49,
   "metadata": {},
   "outputs": [
    {
     "name": "stdout",
     "output_type": "stream",
     "text": [
      "a\n",
      "b\n",
      "c\n",
      "d\n"
     ]
    }
   ],
   "source": [
    "for key in dict:\n",
    "    print(key)"
   ]
  },
  {
   "cell_type": "code",
   "execution_count": 53,
   "metadata": {},
   "outputs": [
    {
     "name": "stdout",
     "output_type": "stream",
     "text": [
      "a 1\n",
      "b 3\n",
      "c 3\n",
      "d 4\n",
      "1\n",
      "3\n",
      "3\n",
      "4\n"
     ]
    }
   ],
   "source": [
    "for key, value in dict.items():\n",
    "    print(key, value)\n",
    "\n",
    "for value in dict.values():\n",
    "    print(value)"
   ]
  },
  {
   "cell_type": "code",
   "execution_count": 55,
   "metadata": {},
   "outputs": [
    {
     "name": "stdout",
     "output_type": "stream",
     "text": [
      "알파벳를 입력: a\n",
      "과일를 입력: aaa\n",
      "{'a': 'aaa', 'b': 'banana', 'c': 'coconut', 'd': 'durian'}\n",
      "\n",
      "알파벳를 입력: g\n",
      "과일를 입력: sss\n",
      "{'a': 'aaa', 'b': 'banana', 'c': 'coconut', 'd': 'durian', 'g': 'sss'}\n",
      "\n",
      "알파벳를 입력: \n",
      "과일를 입력: \n",
      "{'a': 'aaa', 'b': 'banana', 'c': 'coconut', 'd': 'durian', 'g': 'sss', '': ''}\n",
      "\n",
      "알파벳를 입력: \n",
      "과일를 입력: \n",
      "{'a': '', 'b': 'banana', 'c': 'coconut', 'd': 'durian', 'g': 'sss', '': ''}\n",
      "\n",
      "알파벳를 입력: \n",
      "과일를 입력: \n",
      "{'a': '', 'b': 'banana', 'c': 'coconut', 'd': 'durian', 'g': 'sss', '': ''}\n",
      "\n",
      "알파벳를 입력: \n",
      "과일를 입력: \n",
      "{'a': '', 'b': 'banana', 'c': 'coconut', 'd': 'durian', 'g': 'sss', '': ''}\n",
      "\n"
     ]
    }
   ],
   "source": [
    "dict1={'a':'apple', 'b':'banana', 'c':'coconut', 'd':'durian'}\n",
    "\n",
    "\n",
    "while True:\n",
    "    a=input()\n",
    "    print(\"알파벳를 입력:\", a)\n",
    "\n",
    "    b=input()\n",
    "    print(\"과일를 입력:\", b)\n",
    "\n",
    "    if a in dict1:\n",
    "        dict1['a']=b\n",
    "        print(f\"{dict1}\")\n",
    "    else:\n",
    "        dict1[a]=b\n",
    "        print(f\"{dict1}\")\n",
    "\n",
    "    print()"
   ]
  },
  {
   "cell_type": "code",
   "execution_count": null,
   "metadata": {},
   "outputs": [],
   "source": []
  },
  {
   "cell_type": "code",
   "execution_count": null,
   "metadata": {},
   "outputs": [],
   "source": []
  },
  {
   "cell_type": "code",
   "execution_count": null,
   "metadata": {},
   "outputs": [],
   "source": []
  }
 ],
 "metadata": {
  "kernelspec": {
   "display_name": "AI-py37",
   "language": "python",
   "name": "python3"
  },
  "language_info": {
   "codemirror_mode": {
    "name": "ipython",
    "version": 3
   },
   "file_extension": ".py",
   "mimetype": "text/x-python",
   "name": "python",
   "nbconvert_exporter": "python",
   "pygments_lexer": "ipython3",
   "version": "3.7.12"
  }
 },
 "nbformat": 4,
 "nbformat_minor": 2
}
